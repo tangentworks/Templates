{
 "cells": [
  {
   "cell_type": "markdown",
   "id": "4839d251-7e4e-4e22-82c3-fe9f5c1e57d5",
   "metadata": {},
   "source": [
    "# TIM Python Client - Tutorial - Setup"
   ]
  },
  {
   "cell_type": "markdown",
   "id": "38d8dba7-a417-4a9e-8bbf-ccc69dfd9ec8",
   "metadata": {},
   "source": [
    "Welcome to this tutorial for using the Python Client for TIM. Before we get started with building models and predictions with TIM we will setup our working environment within the platform."
   ]
  },
  {
   "cell_type": "markdown",
   "id": "e008b64c-35ca-4431-a8a8-56f59f257b32",
   "metadata": {},
   "source": [
    "Make sure you have the latest version of the TIM Python Client installed. Please visit https://pypi.org/project/tim-client/ and https://docs.tangent.works/docs/TIM-Clients/Python-Client/Installation for more information."
   ]
  },
  {
   "cell_type": "markdown",
   "id": "b179f6aa-7684-4052-a924-57ad874b2ea3",
   "metadata": {},
   "source": [
    "To activate the client and use the client we will import the TIM library and other supporting libraries into this notebook. Attached to this tutorial you will find a JSON-file called tim_credentials.json. Please write your username and password into to JSON to be able to authenicate your connection to TIM."
   ]
  },
  {
   "cell_type": "code",
   "execution_count": 18,
   "id": "d38ebc3f-2449-4b78-b9cd-5d61454b230d",
   "metadata": {},
   "outputs": [],
   "source": [
    "import json\n",
    "import os"
   ]
  },
  {
   "cell_type": "code",
   "execution_count": 4,
   "id": "6985b206-39f7-4b36-b2f0-62f51bbf369c",
   "metadata": {},
   "outputs": [],
   "source": [
    "import tim\n",
    "tim_credentials = json.load(open('tim_credentials.json'))\n",
    "client = tim.Tim(email=tim_credentials['email'],password=tim_credentials['password'])"
   ]
  },
  {
   "cell_type": "markdown",
   "id": "a419e678-0269-4fc0-be52-b494413efe94",
   "metadata": {},
   "source": [
    "The TIM Platform allows you to organize your work with TIM on different levels.\n",
    "- __User groups__:  \n",
    "User groups allow you to work on the same topics with the other users on your license. \n",
    "- __Workspaces__:  \n",
    "Under each user group workspaces can be created to work on specific topics.  \n",
    "On this level we will add and manage the datasets we want to analyze with TIM. \n",
    "- __Use Cases__:  \n",
    "Under each workspace use cases can be created to analyze the dataset which exist within the workspace.  \n",
    "Each dataset can be analyzed in multiple use cases. A use case does not manage multiple datasets.\n",
    "- __Experiments__:  \n",
    "Under each use case experiments can be created. On this level we make the distinction between forecasting and anomaly detection.  \n",
    "The experiments will contain all the model and prediction jobs.  \n",
    " \n",
    "The TIM Python Client is organized in two major fields: API Endpoint connection methods and Extended functions.\n",
    "- __Endpoint methods__:  \n",
    "The endpoint methods allow you to access each individual endpoint in the TIM REST API.  \n",
    "You can visit the API here: https://tim-platform.tangent.works/api/v5/swagger-ui.html#/  \n",
    "With these methods you have full flexibility to communicate directly will all capabilities of the TIM Platform.  \n",
    "For example:"
   ]
  },
  {
   "cell_type": "code",
   "execution_count": 7,
   "id": "b3413765-e2b2-42c2-a119-87405e047e1c",
   "metadata": {},
   "outputs": [],
   "source": [
    "# client.forecasting.build_model()"
   ]
  },
  {
   "cell_type": "markdown",
   "id": "4a146651-a32e-496b-b038-5651d0cf3860",
   "metadata": {},
   "source": [
    "This method registers a forecasting build model job in TIM. "
   ]
  },
  {
   "cell_type": "markdown",
   "id": "45cf86d2-ead7-4b8c-8aa2-5e6412505747",
   "metadata": {},
   "source": [
    "- __Extended functions__:  \n",
    "The extended functions are built on top of the endpoint methods and combine several endpoints together to facilitate the work with TIM.  \n",
    "With these functions you can quickly get started with TIM and leverage the API efficiently.  \n",
    "For example:"
   ]
  },
  {
   "cell_type": "code",
   "execution_count": 8,
   "id": "7d046e2d-6faa-4036-8485-63ac2df3ec8a",
   "metadata": {},
   "outputs": [],
   "source": [
    "# client.extended_forecasting.build_model()"
   ]
  },
  {
   "cell_type": "markdown",
   "id": "2b536212-478a-494e-9385-6ae0312a1c0d",
   "metadata": {},
   "source": [
    "This method can register and execute a forecasting build model job in TIM, check the status of the job and collect results back from TIM.  \n",
    "This goes well beyond the endpoint method with the same name. More details about the use of these functions will follow in this tutorial."
   ]
  },
  {
   "cell_type": "markdown",
   "id": "96a7cbb3-f0d5-4b31-b968-511a35b59347",
   "metadata": {
    "tags": []
   },
   "source": [
    "## ------------------------------------------------ Workflow ------------------------------------------------"
   ]
  },
  {
   "cell_type": "markdown",
   "id": "e5ce0434-0c66-4deb-b0ed-9888b9995372",
   "metadata": {},
   "source": [
    "We will create a workflow in TIM to organize ourselves in this tutorial and make efficient use of the TIM Platform.  \n",
    "This section will provide you with the necessary insights and capabilities to work on large scale and volume use cases with TIM.  \n",
    "First, let's create a folder to store and keep trace of the id's of TIM objects (such as user groups and workspaces ...) we are going to create."
   ]
  },
  {
   "cell_type": "code",
   "execution_count": 20,
   "id": "f70d193d-8df8-4a78-90ee-b3fa9eb20e93",
   "metadata": {},
   "outputs": [],
   "source": [
    "if not os.path.exists('tim_workflow'):\n",
    "    os.makedirs('tim_workflow')"
   ]
  },
  {
   "cell_type": "markdown",
   "id": "f7313b84-9d0c-4a2c-8a34-ddc59051e146",
   "metadata": {},
   "source": [
    "Secondly, let's collect your user_id from TIM."
   ]
  },
  {
   "cell_type": "code",
   "execution_count": 12,
   "id": "3fff8f26-0190-44fe-829b-2c7bc84caf4d",
   "metadata": {},
   "outputs": [],
   "source": [
    "users_details_user = client.users.details_user()\n",
    "user_id = users_details_user['id']"
   ]
  },
  {
   "cell_type": "markdown",
   "id": "35531915-42bf-4336-b6f0-a639f9fb1a46",
   "metadata": {
    "tags": []
   },
   "source": [
    "### 1. User groups"
   ]
  },
  {
   "cell_type": "markdown",
   "id": "4edb0593-16a9-4c5d-83e6-e7aa084864eb",
   "metadata": {},
   "source": [
    "Next we will create a user group called \"Tutorial\". For this we will use the method below and provide it with a user group configuration. The configuration needs to contain a name and one or more user id's. Set the ownership to \"True\" which allows you to make changes to the user group later if needed. You can also add a description if needed."
   ]
  },
  {
   "cell_type": "code",
   "execution_count": 22,
   "id": "64557e06-74fb-491e-96b2-151266de4cc5",
   "metadata": {},
   "outputs": [],
   "source": [
    "create_user_group_configuration = {\n",
    "  \"name\": \"Tutorial\",\n",
    "  \"description\": \"This user group contains all work from the TIM Tutorials.\",\n",
    "  \"users\": [\n",
    "    {\n",
    "      \"id\": user_id,\n",
    "      \"isOwner\": True\n",
    "    }\n",
    "  ]\n",
    "}"
   ]
  },
  {
   "cell_type": "markdown",
   "id": "c6c6b62d-b393-4be0-bf75-c7f889cdfe36",
   "metadata": {},
   "source": [
    "Running the next method will create the configured user group within the TIM platform."
   ]
  },
  {
   "cell_type": "code",
   "execution_count": 24,
   "id": "eec99278-43f5-43f3-a3eb-f52216766ba3",
   "metadata": {},
   "outputs": [
    {
     "data": {
      "text/plain": [
       "{'name': 'Tutorial',\n",
       " 'createdBy': 'fa4b9fce-f6f6-4f07-bab1-5814a537c413',\n",
       " 'id': '92d09891-9a8b-4b06-94d6-fe8c7c719bc3',\n",
       " 'createdAt': '2023-04-06T09:26:13.392Z',\n",
       " 'description': 'This user group contains all work from the TIM Tutorials.'}"
      ]
     },
     "execution_count": 24,
     "metadata": {},
     "output_type": "execute_result"
    }
   ],
   "source": [
    "create_user_group_response = client.user_groups.create_user_group(configuration = create_user_group_configuration)\n",
    "create_user_group_response"
   ]
  },
  {
   "cell_type": "markdown",
   "id": "654f396f-0516-44c9-a892-021fecf65db2",
   "metadata": {},
   "source": [
    "We will save this JSON in the workflow directory for later use and already collect the user_group_id to continue."
   ]
  },
  {
   "cell_type": "code",
   "execution_count": 27,
   "id": "3a7e36d5-4d08-4cbb-99d6-51db661e5def",
   "metadata": {},
   "outputs": [],
   "source": [
    "json.dump(create_user_group_response,open(\"./tim_workflow/tim_user_group.json\", \"w\"))\n",
    "user_group_id = create_user_group_response['id']"
   ]
  },
  {
   "cell_type": "markdown",
   "id": "9f0fa44e-608e-43e8-8319-0a4cfa1ae1b2",
   "metadata": {},
   "source": [
    "Make sure not to run the create_user_group method again since that will create another user group with the same name.  \n",
    "To check if the \"Tutorial\" user group already exists, you can run the following code sample."
   ]
  },
  {
   "cell_type": "code",
   "execution_count": 36,
   "id": "79f5d393-b89b-4622-b7cc-734a3d20b2bc",
   "metadata": {},
   "outputs": [
    {
     "data": {
      "text/plain": [
       "[{'name': 'Tutorial',\n",
       "  'createdBy': 'fa4b9fce-f6f6-4f07-bab1-5814a537c413',\n",
       "  'id': '92d09891-9a8b-4b06-94d6-fe8c7c719bc3',\n",
       "  'createdAt': '2023-04-06T09:26:13.392Z',\n",
       "  'description': 'This user group contains all work from the TIM Tutorials.'}]"
      ]
     },
     "execution_count": 36,
     "metadata": {},
     "output_type": "execute_result"
    }
   ],
   "source": [
    "user_group_list = client.user_groups.list_user_group()\n",
    "[f for f in user_group_list if f['name'] == 'Tutorial']"
   ]
  },
  {
   "cell_type": "markdown",
   "id": "a4c86472-d227-4594-a28e-9e49affb2d55",
   "metadata": {
    "tags": []
   },
   "source": [
    "### 2. Workspaces"
   ]
  },
  {
   "cell_type": "markdown",
   "id": "ad8f453a-03df-4034-8567-369a0368f11c",
   "metadata": {},
   "source": [
    "Now we will create a workspace in our tutorial user group. You have to set a name and specify the user group.  \n",
    "You can also add a description and flag this workspace as a favorite. "
   ]
  },
  {
   "cell_type": "code",
   "execution_count": 38,
   "id": "0bca9744-fc44-4633-8abf-3b06670e4829",
   "metadata": {},
   "outputs": [],
   "source": [
    "create_workspace_configuration = {\n",
    "    \"name\": \"Python Client\",\n",
    "    \"description\": \"This workspace contains all the content created in the TIM Python Client Tutorial.\",\n",
    "    \"userGroup\": {\n",
    "        \"id\": user_group_id\n",
    "    },\n",
    "    # \"isFavorite\": True\n",
    "}"
   ]
  },
  {
   "cell_type": "code",
   "execution_count": 40,
   "id": "86592960-5f60-4443-8183-9b49739f88ad",
   "metadata": {},
   "outputs": [
    {
     "data": {
      "text/plain": [
       "{'name': 'Python Client',\n",
       " 'userGroup': {'name': 'Tutorial',\n",
       "  'id': '92d09891-9a8b-4b06-94d6-fe8c7c719bc3'},\n",
       " 'createdBy': 'fa4b9fce-f6f6-4f07-bab1-5814a537c413',\n",
       " 'id': '6b851db4-6a94-42a9-85aa-ead557bc79da',\n",
       " 'description': 'This workspace contains all the content created in the TIM Python Client Tutorial.',\n",
       " 'createdAt': '2023-04-06T09:40:44.661Z'}"
      ]
     },
     "execution_count": 40,
     "metadata": {},
     "output_type": "execute_result"
    }
   ],
   "source": [
    "create_workspace_response = client.workspaces.create_workspace(configuration = create_workspace_configuration)\n",
    "create_workspace_response"
   ]
  },
  {
   "cell_type": "markdown",
   "id": "8e6e2999-95d2-4339-bda3-eb895576b882",
   "metadata": {},
   "source": [
    "We will store the workspace information in our workflow folder and we can do the same check with the workspace as we did above with the user groups in case the workspace already exists."
   ]
  },
  {
   "cell_type": "code",
   "execution_count": 43,
   "id": "3802b095-ba81-4874-b837-a8b7787389d4",
   "metadata": {},
   "outputs": [
    {
     "data": {
      "text/plain": [
       "[{'name': 'Python Client',\n",
       "  'userGroup': {'name': 'Tutorial',\n",
       "   'id': '92d09891-9a8b-4b06-94d6-fe8c7c719bc3'},\n",
       "  'createdBy': 'fa4b9fce-f6f6-4f07-bab1-5814a537c413',\n",
       "  'isFavorite': False,\n",
       "  'id': '6b851db4-6a94-42a9-85aa-ead557bc79da',\n",
       "  'createdAt': '2023-04-06T09:40:44.661Z',\n",
       "  'description': 'This workspace contains all the content created in the TIM Python Client Tutorial.'}]"
      ]
     },
     "execution_count": 43,
     "metadata": {},
     "output_type": "execute_result"
    }
   ],
   "source": [
    "json.dump(create_workspace_response,open(\"./tim_workflow/tim_workspace.json\", \"w\"))\n",
    "workspace_id = create_workspace_response['id']\n",
    "\n",
    "workspace_list = client.workspaces.list_workspace(user_group_id = user_group_id)\n",
    "[f for f in workspace_list if f['name'] == 'Python Client']"
   ]
  },
  {
   "cell_type": "markdown",
   "id": "4d84d888-6bd0-460c-803d-7f0f8cc56d03",
   "metadata": {
    "tags": []
   },
   "source": [
    "## ------------------------------------------------ Next steps - Templates ------------------------------------------------"
   ]
  },
  {
   "cell_type": "markdown",
   "id": "d2bc8d96-8d62-41ac-89d5-cec53d520179",
   "metadata": {},
   "source": [
    "Now that we have set up our tutorial environment, we can start building models with TIM.  \n",
    "For this, we can use the template notebooks listed below. You can find the notebooks in the template folder. "
   ]
  },
  {
   "cell_type": "markdown",
   "id": "5c7f0a4b-ec8a-4eae-bd1c-64b6f47ebd06",
   "metadata": {},
   "source": [
    "### 1. Forecasting"
   ]
  },
  {
   "cell_type": "markdown",
   "id": "afc8d787-0e28-4bc3-85ad-9f43e758ea80",
   "metadata": {},
   "source": [
    "Many different scenarios exist in time series forecasting. To accomodate these different cases, TIM offers several forecasting capabilities.  \n",
    "Depending on the type of case, the phase of your analysis, the industry related to the case, ... you can choose from the different templates below.  \n",
    "  \n",
    "Typically, a TIM user starts with a simple forecast and backtest. Next, a more in depth analysis of the performance of TIM is executed before moving towards a full implementation of a forecasting data pipeline in production. The first 3 templates follow these scenarios.  "
   ]
  },
  {
   "cell_type": "markdown",
   "id": "703781f0-a6a8-4528-9a05-b7ee66d2a772",
   "metadata": {},
   "source": [
    "#### 1.1 Quick Forecast"
   ]
  },
  {
   "cell_type": "markdown",
   "id": "90745ad5-8fb5-421e-bdf8-5e720b8d4271",
   "metadata": {},
   "source": [
    "In this template you will learn to use the quick_forecast function. This extended function is very useful for quick experimenting on a new dataset and perform a simple backtest. This will allow you to achieve the following:\n",
    "- Understand TIM's forecasting capabilities\n",
    "- Learn what outputs can be extracted from TIM.\n",
    "- Explore your dataset and quickly find the predictive value within."
   ]
  },
  {
   "cell_type": "markdown",
   "id": "db9ea62e-802e-47d9-ab9b-668d717416b0",
   "metadata": {
    "tags": []
   },
   "source": [
    "#### 1.2 Forecast Simulation"
   ]
  },
  {
   "cell_type": "markdown",
   "id": "cf4cafed-ee06-4160-bff3-da658c0b1f8a",
   "metadata": {},
   "source": [
    "The forecast simulation template allows you to go beyond a simple backtest and learn how TIM would perform in a real production forecasting scenario.\n",
    "In the notebook you can describe your simulation scenario and set up a continuous model building process. A range of simulation datetimes are chosen as the point of view from which the models are built. \n",
    "The script ensures the data situation from those datetimes are shared with TIM to avoid data leakage. From there all datetimes in the simulation range are sent to TIM in parallel to provide a quick answer to the question: What would have been the real accuracy of TIM throughout this simulation period?\n",
    "From this template you will learn the following:\n",
    "- Get a clear picture on the performance of TIM.\n",
    "- Learn insights about the evolution over time of predictive patterns in the data."
   ]
  },
  {
   "cell_type": "markdown",
   "id": "c448954f-322d-4702-b589-374ebf937392",
   "metadata": {},
   "source": [
    "#### 1.3 Production Forecast"
   ]
  },
  {
   "cell_type": "markdown",
   "id": "eee5dd23-3154-4ab9-b684-e6f411b06c23",
   "metadata": {},
   "source": [
    "The production forecast template can be used as an example to set up an automated end-to-end MLOps process with TIM. In this template, a synthetic dataset based on a real data is used to simulate a data source. This allows us to run the template and showcase the flow of data through the MLOps.  \n",
    "After learning how to use this template, you can adapt the data source to a live database and immediately start the forecasting process.  \n",
    "From this template you will learn the following:  \n",
    "- Set up a production forecast process.\n",
    "- Automate continuous model building with TIM. "
   ]
  },
  {
   "cell_type": "markdown",
   "id": "3621be89-0fba-4f4a-ad83-86763ddaa78f",
   "metadata": {
    "tags": []
   },
   "source": [
    "### 2. Detection"
   ]
  },
  {
   "cell_type": "markdown",
   "id": "01e6cdfc-f4f3-4e5a-83e1-4038263cd651",
   "metadata": {},
   "source": [
    "Many different scenarios exist in time series forecasting. To accomodate these different cases, TIM offers several detection capabilities.  \n",
    "Depending on the type of case, the phase of your analysis, the industry related to the case, ... you can choose from the different templates below.  \n",
    "  \n",
    "Typically, a TIM user starts with detecting anomalies general anomalies in the entire dataset. Next, the user can focus on finding anomalies in specific variables.  \n",
    "Furthermore, a more in depth analysis of the performance of TIM is executed before moving towards a full implementation of a forecasting data pipeline in production.  \n",
    "The first 4 templates follow these scenarios.  "
   ]
  },
  {
   "cell_type": "markdown",
   "id": "13d0b742-ab75-4702-87f6-62b7012aaf85",
   "metadata": {},
   "source": [
    "#### 2.1 System Driven Anomaly Detection"
   ]
  },
  {
   "cell_type": "markdown",
   "id": "49a155f6-c252-456c-b370-5a3f8f9220dc",
   "metadata": {},
   "source": [
    "System driven anomaly detection allows the user to identify the periods in the data where anomalies across all variables occur.  \n",
    "In this template you will learn:\n",
    "- receive a list of automatically detected anomalies.\n",
    "- to use the system driven anomaly detection method and function.\n",
    "- get insights from an anomaly indicator."
   ]
  },
  {
   "cell_type": "markdown",
   "id": "ad43982c-99fd-45bb-87c6-9e93194ca345",
   "metadata": {},
   "source": [
    "#### 2.2 KPI Driven Anomaly Detection"
   ]
  },
  {
   "cell_type": "markdown",
   "id": "ca37324e-b75b-4faf-886f-f9e17896c3f8",
   "metadata": {},
   "source": [
    "With KPI driven anomaly detection the user can specify a specific variable and focus the anomaly detection process to an area of interest in the use case.\n",
    "Use this template to learn how to:\n",
    "- build a normal behavior model.\n",
    "- detect anomalies in a specific variable.\n",
    "- gain actionable insights from the model."
   ]
  },
  {
   "cell_type": "markdown",
   "id": "e44e16d8-9bc3-49b5-844c-5f1477bd29d4",
   "metadata": {},
   "source": [
    "#### 2.3 Detection simulation"
   ]
  },
  {
   "cell_type": "markdown",
   "id": "86a011d8-59f0-4e70-8faf-7bf4de803b4b",
   "metadata": {},
   "source": [
    "The detection simulation template shows what a live anomaly detection process looks like, and how live results can be leveraged to quickly alert the user of relevant anomalies. "
   ]
  },
  {
   "cell_type": "markdown",
   "id": "e1d4bb61-ae49-4f8a-902b-e847f6e5efe0",
   "metadata": {},
   "source": [
    "#### 2.4 Production Detection "
   ]
  },
  {
   "cell_type": "markdown",
   "id": "1f42d474-2a23-4fb2-8f29-1506b6bec4df",
   "metadata": {},
   "source": [
    "This script serves as a template to create a anomaly detection pipeline for the KPI driven approach.\n",
    "Here you can learn to schedule a model rebuilding process with live detections."
   ]
  }
 ],
 "metadata": {
  "kernelspec": {
   "display_name": "Python 3 (ipykernel)",
   "language": "python",
   "name": "python3"
  },
  "language_info": {
   "codemirror_mode": {
    "name": "ipython",
    "version": 3
   },
   "file_extension": ".py",
   "mimetype": "text/x-python",
   "name": "python",
   "nbconvert_exporter": "python",
   "pygments_lexer": "ipython3",
   "version": "3.11.1"
  }
 },
 "nbformat": 4,
 "nbformat_minor": 5
}
