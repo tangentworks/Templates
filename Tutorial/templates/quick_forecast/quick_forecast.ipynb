{
 "cells": [
  {
   "attachments": {},
   "cell_type": "markdown",
   "metadata": {
    "jp-MarkdownHeadingCollapsed": true,
    "tags": []
   },
   "source": [
    "# TIM Python Client - Quick Forecast"
   ]
  },
  {
   "attachments": {},
   "cell_type": "markdown",
   "metadata": {
    "tags": []
   },
   "source": [
    "# 0. Setup"
   ]
  },
  {
   "attachments": {},
   "cell_type": "markdown",
   "metadata": {},
   "source": [
    "Import the libraries necessary to run this notebook and set up the python client for TIM.\n",
    "Make sure to fill in your credentials for TIM in the JSON file."
   ]
  },
  {
   "cell_type": "code",
   "execution_count": 1,
   "metadata": {},
   "outputs": [],
   "source": [
    "import pandas as pd\n",
    "import json\n",
    "import os\n",
    "import plotly as plt\n",
    "import plotly.express as px\n",
    "import plotly.graph_objects as go\n",
    "import plotly.subplots as splt"
   ]
  },
  {
   "cell_type": "code",
   "execution_count": 2,
   "metadata": {},
   "outputs": [],
   "source": [
    "tutorial_path = os.path.dirname(os.path.dirname(os.getcwd()))"
   ]
  },
  {
   "cell_type": "code",
   "execution_count": 3,
   "metadata": {},
   "outputs": [],
   "source": [
    "import tim\n",
    "tim_credentials = json.load(open(tutorial_path+'/tim_credentials.json'))\n",
    "client = tim.Tim(email=tim_credentials['email'],password=tim_credentials['password'])"
   ]
  },
  {
   "attachments": {},
   "cell_type": "markdown",
   "metadata": {},
   "source": [
    "# 1. Data Preparation"
   ]
  },
  {
   "attachments": {},
   "cell_type": "markdown",
   "metadata": {},
   "source": [
    "In this example we use a part of the Belgian Electricity Grid dataset which is already preprocessed for use with TIM.\n",
    "The dataframe tim_dataset is what will eventually be sent to TIM. If you wish to adapt this file you can apply the necessary transformations here.\n",
    "The final dataframe is then visualized below in both a graph and a table."
   ]
  },
  {
   "cell_type": "code",
   "execution_count": 6,
   "metadata": {},
   "outputs": [],
   "source": [
    "csv_df = pd.read_csv(tutorial_path+'/datasets/belgian_electricity_grid.csv')"
   ]
  },
  {
   "cell_type": "code",
   "execution_count": 36,
   "metadata": {},
   "outputs": [],
   "source": [
    "tim_dataset = csv_df[csv_df['datetime']>='2021-01-01 00:00:00'].copy()\n",
    "timestamp = 'timestamp'\n",
    "target = 'quantity'\n",
    "predictors = [s for s in list(tim_dataset.columns) if s not in [timestamp,target]]\n",
    "tim_dataset = tim_dataset[[timestamp,target]+predictors].reset_index(drop=True)\n",
    "tim_dataset"
   ]
  },
  {
   "cell_type": "code",
   "execution_count": null,
   "metadata": {},
   "outputs": [],
   "source": [
    "v_data = tim_dataset\n",
    "fig = splt.make_subplots(rows=2, cols=1, shared_xaxes=True, vertical_spacing=0.02)\n",
    "fig.add_trace(go.Scatter(x=v_data[timestamp], y=v_data[target], name=target,connectgaps=True), row=1, col=1)\n",
    "for idx, p in enumerate(predictors): fig.add_trace(go.Scatter(x=v_data[timestamp], y=v_data[p], name=p,connectgaps=True), row=2, col=1)\n",
    "fig.update_layout(height=600, width=1200, title_text=\"Data visualization\")\n",
    "fig.show()    "
   ]
  },
  {
   "attachments": {},
   "cell_type": "markdown",
   "metadata": {},
   "source": [
    "# 2. TIM Setup"
   ]
  },
  {
   "attachments": {},
   "cell_type": "markdown",
   "metadata": {},
   "source": [
    "The configuration below shows you all the options you have for setting up a forecast job with TIM. As you can see there are many possibilities however, TIM will by default already apply quite a lot of settings for you automatically. In this example we only set the \"predictionTo\" to \"24\" to generate a 24 sample ahead forecast and we'll set the \"outOfSampleRows\" to 24 x 7 x 10 = 1680 samples to apply backtesting on the last 10 weeks of the dataset. All other parameters are commented (#) which means TIM will assume default settings for these parameters."
   ]
  },
  {
   "cell_type": "code",
   "execution_count": 39,
   "metadata": {},
   "outputs": [],
   "source": [
    "forecast_build_model_configuration = {\n",
    "#             \"name\": \"My first forecast job\",\n",
    "#             \"useCase\": {\"id\":\"61267a4c-a62e-495e-a237-8bc1b4f09a3b\"},\n",
    "#             \"experiment\": {\"id\":\"experimentId\"},\n",
    "            \"configuration\": {\n",
    "                \"predictionTo\": {\"baseUnit\": \"Sample\",\"value\": 24},\n",
    "#                 \"predictionFrom\": {\"baseUnit\": \"Sample\",\"value\": 1},\n",
    "#                 \"modelQuality\": \"Combined\",\n",
    "#                 \"normalization\": True,\n",
    "#                 \"maxModelComplexity\": 50,\n",
    "#                 \"features\": [\n",
    "#                    \"ExponentialMovingAverage\",\n",
    "#                     \"RestOfWeek\",\n",
    "#                     \"Periodic\",\n",
    "#                     \"Intercept\",\n",
    "#                     \"PiecewiseLinear\",\n",
    "#                     \"TimeOffsets\",\n",
    "#                     \"Polynomial\",\n",
    "#                     \"Identity\",\n",
    "#                     \"PublicHolidays\",      \n",
    "#                     \"SimpleMovingAverage\",\n",
    "#                     \"Month\",\n",
    "#                     \"Trend\",\n",
    "#                     \"DayOfWeek\",\n",
    "#                     \"Fourier\",\n",
    "#                     ],\n",
    "#                 \"dailyCycle\": False,\n",
    "#                 \"allowOffsets\": True,\n",
    "#                 \"offsetLimit\": {\"type\": \"Explicit\",\"value\": 0},\n",
    "#                 \"memoryLimitCheck\": True,\n",
    "#                  \"predictionIntervals\": 90,\n",
    "#                  \"predictionBoundaries\": {\"type\": \"Explicit\",\n",
    "#                      \"maxValue\": 750,\n",
    "#                     \"minValue\": 100\n",
    "#                      },\n",
    "#                 \"rollingWindow\": {\"baseUnit\": \"Sample\",\"value\": 1},\n",
    "#                 \"backtest\": \"All\"\n",
    "                },\n",
    "            \"data\": {\n",
    "#                 \"version\": {\"id\":\"versionId\"},\n",
    "#                 \"inSampleRows\": {\"baseUnit\": \"Sample\",\"value\": 1}, # or [{\"from\": \"yyyy-mm-dd HH:MM:SS\",\"to\": \"yyyy-mm-dd HH:MM:SS\"}]\n",
    "                \"outOfSampleRows\": {\"baseUnit\": \"Sample\",\"value\": 24*7*10}, # or [{\"from\": \"yyyy-mm-dd HH:MM:SS\",\"to\": \"yyyy-mm-dd HH:MM:SS\"}]\n",
    "#                 \"imputation\": {\"type\": \"Linear\",\"maxGapLength\": 6},\n",
    "#                 \"columns\": [\n",
    "#                     1,\n",
    "#                     3,\n",
    "#                     \"wind\"\n",
    "#                     ],\n",
    "#                 \"targetColumn\": \"y\",\n",
    "#                 \"holidayColumn\": holidayColumn,\n",
    "#                 \"timeScale\": {\"baseUnit\": \"Hour\",\"value\": 1},\n",
    "#                 \"aggregation\": \"Mean\",\n",
    "#                 \"alignment\": {\n",
    "#                     \"lastTargetTimestamp\": {},\n",
    "#                     \"dataUntil\": [\n",
    "#                         {\"baseUnit\": \"Hour\",\"offset\": -2,\"column\": \"Sales\"}\n",
    "#                     ]\n",
    "#                 },\n",
    "#                 \"preprocessors\": [\n",
    "#                     {\"type\": \"CategoryFilter\"}\n",
    "#                 ]\n",
    "            }\n",
    "}"
   ]
  },
  {
   "cell_type": "code",
   "execution_count": null,
   "metadata": {},
   "outputs": [],
   "source": [
    "forecast_build_model_configuration"
   ]
  },
  {
   "attachments": {},
   "cell_type": "markdown",
   "metadata": {},
   "source": [
    "# 3. API Call"
   ]
  },
  {
   "attachments": {},
   "cell_type": "markdown",
   "metadata": {},
   "source": [
    "In this section we communicate with TIM. The quick_forecast method allows you to take several steps in the model building process at once.  \n",
    "The most important inputs to this method are the dataset and job configuration which we created in the previous sections.  \n",
    "The method has the following capabilities:  \n",
    "1. Upload a dataset\n",
    "2. Register a forecasting build model job\n",
    "3. Execute a forecasting build model job.\n",
    "4. Wait for the job to finish.\n",
    "5. Collect results from the finished job from the API.\n",
    "6. Delete all items from TIM.  \n",
    "  \n",
    "With this the user has a lot of flexibility in experimenting on different datasets. Running the following method will create a new use case in the default workspace. To specify a workspace and organize your work you can provide a valid TIM workspace id."
   ]
  },
  {
   "attachments": {},
   "cell_type": "markdown",
   "metadata": {},
   "source": [
    "We will collect the workspace created in the Tutorial setup and add it to the quick_forecast function."
   ]
  },
  {
   "cell_type": "code",
   "execution_count": 47,
   "metadata": {},
   "outputs": [],
   "source": [
    "tim_workspace = json.load(open(tutorial_path+'/tim_workflow/tim_workspace.json'))\n",
    "workspace_id = tim_workspace['id']"
   ]
  },
  {
   "attachments": {},
   "cell_type": "markdown",
   "metadata": {},
   "source": [
    "We will also create a dataset_configuration to keep trace of the uploaded dataset for later use."
   ]
  },
  {
   "cell_type": "code",
   "execution_count": 61,
   "metadata": {},
   "outputs": [],
   "source": [
    "dataset_configuration = {\n",
    "    \"name\": \"belgian_electricity_grid\",\n",
    "    \"description\": \"This dataset is used to forecast the load on the Belgian electricity grid.\",\n",
    "    \"workspace\": {\n",
    "        \"id\": workspace_id\n",
    "    }\n",
    "}"
   ]
  },
  {
   "cell_type": "code",
   "execution_count": 62,
   "metadata": {},
   "outputs": [
    {
     "name": "stdout",
     "output_type": "stream",
     "text": [
      "{'status': 'Running', 'progress': 0.0, 'createdAt': '2023-04-06T11:13:29.251Z'}\n",
      "{'status': 'Running', 'progress': 0.0, 'createdAt': '2023-04-06T11:13:29.251Z'}\n",
      "{'status': 'Running', 'progress': 85.29, 'createdAt': '2023-04-06T11:13:29.251Z'}\n",
      "{'status': 'Finished', 'progress': 100.0, 'createdAt': '2023-04-06T11:13:29.251Z'}\n",
      "{'status': 'Running', 'createdAt': '2023-04-06T11:13:37.530Z'}\n",
      "{'status': 'Running', 'createdAt': '2023-04-06T11:13:37.530Z'}\n",
      "{'status': 'Running', 'createdAt': '2023-04-06T11:13:37.530Z'}\n",
      "{'status': 'Running', 'createdAt': '2023-04-06T11:13:37.530Z'}\n",
      "{'status': 'Running', 'progress': 20.6, 'CPU': 0.03, 'memory': 2404.0, 'createdAt': '2023-04-06T11:13:46.987Z'}\n",
      "{'status': 'Running', 'progress': 22.38, 'CPU': 0.03, 'memory': 2446.0, 'createdAt': '2023-04-06T11:13:48.915Z'}\n",
      "{'status': 'Running', 'progress': 24.78, 'CPU': 0.02, 'memory': 2662.0, 'createdAt': '2023-04-06T11:13:51.412Z'}\n",
      "{'status': 'Running', 'progress': 34.39, 'CPU': 0.02, 'memory': 2581.0, 'createdAt': '2023-04-06T11:13:53.673Z'}\n",
      "{'status': 'Running', 'progress': 41.59, 'CPU': 0.02, 'memory': 2681.0, 'createdAt': '2023-04-06T11:13:55.602Z'}\n",
      "{'status': 'Running', 'progress': 48.79, 'CPU': 0.02, 'memory': 2619.0, 'createdAt': '2023-04-06T11:13:57.689Z'}\n",
      "{'status': 'Running', 'progress': 55.99, 'CPU': 0.02, 'memory': 2620.0, 'createdAt': '2023-04-06T11:13:59.613Z'}\n",
      "{'status': 'Running', 'progress': 63.19, 'CPU': 0.02, 'memory': 2633.0, 'createdAt': '2023-04-06T11:14:01.921Z'}\n",
      "{'status': 'Running', 'progress': 70.4, 'CPU': 0.02, 'memory': 2633.0, 'createdAt': '2023-04-06T11:14:04.305Z'}\n",
      "{'status': 'Running', 'progress': 77.6, 'CPU': 0.34, 'memory': 2728.0, 'createdAt': '2023-04-06T11:14:06.590Z'}\n",
      "{'status': 'FinishedWithWarning', 'progress': 100.0, 'CPU': 0.34, 'memory': 2627.0, 'createdAt': '2023-04-06T11:14:08.149Z'}\n"
     ]
    }
   ],
   "source": [
    "quick_forecast = client.quick_forecast(\n",
    "    dataset = tim_dataset,\n",
    "    job_configuration = forecast_build_model_configuration,\n",
    "    workspace_id = workspace_id,\n",
    "    dataset_configuration = dataset_configuration,\n",
    "    execute = True,\n",
    "    wait_to_finish = True,\n",
    "    outputs = [\n",
    "      'id',\n",
    "      'details',\n",
    "      'logs',\n",
    "      'status',\n",
    "      'table',\n",
    "      'production_forecast',\n",
    "      'model',\n",
    "      'accuracies',\n",
    "      'production_table',\n",
    "      'production_accuracies'\n",
    "      ],\n",
    "    status_poll = print,\n",
    "    tries_left = 300,\n",
    "    delete_items = False\n",
    " )"
   ]
  },
  {
   "cell_type": "code",
   "execution_count": 63,
   "metadata": {},
   "outputs": [],
   "source": [
    "quick_forecast_upload = quick_forecast.upload_response\n",
    "quick_forecast_response = quick_forecast.forecast_response\n",
    "quick_forecast_delete = quick_forecast.delete_response"
   ]
  },
  {
   "cell_type": "code",
   "execution_count": 64,
   "metadata": {},
   "outputs": [],
   "source": [
    "quick_forecast_id = quick_forecast_response.id\n",
    "quick_forecast_details = quick_forecast_response.details\n",
    "quick_forecast_logs = quick_forecast_response.logs\n",
    "quick_forecast_status = quick_forecast_response.status\n",
    "quick_forecast_table = quick_forecast_response.table\n",
    "quick_forecast_production_forecast = quick_forecast_response.production_forecast\n",
    "quick_forecast_model = quick_forecast_response.model\n",
    "quick_forecast_accuracies = quick_forecast_response.accuracies\n",
    "quick_forecast_production_table = quick_forecast_response.production_table\n",
    "quick_forecast_production_accuracies = quick_forecast_response.production_accuracies"
   ]
  },
  {
   "attachments": {},
   "cell_type": "markdown",
   "metadata": {},
   "source": [
    "# 4. Collect Results"
   ]
  },
  {
   "attachments": {},
   "cell_type": "markdown",
   "metadata": {},
   "source": [
    "After the job is finished you can collect your results and insights from TIM using the functions below.\n",
    "You can use these tables with TIM outputs and adapt them to your needs."
   ]
  },
  {
   "cell_type": "code",
   "execution_count": 51,
   "metadata": {},
   "outputs": [],
   "source": [
    "properties_df = client.post_process.properties(quick_forecast_model)\n",
    "features_df = client.post_process.features(quick_forecast_model)\n",
    "for i in quick_forecast_table['forecast_type'].unique(): quick_forecast_table.loc[quick_forecast_table['forecast_type']==i, i] = quick_forecast_table['forecast']\n",
    "accuracy_df = client.post_process.forecast_accuracy_table(quick_forecast_accuracies)\n",
    "job_logs_df = pd.DataFrame(quick_forecast_logs).sort_values(by='createdAt').reset_index(drop=True)\n",
    "quick_forecast_table['MAE'] = abs(quick_forecast_table['forecast']-quick_forecast_table['target'])"
   ]
  },
  {
   "attachments": {},
   "cell_type": "markdown",
   "metadata": {},
   "source": [
    "# 5. Visualize Results"
   ]
  },
  {
   "attachments": {},
   "cell_type": "markdown",
   "metadata": {},
   "source": [
    "Images below show how TIM results can be easily visualized in Python with Plotly. You can visualize the predictions, the accuracy values calculated by TIM, the predictor and feature importances and other insights."
   ]
  },
  {
   "cell_type": "code",
   "execution_count": null,
   "metadata": {},
   "outputs": [],
   "source": [
    "v_data = quick_forecast_table\n",
    "fig = plt.subplots.make_subplots(rows=2, cols=1, vertical_spacing=0.04,shared_xaxes=True)\n",
    "fig.add_trace(go.Scatter(x=v_data['timestamp'], y=v_data['target'], name='Actuals', line=dict(color='black')), row=1, col=1)\n",
    "fig.add_trace(go.Scatter(x=v_data['timestamp'], y=v_data['Production'], name='Prediction', line=dict(color='goldenrod')), row=1, col=1)\n",
    "# fig.add_trace(go.Scatter(x=v_data['timestamp'], y=v_data['lower_bound'], name='Lower bound', line=dict(color='lightgrey')), row=1, col=1)\n",
    "# fig.add_trace(go.Scatter(x=v_data['timestamp'], y=v_data['upper_bound'], name='Upper bound', line=dict(color='lightgrey')), row=1, col=1)\n",
    "fig.add_trace(go.Scatter(x=v_data['timestamp'], y=v_data['InSample'], name='InSample', line=dict(color='green')), row=1, col=1)\n",
    "fig.add_trace(go.Scatter(x=v_data['timestamp'], y=v_data['OutOfSample'], name='OutOfSample', line=dict(color='red')), row=1, col=1)\n",
    "fig.add_trace(go.Scatter(x=v_data['timestamp'], y=v_data['MAE'], name='MAE', line=dict(color='blue')), row=2, col=1)\n",
    "fig.update_layout(height=800, width=1200, title_text=\"Results\")\n",
    "fig.show()"
   ]
  },
  {
   "cell_type": "code",
   "execution_count": null,
   "metadata": {},
   "outputs": [],
   "source": [
    "rows = accuracy_df.dropna()['accuracy_type'].unique()\n",
    "columns = accuracy_df.dropna()['KPI'].unique()\n",
    "variable = sorted(accuracy_df.dropna()['variable'].unique())\n",
    "subplot_titles = []\n",
    "for i in rows:\n",
    "    for j in columns: subplot_titles.append(str(i)+\" \"+str(j))\n",
    "fig = plt.subplots.make_subplots(rows=len(rows), cols=len(columns), vertical_spacing=0.04,subplot_titles=subplot_titles)\n",
    "\n",
    "for r,i in enumerate(rows):\n",
    "    for c,j in enumerate(columns):\n",
    "        v_data = accuracy_df[(accuracy_df['KPI']==j)&(accuracy_df['accuracy_type']==i)].pivot(index=['KPI','name','accuracy_type'], columns='variable', values='value').reset_index()\n",
    "        try:\n",
    "            v_data['name'] = v_data['name'].astype(float)\n",
    "            v_data.sort_values(by='name',inplace=True)\n",
    "        except:\n",
    "            pass\n",
    "        for v,k in enumerate(variable):\n",
    "            fig.add_trace(go.Bar(x=v_data['name'], y=v_data[k], name=str(i)+\" \"+str(j)+\" \"+str(k),text=round(v_data[k],2),textposition='auto'), row=r+1, col=c+1)\n",
    "fig.update_layout(height=1200, width=1400, title_text=\"Data visualization\",)\n",
    "fig.show()"
   ]
  },
  {
   "cell_type": "code",
   "execution_count": null,
   "metadata": {},
   "outputs": [],
   "source": [
    "b_v_df = properties_df[properties_df['importance']>0]\n",
    "x_axis = 'name'\n",
    "y_axis = 'rel_importance'\n",
    "\n",
    "fig1 = go.Figure(go.Bar(x=b_v_df[x_axis], y=b_v_df[y_axis],text=round(b_v_df[y_axis],2),textposition='auto'))\n",
    "fig1.update_layout(height=500,width=1200,title_text='Predictor Importances',xaxis_title=x_axis,yaxis_title=y_axis)\n",
    "print('Predictors not used:'+str(list(properties_df[~(properties_df['importance']>0)]['name'])))\n",
    "fig1.show()"
   ]
  },
  {
   "cell_type": "code",
   "execution_count": null,
   "metadata": {},
   "outputs": [],
   "source": [
    "fig = px.sunburst(features_df, path=['Model','Feature'], values='importance',color='Feature')\n",
    "fig.update_layout(height=700,width=700,title_text='Feature Importances')\n",
    "fig.update_traces(sort=False, selector=dict(type='sunburst')) \n",
    "fig.show()"
   ]
  },
  {
   "cell_type": "code",
   "execution_count": null,
   "metadata": {},
   "outputs": [],
   "source": [
    "job_logs_df"
   ]
  },
  {
   "cell_type": "code",
   "execution_count": null,
   "metadata": {},
   "outputs": [],
   "source": [
    "warnings = list(job_logs_df[job_logs_df['messageType'] == \"Warning\"]['message'])\n",
    "warnings"
   ]
  },
  {
   "attachments": {},
   "cell_type": "markdown",
   "metadata": {},
   "source": [
    "# 6. Save Results\n",
    "To save the outputs from TIM use the cells below. You can also find a summary of all the other functions in the Python Client for TIM below.   \n",
    "For more information visit https://pypi.org/project/tim-client/ or our documentation https://docs.tangent.works/docs/TIM-Clients/Python-Client/Overview."
   ]
  },
  {
   "cell_type": "code",
   "execution_count": 22,
   "metadata": {},
   "outputs": [],
   "source": [
    "# quick_forecast_table.to_csv('quick_forecast_table.csv',index=False, float_format='%g')\n",
    "# accuracy_df.to_csv('accuracy_df.csv',index=False, float_format='%g')\n",
    "# properties_df.to_csv('properties_df.csv',index=False, float_format='%g')\n",
    "# features_df.to_csv('features_df.csv',index=False, float_format='%g')\n",
    "# job_logs_df.to_csv('job_logs_df.csv',index=False, float_format='%g')\n",
    "# json.dump(quick_forecast_model,open(\"quick_forecast_model.json\", \"w\"))"
   ]
  },
  {
   "attachments": {},
   "cell_type": "markdown",
   "metadata": {
    "tags": []
   },
   "source": [
    "# Next steps"
   ]
  },
  {
   "attachments": {},
   "cell_type": "markdown",
   "metadata": {},
   "source": [
    "Save the dataset information to the workflow folder and go back to the TIM Python Client Tutorial setup to learn about other templates."
   ]
  },
  {
   "cell_type": "code",
   "execution_count": 67,
   "metadata": {},
   "outputs": [],
   "source": [
    "json.dump(quick_forecast_upload,open(tutorial_path+\"/tim_workflow/quick_forecast_upload.json\", \"w\"))"
   ]
  }
 ],
 "metadata": {
  "kernelspec": {
   "display_name": "Python 3 (ipykernel)",
   "language": "python",
   "name": "python3"
  },
  "language_info": {
   "codemirror_mode": {
    "name": "ipython",
    "version": 3
   },
   "file_extension": ".py",
   "mimetype": "text/x-python",
   "name": "python",
   "nbconvert_exporter": "python",
   "pygments_lexer": "ipython3",
   "version": "3.11.1"
  }
 },
 "nbformat": 4,
 "nbformat_minor": 4
}
