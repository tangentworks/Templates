{
 "cells": [
  {
   "cell_type": "markdown",
   "metadata": {},
   "source": [
    "# ---------------------- TIM Python Client - Overview ----------------------"
   ]
  },
  {
   "cell_type": "markdown",
   "metadata": {},
   "source": [
    "<a id='Overview'></a>\n",
    "## __Overview__  \n",
    "&emsp;[<ins>__0. Setup__</ins>](#0.0.0)  \n",
    "&emsp;[<ins>__1. Configurations__</ins>](#1.0.0)  \n",
    "&emsp;&emsp;[__1.1 Workflow__](#1.1.0)  \n",
    "&emsp;&emsp;&emsp;[1.1.1 create_user_group](#1.1.1)  \n",
    "&emsp;&emsp;&emsp;[1.1.2 create_workspace](#1.1.2)  \n",
    "&emsp;&emsp;&emsp;[1.1.3 edit_workspace](#1.1.3)  \n",
    "&emsp;&emsp;&emsp;[1.1.4 create_use_case](#1.1.4)  \n",
    "&emsp;&emsp;&emsp;[1.1.5 edit_use_case](#1.1.5)  \n",
    "&emsp;&emsp;&emsp;[1.1.6 create_experiment](#1.1.6)  \n",
    "&emsp;&emsp;&emsp;[1.1.7 edit_experiment](#1.1.7)  \n",
    "&emsp;&emsp;&emsp;[1.1.8 upload_dataset](#1.1.8)  \n",
    "&emsp;&emsp;&emsp;[1.1.9 update_dataset](#1.1.9)  \n",
    "&emsp;&emsp;&emsp;[1.1.10 edit_dataset_details](#1.1.10)  \n",
    "&emsp;&emsp;&emsp;[1.1.11 slice_dataset_version](#1.1.11)  \n",
    "&emsp;&emsp;[__1.2 Forecasting__](#1.2.0)  \n",
    "&emsp;&emsp;&emsp;[1.2.1 forecast_build_model](#1.2.1)  \n",
    "&emsp;&emsp;&emsp;[1.2.2 forecast_rebuild_model](#1.2.2)  \n",
    "&emsp;&emsp;&emsp;[1.2.3 forecast_retrain_model](#1.2.3)  \n",
    "&emsp;&emsp;&emsp;[1.2.4 forecast_predict](#1.2.4)  \n",
    "&emsp;&emsp;&emsp;[1.2.5 forecasting_upload_model](#1.2.5)  \n",
    "&emsp;&emsp;&emsp;[1.2.6 forecasting_what_if](#1.2.6)  \n",
    "&emsp;&emsp;[__1.3 Anomaly Detection__](#1.3.0)  \n",
    "&emsp;&emsp;&emsp;[1.3.1 detection_build_kpi_model](#1.3.1)  \n",
    "&emsp;&emsp;&emsp;[1.3.2 detection_build_system_model](#1.3.2)  \n",
    "&emsp;&emsp;&emsp;[1.3.3 detection_rebuild_kpi_model](#1.3.3)  \n",
    "&emsp;&emsp;&emsp;[1.3.4 detection_detect](#1.3.4)  \n",
    "&emsp;&emsp;&emsp;[1.3.5 detection_upload_model](#1.3.5)   \n",
    "&emsp;&emsp;&emsp;[1.3.6 detection_what_if](#1.3.6)  \n",
    "&emsp;&emsp;&emsp;[1.3.7 detection_build_outlier_model](#1.3.7)  \n",
    "&emsp;&emsp;&emsp;[1.3.8 detection_build_drift_model_kolmogorov_smirnov](#1.3.8)  \n",
    "&emsp;&emsp;&emsp;[1.3.9 detection_build_drift_model_jensen_shannon](#1.3.9)  \n",
    "&emsp;[<ins>__2. Functions__</ins>](#2.0.0)  \n",
    "&emsp;&emsp;[__2.1 Datasets__](#2.1.0)  \n",
    "&emsp;&emsp;&emsp;[2.1.1 upload_dataset](#2.1.1)  \n",
    "&emsp;&emsp;&emsp;[2.1.2 update_dataset](#2.1.2)  \n",
    "&emsp;&emsp;&emsp;[2.1.3 poll_dataset_version_status](#2.1.3)  \n",
    "&emsp;&emsp;[__2.2 Forecasting__](#2.2.0)  \n",
    "&emsp;&emsp;&emsp;[2.2.1 forecasting_build_model](#2.2.1)  \n",
    "&emsp;&emsp;&emsp;[2.2.2 forecasting_predict](#2.2.2)  \n",
    "&emsp;&emsp;&emsp;[2.2.3 execute_forecast_job](#2.2.3)  \n",
    "&emsp;&emsp;&emsp;[2.2.4 poll_forecast_status](#2.2.4)  \n",
    "&emsp;&emsp;&emsp;[2.2.5 forecasting_job_results](#2.2.5)  \n",
    "&emsp;&emsp;&emsp;[2.2.6 forecasting_rebuild_model](#2.2.6)  \n",
    "&emsp;&emsp;&emsp;[2.2.7 forecasting_retrain_model](#2.2.7)  \n",
    "&emsp;&emsp;&emsp;[2.2.8 forecasting_root_cause_analysis](#2.2.8)  \n",
    "&emsp;&emsp;&emsp;[2.2.9 forecasting_results_rca](#2.2.9)  \n",
    "&emsp;&emsp;&emsp;[2.2.10 forecasting_what_if_analysis](#2.2.10)  \n",
    "&emsp;&emsp;&emsp;[2.2.11 quick_forecast](#2.2.11)  \n",
    "&emsp;&emsp;[__2.3 Detection__](#2.3.0)  \n",
    "&emsp;&emsp;&emsp;[2.3.1 detection_build_kpi_model](#2.3.1)  \n",
    "&emsp;&emsp;&emsp;[2.3.2 detection_build_system_model](#2.3.2)  \n",
    "&emsp;&emsp;&emsp;[2.3.3 execute_detection_job](#2.3.3)  \n",
    "&emsp;&emsp;&emsp;[2.3.4 poll_detect_status](#2.3.4)  \n",
    "&emsp;&emsp;&emsp;[2.3.5 detection_job_results](#2.3.5)  \n",
    "&emsp;&emsp;&emsp;[2.3.6 detection_rebuild_kpi_model](#2.3.6)  \n",
    "&emsp;&emsp;&emsp;[2.3.7 detection_detect](#2.3.7)  \n",
    "&emsp;&emsp;&emsp;[2.3.8 detection_root_cause_analysis](#2.3.8)  \n",
    "&emsp;&emsp;&emsp;[2.3.9 detection_results_rca](#2.3.9)  \n",
    "&emsp;&emsp;&emsp;[2.3.10 detection_what_if_analysis](#2.3.10)  \n",
    "&emsp;&emsp;&emsp;[2.3.11 detection_build_outlier_model](#2.3.11)  \n",
    "&emsp;&emsp;&emsp;[2.3.12 detection_build_drift_model_kolmogorov_smirnov](#2.3.12)  \n",
    "&emsp;&emsp;&emsp;[2.3.13 detection_build_drift_model_jensen_shannon](#2.3.13)    \n",
    "&emsp;[<ins>__3. Endpoints__</ins>](#3.0.0)  \n",
    "&emsp;&emsp;[__3.1 User Groups__](#3.1.0)  \n",
    "&emsp;&emsp;&emsp;[3.1.1 list_user_group](#3.1.1)  \n",
    "&emsp;&emsp;&emsp;[3.1.2 create_user_group](#3.1.2)  \n",
    "&emsp;&emsp;&emsp;[3.1.3 details_user_group](#3.1.3)  \n",
    "&emsp;&emsp;&emsp;[3.1.4 update_user_group](#3.1.4)  \n",
    "&emsp;&emsp;&emsp;[3.1.5 delete_user_group](#3.1.5)  \n",
    "&emsp;&emsp;[__3.2 Workspaces__](#3.2.0)  \n",
    "&emsp;&emsp;&emsp;[3.2.1 list_workspace](#3.2.1)  \n",
    "&emsp;&emsp;&emsp;[3.2.2 create_workspace](#3.2.2)  \n",
    "&emsp;&emsp;&emsp;[3.2.3 details_workspace](#3.2.3)  \n",
    "&emsp;&emsp;&emsp;[3.2.4 edit_workspace](#3.2.4)  \n",
    "&emsp;&emsp;&emsp;[3.2.5 delete_workspace](#3.2.5)  \n",
    "&emsp;&emsp;[__3.3 Datasets__](#3.3.0)  \n",
    "&emsp;&emsp;&emsp;[3.3.1 upload_dataset](#3.3.1)  \n",
    "&emsp;&emsp;&emsp;[3.3.2 update_dataset](#3.3.2)  \n",
    "&emsp;&emsp;&emsp;[3.3.3 list_dataset](#3.3.3)  \n",
    "&emsp;&emsp;&emsp;[3.3.4 details_dataset](#3.3.4)  \n",
    "&emsp;&emsp;&emsp;[3.3.5 edit_dataset_details](#3.3.5)  \n",
    "&emsp;&emsp;&emsp;[3.3.6 dataset_logs](#3.3.6)  \n",
    "&emsp;&emsp;&emsp;[3.3.7 logs_dataset_version](#3.3.7)  \n",
    "&emsp;&emsp;&emsp;[3.3.8 list_dataset_versions](#3.3.8)  \n",
    "&emsp;&emsp;&emsp;[3.3.9 details_dataset_version](#3.3.9)  \n",
    "&emsp;&emsp;&emsp;[3.3.10 status_dataset_version](#3.3.10)  \n",
    "&emsp;&emsp;&emsp;[3.3.11 delete_dataset_version](#3.3.11)  \n",
    "&emsp;&emsp;&emsp;[3.3.12 delete_dataset](#3.3.12)  \n",
    "&emsp;&emsp;&emsp;[3.3.13 delete_dataset_list](#3.3.13)  \n",
    "&emsp;&emsp;&emsp;[3.3.14 slice_dataset_version](#3.3.14)  \n",
    "&emsp;&emsp;[__3.4 Use Cases__](#3.4.0)  \n",
    "&emsp;&emsp;&emsp;[3.4.1 list_use_cases](#3.4.1)  \n",
    "&emsp;&emsp;&emsp;[3.4.2 create_use_cases](#3.4.2)  \n",
    "&emsp;&emsp;&emsp;[3.4.3 details_use_cases](#3.4.3)  \n",
    "&emsp;&emsp;&emsp;[3.4.4 edit_use_cases](#3.4.4)  \n",
    "&emsp;&emsp;&emsp;[3.4.5 delete_use_cases](#3.4.5)  \n",
    "&emsp;&emsp;[__3.5 Experiments__](#3.5.0)  \n",
    "&emsp;&emsp;&emsp;[3.5.1 list_experiment](#3.5.1)  \n",
    "&emsp;&emsp;&emsp;[3.5.2 create_experiment](#3.5.2)  \n",
    "&emsp;&emsp;&emsp;[3.5.3 details_experiment](#3.5.3)  \n",
    "&emsp;&emsp;&emsp;[3.5.4 edit_experiment](#3.5.4)  \n",
    "&emsp;&emsp;&emsp;[3.5.5 delete_experiment](#3.5.5)  \n",
    "&emsp;&emsp;[__3.6 Forecasting__](#3.6.0)  \n",
    "&emsp;&emsp;&emsp;[3.6.1 build_model](#3.6.1)  \n",
    "&emsp;&emsp;&emsp;[3.6.2 execute](#3.6.2)  \n",
    "&emsp;&emsp;&emsp;[3.6.3 status](#3.6.3)  \n",
    "&emsp;&emsp;&emsp;[3.6.4 rebuild_model](#3.6.4)  \n",
    "&emsp;&emsp;&emsp;[3.6.5 retrain_model](#3.6.5)  \n",
    "&emsp;&emsp;&emsp;[3.6.6 predict](#3.6.6)  \n",
    "&emsp;&emsp;&emsp;[3.6.7 rca](#3.6.7)  \n",
    "&emsp;&emsp;&emsp;[3.6.8 what_if](#3.6.8)  \n",
    "&emsp;&emsp;&emsp;[3.6.9 job_list](#3.6.9)  \n",
    "&emsp;&emsp;&emsp;[3.6.10 job_details](#3.6.10)  \n",
    "&emsp;&emsp;&emsp;[3.6.11 delete_job](#3.6.11)  \n",
    "&emsp;&emsp;&emsp;[3.6.12 copy_job](#3.6.12)  \n",
    "&emsp;&emsp;&emsp;[3.6.13 job_logs](#3.6.13)  \n",
    "&emsp;&emsp;&emsp;[3.6.14 status_collect](#3.6.14)  \n",
    "&emsp;&emsp;&emsp;[3.6.15 results_table](#3.6.15)  \n",
    "&emsp;&emsp;&emsp;[3.6.16 results_production_forecast](#3.6.16)  \n",
    "&emsp;&emsp;&emsp;[3.6.17 results_model](#3.6.17)  \n",
    "&emsp;&emsp;&emsp;[3.6.18 results_accuracies](#3.6.18)  \n",
    "&emsp;&emsp;&emsp;[3.6.19 results_rca](#3.6.19)  \n",
    "&emsp;&emsp;&emsp;[3.6.20 results_production_table](#3.6.20)  \n",
    "&emsp;&emsp;&emsp;[3.6.21 results_production_accuracies](#3.6.21)  \n",
    "&emsp;&emsp;&emsp;[3.6.22 upload_model](#3.6.22)  \n",
    "&emsp;&emsp;&emsp;[3.6.23 delete_job_list](#3.6.23)  \n",
    "&emsp;&emsp;[__3.7 Anomaly Detection__](#3.7.0)  \n",
    "&emsp;&emsp;&emsp;[3.7.1 build_kpi_model](#3.7.1)  \n",
    "&emsp;&emsp;&emsp;[3.7.2 build_system_model](#3.7.2)  \n",
    "&emsp;&emsp;&emsp;[3.7.3 execute](#3.7.3)  \n",
    "&emsp;&emsp;&emsp;[3.7.4 status](#3.7.4)  \n",
    "&emsp;&emsp;&emsp;[3.7.5 rebuild_kpi_model](#3.7.5)  \n",
    "&emsp;&emsp;&emsp;[3.7.6 detect](#3.7.6)  \n",
    "&emsp;&emsp;&emsp;[3.7.7 rca](#3.7.7)  \n",
    "&emsp;&emsp;&emsp;[3.7.8 what_if](#3.7.8)  \n",
    "&emsp;&emsp;&emsp;[3.7.9 job_list](#3.7.9)  \n",
    "&emsp;&emsp;&emsp;[3.6.10 delete_job_list](#3.6.10)  \n",
    "&emsp;&emsp;&emsp;[3.7.11 job_details](#3.7.11)  \n",
    "&emsp;&emsp;&emsp;[3.7.12 delete_job](#3.7.12)  \n",
    "&emsp;&emsp;&emsp;[3.7.13 copy_job](#3.7.13)  \n",
    "&emsp;&emsp;&emsp;[3.7.14 job_logs](#3.7.14)  \n",
    "&emsp;&emsp;&emsp;[3.7.15 status_collect](#3.7.15)  \n",
    "&emsp;&emsp;&emsp;[3.7.16 results_table](#3.7.16)  \n",
    "&emsp;&emsp;&emsp;[3.7.17 results_model](#3.7.17)  \n",
    "&emsp;&emsp;&emsp;[3.7.18 results_accuracies](#3.7.18)  \n",
    "&emsp;&emsp;&emsp;[3.7.19 results_rca](#3.7.19)  \n",
    "&emsp;&emsp;&emsp;[3.7.20 results_production_table](#3.7.20)  \n",
    "&emsp;&emsp;&emsp;[3.7.21 results_production_accuracies](#3.7.21)  \n",
    "&emsp;&emsp;&emsp;[3.7.22 upload_model](#3.7.22)  \n",
    "&emsp;&emsp;&emsp;[3.7.23 build_outlier_model](#3.7.23)  \n",
    "&emsp;&emsp;&emsp;[3.7.24 build_drift_model_kolmogorov_smirnov](#3.7.24)  \n",
    "&emsp;&emsp;&emsp;[3.7.25 build_drift_model_jensen_shannon](#3.7.25)  \n",
    "&emsp;&emsp;[__3.8 Licenses__](#3.8.0)  \n",
    "&emsp;&emsp;&emsp;[3.8.1 details_license](#3.8.1)  \n",
    "&emsp;&emsp;&emsp;[3.8.2 storage_license](#3.8.2)  \n",
    "&emsp;&emsp;[__3.9 Telemetry__](#3.9.0)  \n",
    "&emsp;&emsp;&emsp;[3.9.1 dataset_calls](#3.9.1)  \n",
    "&emsp;&emsp;&emsp;[3.9.2 job_calls](#3.9.2)  \n",
    "&emsp;&emsp;[__3.10 Users__](#3.10.0)  \n",
    "&emsp;&emsp;&emsp;[3.10.1 details_user](#3.10.1)  \n",
    "&emsp;[<ins>__4. Helper functions__</ins>](#4.0.0)  \n",
    "&emsp;&emsp;[__4.1 Post Process__](#4.1.0)  \n",
    "&emsp;&emsp;&emsp;[4.1.1 properties](#4.1.1)  \n",
    "&emsp;&emsp;&emsp;[4.1.2 features](#4.1.2)  \n",
    "&emsp;&emsp;&emsp;[4.1.3 forecast_accuracy_table](#4.1.3)  "
   ]
  },
  {
   "cell_type": "markdown",
   "metadata": {},
   "source": [
    "<a id='0.0.0'></a>\n",
    "# 0. Setup"
   ]
  },
  {
   "cell_type": "code",
   "execution_count": 1,
   "metadata": {},
   "outputs": [],
   "source": [
    "import json\n",
    "import pandas as pd"
   ]
  },
  {
   "cell_type": "code",
   "execution_count": 2,
   "metadata": {},
   "outputs": [],
   "source": [
    "import tim\n",
    "tim_credentials = json.load(open('tim_credentials.json'))\n",
    "client = tim.Tim(email=tim_credentials['email'],password=tim_credentials['password'])"
   ]
  },
  {
   "cell_type": "code",
   "execution_count": 3,
   "metadata": {},
   "outputs": [],
   "source": [
    "dataset = pd.read_csv('python_client_tutorial.csv')"
   ]
  },
  {
   "cell_type": "markdown",
   "metadata": {},
   "source": [
    "[Go to Overview](#Overview)"
   ]
  },
  {
   "cell_type": "markdown",
   "metadata": {},
   "source": [
    "<a id='1.0.0'></a>\n",
    "# 1. Configurations"
   ]
  },
  {
   "cell_type": "markdown",
   "metadata": {},
   "source": [
    "<a id='1.1.0'></a>\n",
    "## 1.1 Workflow"
   ]
  },
  {
   "cell_type": "markdown",
   "metadata": {},
   "source": [
    "<a id='1.1.1'></a>\n",
    "### 1.1.1 create_user_group"
   ]
  },
  {
   "cell_type": "code",
   "execution_count": 4,
   "metadata": {},
   "outputs": [],
   "source": [
    "create_user_group_configuration = {\n",
    "#   \"name\": \"Test user group 1\",\n",
    "#   \"description\": \"Some descriptive text...\",\n",
    "#   \"users\": [\n",
    "#     {\n",
    "#       \"id\": \"3fa85f64-5717-4562-b3fc-2c963f66afa6\",\n",
    "#       \"isOwner\": True\n",
    "#     }\n",
    "#   ]\n",
    "}"
   ]
  },
  {
   "cell_type": "markdown",
   "metadata": {},
   "source": [
    "[Go to Overview](#Overview)"
   ]
  },
  {
   "cell_type": "markdown",
   "metadata": {},
   "source": [
    "<a id='1.1.2'></a>\n",
    "### 1.1.2 create_workspace"
   ]
  },
  {
   "cell_type": "code",
   "execution_count": 5,
   "metadata": {},
   "outputs": [],
   "source": [
    "create_workspace_configuration  = {\n",
    "#     \"name\": \"Test workspace 1\",\n",
    "#     \"description\": \"Some descriptive text...\",\n",
    "#     \"userGroup\": {\n",
    "#         \"id\": \"d57031f2-3301-41fd-8b46-912770b490e8\"\n",
    "#     },\n",
    "#     \"isFavorite\": True\n",
    "}"
   ]
  },
  {
   "cell_type": "markdown",
   "metadata": {},
   "source": [
    "[Go to Overview](#Overview)"
   ]
  },
  {
   "cell_type": "markdown",
   "metadata": {},
   "source": [
    "<a id='1.1.3'></a>\n",
    "### 1.1.3 edit_workspace"
   ]
  },
  {
   "cell_type": "code",
   "execution_count": 6,
   "metadata": {},
   "outputs": [],
   "source": [
    "edit_workspace_configuration = {\n",
    "#     \"name\": \"Test workspace 1\",\n",
    "#     \"description\": \"Some descriptive text...\",\n",
    "#     \"isFavorite\": True\n",
    "}"
   ]
  },
  {
   "cell_type": "markdown",
   "metadata": {},
   "source": [
    "[Go to Overview](#Overview)"
   ]
  },
  {
   "cell_type": "markdown",
   "metadata": {},
   "source": [
    "<a id='1.1.4'></a>\n",
    "### 1.1.4 create_use_case"
   ]
  },
  {
   "cell_type": "code",
   "execution_count": 7,
   "metadata": {},
   "outputs": [],
   "source": [
    "create_use_case_configuration = {\n",
    "#     \"name\": \"string\",\n",
    "#     \"description\": \"string\",\n",
    "#     \"input\": \"string\",\n",
    "#     \"output\": \"string\",\n",
    "#     \"businessValue\": \"string\",\n",
    "#     \"businessObjective\": \"string\",\n",
    "#     \"businessKpi\": \"string\",\n",
    "#     \"accuracyImpact\": 0,\n",
    "#     \"workspace\": {\n",
    "#         \"id\": \"ef47117c-5408-4603-9d6f-735f45a74ff3\"\n",
    "#     },\n",
    "#     \"dataset\": {\n",
    "#         \"id\": \"82404536-23da-4f44-b68c-85b34239bac4\"\n",
    "#     },\n",
    "#     \"isFavorite\": True\n",
    "}"
   ]
  },
  {
   "cell_type": "markdown",
   "metadata": {},
   "source": [
    "[Go to Overview](#Overview)"
   ]
  },
  {
   "cell_type": "markdown",
   "metadata": {},
   "source": [
    "<a id='1.1.5'></a>\n",
    "### 1.1.5 edit_use_case"
   ]
  },
  {
   "cell_type": "code",
   "execution_count": 8,
   "metadata": {},
   "outputs": [],
   "source": [
    "edit_use_case_configuration = {\n",
    "    # \"name\": \"string\",\n",
    "    # \"description\": \"string\",\n",
    "    # \"input\": \"string\",\n",
    "    # \"output\": \"string\",\n",
    "    # \"businessValue\": \"string\",\n",
    "    # \"businessObjective\": \"string\",\n",
    "    # \"businessKpi\": \"string\",\n",
    "    # \"accuracyImpact\": 0,\n",
    "    # \"dataset\": {\n",
    "    #     \"id\": \"3fa85f64-5717-4562-b3fc-2c963f66afa6\"\n",
    "    # },\n",
    "    # \"isFavorite\": True,\n",
    "    # \"defaultFExperiment\": {\n",
    "    #     \"id\": \"3fa85f64-5717-4562-b3fc-2c963f66afa6\"\n",
    "    # },\n",
    "    # \"defaultADExperiment\": {\n",
    "    #     \"id\": \"3fa85f64-5717-4562-b3fc-2c963f66afa6\"\n",
    "    # },\n",
    "    # \"defaultDriftExperiment\": {\n",
    "    #     \"id\": \"3fa85f64-5717-4562-b3fc-2c963f66afa6\"\n",
    "    # }\n",
    "}"
   ]
  },
  {
   "cell_type": "markdown",
   "metadata": {},
   "source": [
    "[Go to Overview](#Overview)"
   ]
  },
  {
   "cell_type": "markdown",
   "metadata": {},
   "source": [
    "<a id='1.1.6'></a>\n",
    "### 1.1.6 create_experiment"
   ]
  },
  {
   "cell_type": "code",
   "execution_count": 9,
   "metadata": {},
   "outputs": [],
   "source": [
    "create_experiment_configuration = {\n",
    "#   \"name\": \"string\",\n",
    "#   \"description\": \"string\",\n",
    "#   \"useCase\": {\n",
    "#     \"id\": \"418870f6-b2a1-4e57-89b7-93404926a6ae\"\n",
    "#   },\n",
    "#   \"type\": \"Forecasting\" # [Forecasting, AnomalyDetection, DriftDetection ]\n",
    "}"
   ]
  },
  {
   "cell_type": "markdown",
   "metadata": {},
   "source": [
    "[Go to Overview](#Overview)"
   ]
  },
  {
   "cell_type": "markdown",
   "metadata": {},
   "source": [
    "<a id='1.1.7'></a>\n",
    "### 1.1.7 edit_experiment"
   ]
  },
  {
   "cell_type": "code",
   "execution_count": 10,
   "metadata": {},
   "outputs": [],
   "source": [
    "edit_experiment_configuration = {\n",
    "#   \"name\": \"string\",\n",
    "#   \"description\": \"string\"\n",
    "}"
   ]
  },
  {
   "cell_type": "markdown",
   "metadata": {},
   "source": [
    "[Go to Overview](#Overview)"
   ]
  },
  {
   "cell_type": "markdown",
   "metadata": {},
   "source": [
    "<a id='1.1.8'></a>\n",
    "### 1.1.8 upload_dataset"
   ]
  },
  {
   "cell_type": "code",
   "execution_count": 11,
   "metadata": {},
   "outputs": [],
   "source": [
    "upload_dataset_configuration = {\n",
    "#     \"timestampFormat\": \"yyyy-mm-dd HH:MM:SS.sss\",\n",
    "#     \"timestampColumn\": 1,\n",
    "#     \"decimalSeparator\": \".\",\n",
    "#     \"csvSeparator\": \",\",\n",
    "#     \"versionName\": \"Vienna\",\n",
    "#     \"timeZone\": \"Z\",\n",
    "#     \"timeZoneName\": \"string\",\n",
    "#     \"groupKeys\": [\n",
    "#         1,\n",
    "#         \"City\"\n",
    "#     ],\n",
    "#     \"categoricalVariables\": [\n",
    "#         1,\n",
    "#         \"City\"\n",
    "#      ],\n",
    "#     \"name\": \"Vienna\",\n",
    "#     \"description\": \"Electricity consumption\",\n",
    "#     \"samplingPeriod\": {\n",
    "#         \"baseUnit\": \"Hour\",\n",
    "#         \"value\": 1\n",
    "#     },\n",
    "#     \"workspace\": {\n",
    "#         \"id\": \"ef47117c-5408-4603-9d6f-735f45a74ff3\"\n",
    "#     }\n",
    "}"
   ]
  },
  {
   "cell_type": "markdown",
   "metadata": {},
   "source": [
    "[Go to Overview](#Overview)"
   ]
  },
  {
   "cell_type": "markdown",
   "metadata": {},
   "source": [
    "<a id='1.1.9'></a>\n",
    "### 1.1.9 update_dataset"
   ]
  },
  {
   "cell_type": "code",
   "execution_count": 12,
   "metadata": {},
   "outputs": [],
   "source": [
    "update_dataset_configuration = {\n",
    "  # \"timestampFormat\": \"yyyy-mm-dd HH:MM:SS.sss\",\n",
    "  # \"timestampColumn\": 1,\n",
    "  # \"decimalSeparator\": \".\",\n",
    "  # \"csvSeparator\": \",\",\n",
    "  # \"versionName\": \"Vienna\"\n",
    "}"
   ]
  },
  {
   "cell_type": "markdown",
   "metadata": {},
   "source": [
    "[Go to Overview](#Overview)"
   ]
  },
  {
   "cell_type": "markdown",
   "metadata": {},
   "source": [
    "<a id='1.1.10'></a>\n",
    "### 1.1.10 edit_dataset_details"
   ]
  },
  {
   "cell_type": "code",
   "execution_count": 13,
   "metadata": {},
   "outputs": [],
   "source": [
    "edit_dataset_details_configuration = {\n",
    "#     \"name\": \"string\",\n",
    "#     \"description\": \"string\"\n",
    "}"
   ]
  },
  {
   "cell_type": "markdown",
   "metadata": {},
   "source": [
    "[Go to Overview](#Overview)"
   ]
  },
  {
   "cell_type": "markdown",
   "metadata": {},
   "source": [
    "<a id='1.1.11'></a>\n",
    "### 1.1.11 slice_dataset_version"
   ]
  },
  {
   "cell_type": "code",
   "execution_count": 14,
   "metadata": {},
   "outputs": [],
   "source": [
    "slice_dataset_version_configuration = {\n",
    "    # \"outputFormat\": \"CSV\",\n",
    "    # \"rows\": [\n",
    "    #     {\n",
    "    #         \"from\": \"2021-01-01 00:00:00Z\",\n",
    "    #         \"to\": \"2021-01-31 00:00:00Z\"\n",
    "    #     }\n",
    "    # ],\n",
    "    # \"columns\": [\n",
    "    #     1,\n",
    "    #     3,\n",
    "    #     \"wind\"\n",
    "    # ],\n",
    "    # \"targetColumn\": \"y\",\n",
    "    # \"imputation\": {\n",
    "    #     \"type\": \"Linear\",\n",
    "    #     \"maxGapLength\": 0\n",
    "    # },\n",
    "    # \"timeScale\": {\n",
    "    #     \"baseUnit\": \"Hour\",\n",
    "    #     \"value\": 1\n",
    "    # },\n",
    "    # \"aggregation\": \"Mean\",\n",
    "    # \"preprocessors\": [\n",
    "    #     {\n",
    "    #         \"type\": \"CategoryFilter\"\n",
    "    #     }\n",
    "    # ],\n",
    "    # \"plotlyFriendly\": True,\n",
    "    # \"includeWasImputed\": True\n",
    "}"
   ]
  },
  {
   "cell_type": "markdown",
   "metadata": {},
   "source": [
    "[Go to Overview](#Overview)"
   ]
  },
  {
   "cell_type": "markdown",
   "metadata": {},
   "source": [
    "<a id='1.2.0'></a>\n",
    "## 1.2 Forecasting"
   ]
  },
  {
   "cell_type": "markdown",
   "metadata": {},
   "source": [
    "<a id='1.2.1'></a>\n",
    "### 1.2.1 forecast_build_model"
   ]
  },
  {
   "cell_type": "code",
   "execution_count": 15,
   "metadata": {},
   "outputs": [],
   "source": [
    "forecast_build_model_configuration = {\n",
    "    # \"name\": \"My first forecast job\",\n",
    "    # \"useCase\": {\"id\":\"useCaseId\"},\n",
    "    # \"experiment\": {\"id\":\"experimentId\"},\n",
    "    # \"configuration\": {\n",
    "    #     \"predictionTo\": {\"baseUnit\": \"Sample\",\"value\": 7},\n",
    "    #     \"predictionFrom\": {\"baseUnit\": \"Sample\",\"value\": 1},\n",
    "    #     \"targetOffsets\": \"Combined\",\n",
    "    #     \"predictorOffsets\": \"Common\",\n",
    "    #     \"allowOffsets\": True,\n",
    "    #     \"offsetLimit\": {\"type\": \"Explicit\",\"value\": 0},        \n",
    "    #     \"normalization\": True,\n",
    "    #     \"maxModelComplexity\": 50,\n",
    "    #     \"features\": [\n",
    "    #         \"ExponentialMovingAverage\",\n",
    "    #         \"RestOfWeek\",\n",
    "    #         \"Periodic\",\n",
    "    #         \"Intercept\",\n",
    "    #         \"PiecewiseLinear\",\n",
    "    #         \"TimeOffsets\",\n",
    "    #         \"Polynomial\",\n",
    "    #         \"Identity\",\n",
    "    #         \"PublicHolidays\",      \n",
    "    #         \"SimpleMovingAverage\",\n",
    "    #         \"Month\",\n",
    "    #         \"Trend\",\n",
    "    #         \"DayOfWeek\",\n",
    "    #         \"Fourier\",\n",
    "    #     ],\n",
    "    #     \"dailyCycle\": False,\n",
    "    #     \"memoryLimitCheck\": True,\n",
    "    #     \"predictionIntervals\": 90,\n",
    "    #     \"predictionBoundaries\": {\n",
    "    #         \"type\": \"Explicit\",\n",
    "    #         \"maxValue\": 750,\n",
    "    #         \"minValue\": 100\n",
    "    #     },\n",
    "    #     \"rollingWindow\": {\"baseUnit\": \"Sample\",\"value\": 1},\n",
    "    #     \"backtest\": \"All\"\n",
    "    # },\n",
    "    # \"data\": {\n",
    "    #     \"version\": {\"id\":\"versionId\"},\n",
    "    #     \"inSampleRows\": {\"baseUnit\": \"Sample\",\"value\": 1}, # or [{\"from\": \"yyyy-mm-dd HH:MM:SS\",\"to\": \"yyyy-mm-dd HH:MM:SS\"}]\n",
    "    #     \"outOfSampleRows\": {\"baseUnit\": \"Sample\",\"value\": 7*8}, # or [{\"from\": \"yyyy-mm-dd HH:MM:SS\",\"to\": \"yyyy-mm-dd HH:MM:SS\"}]\n",
    "    #     \"imputation\": {\"type\": \"Linear\",\"maxGapLength\": 6},\n",
    "    #     \"columns\": [\n",
    "    #         1,\n",
    "    #         3,\n",
    "    #         \"wind\"\n",
    "    #         ],\n",
    "    #     \"targetColumn\": \"y\",\n",
    "    #     \"holidayColumn\": \"holidayColumn\",\n",
    "    #     \"timeScale\": {\"baseUnit\": \"Hour\",\"value\": 1},\n",
    "    #     \"aggregation\": \"Mean\",\n",
    "    #     \"alignment\": {\n",
    "    #         \"lastTargetTimestamp\": \"yyyy-mm-dd HH:MM:SS\",\n",
    "    #         \"dataUntil\": [\n",
    "    #             {\"column\": \"Sales\",\"baseUnit\": \"Hour\",\"offset\": -2}\n",
    "    #         ]\n",
    "    #     },\n",
    "    #     \"preprocessors\": [\n",
    "    #         {\"type\": \"CategoryFilter\"}\n",
    "    #     ]\n",
    "    # }\n",
    "}"
   ]
  },
  {
   "cell_type": "markdown",
   "metadata": {},
   "source": [
    "[Go to Overview](#Overview)"
   ]
  },
  {
   "cell_type": "markdown",
   "metadata": {},
   "source": [
    "<a id='1.2.2'></a>\n",
    "### 1.2.2 forecast_rebuild_model"
   ]
  },
  {
   "cell_type": "code",
   "execution_count": 16,
   "metadata": {},
   "outputs": [],
   "source": [
    "forecast_rebuild_model_configuration = {\n",
    "    # \"name\": \"My first forecast job\",\n",
    "    # \"experiment\": {\"id\":\"experimentId\"},\n",
    "    # \"configuration\": {\n",
    "    #     \"predictionTo\": {\"baseUnit\": \"Sample\",\"value\": 7},\n",
    "    #     \"predictionFrom\": {\"baseUnit\": \"Sample\",\"value\": 1},\n",
    "    #     \"targetOffsets\": \"Combined\",\n",
    "    #     \"predictorOffsets\": \"Common\",\n",
    "    #     \"allowOffsets\": True,\n",
    "    #     \"offsetLimit\": {\"type\": \"Explicit\",\"value\": 0},        \n",
    "    #     \"normalization\": True,\n",
    "    #     \"maxModelComplexity\": 50,\n",
    "    #     \"features\": [\n",
    "    #         \"ExponentialMovingAverage\",\n",
    "    #         \"RestOfWeek\",\n",
    "    #         \"Periodic\",\n",
    "    #         \"Intercept\",\n",
    "    #         \"PiecewiseLinear\",\n",
    "    #         \"TimeOffsets\",\n",
    "    #         \"Polynomial\",\n",
    "    #         \"Identity\",\n",
    "    #         \"PublicHolidays\",      \n",
    "    #         \"SimpleMovingAverage\",\n",
    "    #         \"Month\",\n",
    "    #         \"Trend\",\n",
    "    #         \"DayOfWeek\",\n",
    "    #         \"Fourier\",\n",
    "    #     ],\n",
    "    #     \"memoryLimitCheck\": True,\n",
    "    #     \"rebuildingPolicy\": {\n",
    "    #         \"type\": \"All\",\n",
    "    #         \"time\": {\"baseUnit\": \"Sample\",\"value\": 1}\n",
    "    #     },\n",
    "    #     \"predictionIntervals\": 90,\n",
    "    #     \"predictionBoundaries\": {\n",
    "    #         \"type\": \"Explicit\",\n",
    "    #         \"maxValue\": 750,\n",
    "    #         \"minValue\": 100\n",
    "    #     },\n",
    "    #     \"rollingWindow\": {\"baseUnit\": \"Sample\",\"value\": 1},\n",
    "    #     \"backtest\": \"All\"\n",
    "    # },\n",
    "    # \"data\": {\n",
    "    #     \"version\": {\"id\":\"versionId\"},\n",
    "    #     \"inSampleRows\": {\"baseUnit\": \"Sample\",\"value\": 1}, # or [{\"from\": \"yyyy-mm-dd HH:MM:SS\",\"to\": \"yyyy-mm-dd HH:MM:SS\"}]\n",
    "    #     \"outOfSampleRows\": {\"baseUnit\": \"Sample\",\"value\": 7*8}, # or [{\"from\": \"yyyy-mm-dd HH:MM:SS\",\"to\": \"yyyy-mm-dd HH:MM:SS\"}]\n",
    "    #     \"imputation\": {\"type\": \"Linear\",\"maxGapLength\": 6},\n",
    "    #     \"columns\": [\n",
    "    #         1,\n",
    "    #         3,\n",
    "    #         \"wind\"\n",
    "    #         ],\n",
    "    #     \"alignment\": {\n",
    "    #         \"lastTargetTimestamp\": \"yyyy-mm-dd HH:MM:SS\",\n",
    "    #         \"dataUntil\": [\n",
    "    #             {\"column\": \"Sales\",\"baseUnit\": \"Hour\",\"offset\": -2}\n",
    "    #         ]\n",
    "    #     },\n",
    "    #     \"preprocessors\": [\n",
    "    #         {\"type\": \"CategoryFilter\"}\n",
    "    #     ]\n",
    "    # }\n",
    "}"
   ]
  },
  {
   "cell_type": "markdown",
   "metadata": {},
   "source": [
    "[Go to Overview](#Overview)"
   ]
  },
  {
   "cell_type": "markdown",
   "metadata": {},
   "source": [
    "<a id='1.2.3'></a>\n",
    "### 1.2.3 forecast_retrain_model"
   ]
  },
  {
   "cell_type": "code",
   "execution_count": 17,
   "metadata": {},
   "outputs": [],
   "source": [
    "forecast_retrain_model_configuration = {\n",
    "#     \"name\": \"My first forecast job\",\n",
    "#     \"experiment\": {\"id\": \"f2d3d8ee-3c05-4df7-abcf-b13f44073f42\"},\n",
    "#     \"configuration\": {\n",
    "#         \"predictionTo\": {\"baseUnit\": \"Sample\",\"value\": 24},\n",
    "#         \"predictionFrom\": {\"baseUnit\": \"Sample\",\"value\": 1},\n",
    "#         \"normalization\": True,\n",
    "#         \"memoryLimitCheck\": True,\n",
    "#         \"predictionBoundaries\": {\"type\": \"Explicit\",\"maxValue\": 100,\"minValue\": 0},\n",
    "#         \"rollingWindow\": {\"baseUnit\": \"Sample\",\"value\": 1},\n",
    "#         \"backtest\": \"All\"\n",
    "#     },\n",
    "#     \"data\": {\n",
    "#         \"version\": {\"id\": \"a74ae716-a86e-47f0-8a50-d8b21d6d7dd6\"},\n",
    "#         \"inSampleRows\": {\"baseUnit\": \"Sample\",\"value\": 1}, # or [{\"from\": \"yyyy-mm-dd HH:MM:SS\",\"to\": \"yyyy-mm-dd HH:MM:SS\"}]\n",
    "#         \"outOfSampleRows\": {\"baseUnit\": \"Sample\",\"value\": 7*8}, # or [{\"from\": \"yyyy-mm-dd HH:MM:SS\",\"to\": \"yyyy-mm-dd HH:MM:SS\"}]\n",
    "#         \"imputation\": {\"type\": \"Linear\",\"maxGapLength\": 6},\n",
    "#         \"alignment\": {\n",
    "#             \"lastTargetTimestamp\": \"2021-01-31 00:00:00Z\",\n",
    "#             \"dataUntil\": [\n",
    "#                 {\"column\": \"Sales\",\"baseUnit\": \"Hour\",\"offset\": -2}\n",
    "#             ]\n",
    "#         },\n",
    "#         \"preprocessors\": [\n",
    "#             {\"type\": \"CategoryFilter\"}\n",
    "#         ]\n",
    "#     }\n",
    "}"
   ]
  },
  {
   "cell_type": "markdown",
   "metadata": {},
   "source": [
    "[Go to Overview](#Overview)"
   ]
  },
  {
   "cell_type": "markdown",
   "metadata": {},
   "source": [
    "<a id='1.2.4'></a>\n",
    "### 1.2.4 forecast_predict"
   ]
  },
  {
   "cell_type": "code",
   "execution_count": 18,
   "metadata": {},
   "outputs": [],
   "source": [
    "forecast_predict_configuration = {\n",
    "#         \"name\": \"My first forecast job\",\n",
    "#         \"experiment\": {\"id\":\"experimentId\"},\n",
    "#         \"configuration\": {\n",
    "#             \"predictionTo\": {\"baseUnit\": \"Sample\",\"value\": 24},\n",
    "#             \"predictionFrom\": {\"baseUnit\": \"Sample\",\"value\": 1},\n",
    "#             \"predictionBoundaries\": {\"type\": \"Explicit\",\"maxValue\": 750,\"minValue\": 100},\n",
    "#             \"rollingWindow\": {\"baseUnit\": \"Sample\",\"value\": 1}\n",
    "#         },\n",
    "#     \"data\": {\n",
    "#         \"version\": {\"id\": \"a74ae716-a86e-47f0-8a50-d8b21d6d7dd6\"},\n",
    "#         \"outOfSampleRows\": {\"baseUnit\": \"Sample\",\"value\": 7*8}, # or [{\"from\": \"yyyy-mm-dd HH:MM:SS\",\"to\": \"yyyy-mm-dd HH:MM:SS\"}]\n",
    "#         \"imputation\": {\"type\": \"Linear\",\"maxGapLength\": 6},\n",
    "#         \"alignment\": {\n",
    "#             \"lastTargetTimestamp\": \"2021-01-31 00:00:00Z\",\n",
    "#             \"dataUntil\": [\n",
    "#                 {\"column\": \"Sales\",\"baseUnit\": \"Hour\",\"offset\": -2}\n",
    "#             ]\n",
    "#         },\n",
    "#         \"preprocessors\": [\n",
    "#             {\"type\": \"CategoryFilter\"}\n",
    "#         ]\n",
    "#     }\n",
    "}"
   ]
  },
  {
   "cell_type": "markdown",
   "metadata": {},
   "source": [
    "[Go to Overview](#Overview)"
   ]
  },
  {
   "cell_type": "markdown",
   "metadata": {},
   "source": [
    "<a id='1.2.5'></a>\n",
    "### 1.2.5 forecasting_upload_model"
   ]
  },
  {
   "cell_type": "code",
   "execution_count": 19,
   "metadata": {},
   "outputs": [],
   "source": [
    "forecasting_upload_model_configuration = {\n",
    "#     \"name\": \"My first forecast job\",\n",
    "#     \"useCase\": {\n",
    "#         \"id\": \"176cba58-416e-4bb8-a79c-b538bc8fce93\"\n",
    "#     },\n",
    "#     \"experiment\": {\n",
    "#         \"id\": \"f2d3d8ee-3c05-4df7-abcf-b13f44073f42\"\n",
    "#     },\n",
    "#     \"model\":\"model\"\n",
    "}"
   ]
  },
  {
   "cell_type": "markdown",
   "metadata": {},
   "source": [
    "[Go to Overview](#Overview)"
   ]
  },
  {
   "cell_type": "markdown",
   "metadata": {},
   "source": [
    "<a id='1.2.6'></a>\n",
    "### 1.2.6 forecasting_what_if"
   ]
  },
  {
   "cell_type": "code",
   "execution_count": 22,
   "metadata": {},
   "outputs": [],
   "source": [
    "forecasting_what_if_configuration = [{\n",
    "    # \"column\": \"Promo\",\n",
    "    # \"groupKeysValues\": [\n",
    "    #     1,\n",
    "    #     \"London\"\n",
    "    # ],\n",
    "    # \"data\": {\n",
    "    #     \"2015-07-30 00:00:00\":1,\n",
    "    #     \"2015-07-31 00:00:00\":1,\n",
    "    # }\n",
    "}]"
   ]
  },
  {
   "cell_type": "markdown",
   "metadata": {},
   "source": [
    "[Go to Overview](#Overview)"
   ]
  },
  {
   "cell_type": "markdown",
   "metadata": {},
   "source": [
    "<a id='1.3.0'></a>\n",
    "## 1.3 Anomaly Detection"
   ]
  },
  {
   "cell_type": "markdown",
   "metadata": {},
   "source": [
    "<a id='1.3.1'></a>\n",
    "### 1.3.1 detection_build_kpi_model"
   ]
  },
  {
   "cell_type": "code",
   "execution_count": 23,
   "metadata": {},
   "outputs": [],
   "source": [
    "detection_build_kpi_model_configuration = {\n",
    "#     \"name\": \"My first anomaly build-model job\",\n",
    "#     \"useCase\": {\"id\": \"7303eb62-b5cb-42a3-80fd-5a5901bd169c\"},\n",
    "#     \"experiment\": {\"id\": \"f2d3d8ee-3c05-4df7-abcf-b13f44073f42\"},\n",
    "#     \"configuration\": {\n",
    "#         \"domainSpecifics\": [\n",
    "#             {\n",
    "#                 \"perspective\": \"Residual\",\n",
    "#                 \"sensitivity\": 0,\n",
    "#                 \"minSensitivity\": 0,\n",
    "#                 \"maxSensitivity\": 0\n",
    "#             }\n",
    "#         ],\n",
    "#         \"normalBehaviorModel\": {\n",
    "#             \"useNormalBehaviorModel\": True,\n",
    "#             \"normalization\": True,\n",
    "#             \"maxModelComplexity\": 50,\n",
    "#             \"features\": [\n",
    "#                 \"ExponentialMovingAverage\",\n",
    "#                 \"TimeOffsets\",\n",
    "#                 \"Identity\",\n",
    "#                 \"Intercept\"\n",
    "#             ],\n",
    "#             \"dailyCycle\": true,\n",
    "#             \"useKPIoffsets\": true,\n",
    "#             \"allowOffsets\": true,\n",
    "#             \"offsetLimit\": {\"type\": \"Explicit\",\"value\": 0}\n",
    "#         },\n",
    "#         \"anomalousBehaviorModel\": {\n",
    "#             \"maxModelComplexity\": 15,\n",
    "#             \"detectionIntervals\": [\n",
    "#                 {\"type\": \"Hour\",\"value\": \"8-16\"}\n",
    "#             ]\n",
    "#         }\n",
    "#     },\n",
    "#     \"data\": {\n",
    "#         \"version\": {\"id\": \"a74ae716-a86e-47f0-8a50-d8b21d6d7dd6\"},\n",
    "#         \"rows\": {\"type\":\"Last\",\"baseUnit\": \"Sample\",\"value\": 1}, #{\"type\":\"Last\",\"baseUnit\": \"Sample\",\"value\": 1} or [{\"from\": \"yyyy-mm-dd HH:MM:SS\",\"to\": \"yyyy-mm-dd HH:MM:SS\"}]\n",
    "#         \"columns\": [\n",
    "#             1,\n",
    "#             3,\n",
    "#             \"wind_speed\"\n",
    "#         ],\n",
    "#         \"KPIColumn\": \"rotor_speed\",\n",
    "#         \"holidayColumn\": \"PH\",\n",
    "#         \"labelColumn\": \"LABEL\",\n",
    "#         \"imputation\": {\"type\": \"LOCF\",\"maxGapLength\": 6},\n",
    "#         \"timeScale\": {\"baseUnit\": \"Hour\",\"value\": 1},\n",
    "#         \"aggregation\": \"Mean\",\n",
    "#         \"updates\": [\n",
    "#             {\n",
    "#                 \"column\": \"wind_speed\",\n",
    "#                 \"updateTime\": [\n",
    "#                     {\"type\": \"Hour\",\"value\": \"1,12,23\"}\n",
    "#                 ],\n",
    "#                 \"updateUntil\": {\"baseUnit\": \"Hour\",\"offset\": -2}\n",
    "#             }\n",
    "#         ]\n",
    "#     }\n",
    "}"
   ]
  },
  {
   "cell_type": "markdown",
   "metadata": {},
   "source": [
    "[Go to Overview](#Overview)"
   ]
  },
  {
   "cell_type": "markdown",
   "metadata": {},
   "source": [
    "<a id='1.3.2'></a>\n",
    "### 1.3.2 detection_build_system_model"
   ]
  },
  {
   "cell_type": "code",
   "execution_count": 24,
   "metadata": {},
   "outputs": [],
   "source": [
    "detection_build_system_model_configuration = {\n",
    "#     \"name\": \"My first anomaly build-model job\",\n",
    "#     \"useCase\": {\"id\": \"7303eb62-b5cb-42a3-80fd-5a5901bd169c\"},\n",
    "#     \"experiment\": {\"id\": \"f2d3d8ee-3c05-4df7-abcf-b13f44073f42\"},\n",
    "#     \"configuration\": {\n",
    "#         \"domainSpecifics\": {\n",
    "#             \"sensitivity\": 0.15,\n",
    "#             \"minSensitivity\": 0,\n",
    "#             \"maxSensitivity\": 0,\n",
    "#             \"anomalyIndicatorWindow\": {\"baseUnit\": \"Hour\",\"value\": 24}\n",
    "#         },\n",
    "#         \"model\": {\n",
    "#             \"numberOfTrees\": 50,\n",
    "#             \"subSampleSize\": 120,\n",
    "#             \"maxTreeDepth\": 7,\n",
    "#             \"extensionLevel\": 1,\n",
    "#             \"normalization\": True\n",
    "#         }\n",
    "#     },\n",
    "#     \"data\": {\n",
    "#         \"version\": {\"id\": \"a74ae716-a86e-47f0-8a50-d8b21d6d7dd6\"},\n",
    "#         \"rows\": {\"type\":\"Last\",\"baseUnit\": \"Sample\",\"value\": 1}, #{\"type\":\"Last\",\"baseUnit\": \"Sample\",\"value\": 1} or [{\"from\": \"yyyy-mm-dd HH:MM:SS\",\"to\": \"yyyy-mm-dd HH:MM:SS\"}]\n",
    "#         \"columns\": [\n",
    "#             1,\n",
    "#             3,\n",
    "#             \"wind_speed\"\n",
    "#         ],\n",
    "#         \"labelColumn\": \"LABEL\",\n",
    "#         \"imputation\": {\"type\": \"LOCF\",\"maxGapLength\": 6},\n",
    "#         \"timeScale\": {\"baseUnit\": \"Hour\",\"value\": 1}\n",
    "#     }\n",
    "}"
   ]
  },
  {
   "cell_type": "markdown",
   "metadata": {},
   "source": [
    "[Go to Overview](#Overview)"
   ]
  },
  {
   "cell_type": "markdown",
   "metadata": {},
   "source": [
    "<a id='1.3.3'></a>\n",
    "### 1.3.3 detection_rebuild_kpi_model"
   ]
  },
  {
   "cell_type": "code",
   "execution_count": 25,
   "metadata": {},
   "outputs": [],
   "source": [
    "detection_rebuild_kpi_model_configuration = {\n",
    "#     \"name\": \"My first anomaly rebuild-model job\",\n",
    "#     \"experiment\": {\"id\": \"f2d3d8ee-3c05-4df7-abcf-b13f44073f42\"},\n",
    "#     \"configuration\": {\n",
    "#         \"domainSpecifics\": [\n",
    "#             {\n",
    "#                 \"perspective\": \"Residual\",\n",
    "#                 \"sensitivity\": 0,\n",
    "#                 \"minSensitivity\": 0,\n",
    "#                 \"maxSensitivity\": 0\n",
    "#             }\n",
    "#         ],\n",
    "#         \"rebuildType\": \"All\"\n",
    "#     },\n",
    "#     \"data\": {\n",
    "#         \"version\": {\"id\": \"a74ae716-a86e-47f0-8a50-d8b21d6d7dd6\"},\n",
    "#         \"imputation\": {\"type\": \"LOCF\",\"maxGapLength\": 6}\n",
    "#     }\n",
    "}"
   ]
  },
  {
   "cell_type": "markdown",
   "metadata": {},
   "source": [
    "[Go to Overview](#Overview)"
   ]
  },
  {
   "cell_type": "markdown",
   "metadata": {},
   "source": [
    "<a id='1.3.4'></a>\n",
    "### 1.3.4 detection_detect"
   ]
  },
  {
   "cell_type": "code",
   "execution_count": 26,
   "metadata": {},
   "outputs": [],
   "source": [
    "detection_detect_configuration = {\n",
    "#     \"name\": \"My first anomaly detect job\",\n",
    "#     \"experiment\": {\"id\": \"f2d3d8ee-3c05-4df7-abcf-b13f44073f42\"},\n",
    "#     \"data\": {\n",
    "#         \"version\": {\"id\": \"a74ae716-a86e-47f0-8a50-d8b21d6d7dd6\"},\n",
    "#         \"rows\": {\"type\":\"Last\",\"baseUnit\": \"Sample\",\"value\": 1}, #{\"type\":\"Last\",\"baseUnit\": \"Sample\",\"value\": 1} or [{\"from\": \"yyyy-mm-dd HH:MM:SS\",\"to\": \"yyyy-mm-dd HH:MM:SS\"}]\n",
    "#         \"imputation\": {\"type\": \"LOCF\",\"maxGapLength\": 6}\n",
    "#     }\n",
    "}"
   ]
  },
  {
   "cell_type": "markdown",
   "metadata": {},
   "source": [
    "[Go to Overview](#Overview)"
   ]
  },
  {
   "cell_type": "markdown",
   "metadata": {},
   "source": [
    "<a id='1.3.5'></a>\n",
    "### 1.3.5 detection_upload_model"
   ]
  },
  {
   "cell_type": "code",
   "execution_count": 27,
   "metadata": {},
   "outputs": [],
   "source": [
    "detection_upload_model_configuration = {\n",
    "#     \"name\": \"My first anomaly detection job\",\n",
    "#     \"useCase\": {\n",
    "#         \"id\": \"176cba58-416e-4bb8-a79c-b538bc8fce93\"\n",
    "#     },\n",
    "#     \"experiment\": {\n",
    "#         \"id\": \"f2d3d8ee-3c05-4df7-abcf-b13f44073f42\"\n",
    "#     },\n",
    "#     \"model\":\"model\"\n",
    "}"
   ]
  },
  {
   "cell_type": "markdown",
   "metadata": {},
   "source": [
    "[Go to Overview](#Overview)"
   ]
  },
  {
   "cell_type": "markdown",
   "metadata": {},
   "source": [
    "<a id='1.3.6'></a>\n",
    "### 1.3.6 detection_what_if"
   ]
  },
  {
   "cell_type": "code",
   "execution_count": 28,
   "metadata": {},
   "outputs": [],
   "source": [
    "detection_what_if_configuration = [{\n",
    "    # \"column\": \"Promo\",\n",
    "    # \"groupKeysValues\": [\n",
    "    #     1,\n",
    "    #     \"London\"\n",
    "    # ],\n",
    "    # \"data\": {\n",
    "    #     \"2015-07-30 00:00:00\":1,\n",
    "    #     \"2015-07-31 00:00:00\":1,\n",
    "    # }\n",
    "}]"
   ]
  },
  {
   "cell_type": "markdown",
   "metadata": {},
   "source": [
    "[Go to Overview](#Overview)"
   ]
  },
  {
   "cell_type": "markdown",
   "metadata": {},
   "source": [
    "<a id='1.3.7'></a>\n",
    "### 1.3.7 detection_build_outlier_model"
   ]
  },
  {
   "cell_type": "code",
   "execution_count": 29,
   "metadata": {},
   "outputs": [],
   "source": [
    "detection_build_outlier_model_configuration = {\n",
    "    # \"name\": \"Job name\",\n",
    "    # \"useCase\": {\"id\": \"47c21df1-f5e5-4310-924c-5ea4c9adcbb2\"},\n",
    "    # \"experiment\": {\"id\": \"f2d3d8ee-3c05-4df7-abcf-b13f44073f42\"},\n",
    "    # \"configuration\": {\n",
    "    #     \"maxModelComplexity\": 15,\n",
    "    #     \"sensitivity\": 1\n",
    "    # },\n",
    "    # \"data\": {\n",
    "    #     \"version\": {\"id\": \"a74ae716-a86e-47f0-8a50-d8b21d6d7dd6\"},\n",
    "    #     \"rows\": {\"type\":\"Last\",\"baseUnit\": \"Sample\",\"value\": 1}, #{\"type\":\"Last\",\"baseUnit\": \"Sample\",\"value\": 1} or [{\"from\": \"yyyy-mm-dd HH:MM:SS\",\"to\": \"yyyy-mm-dd HH:MM:SS\"}]\n",
    "    #     \"columns\": [\n",
    "    #         1,\n",
    "    #         3,\n",
    "    #         \"wind\"\n",
    "    #     ],\n",
    "    #     \"timeScale\": {\n",
    "    #         \"baseUnit\": \"Hour\",\n",
    "    #         \"value\": 1\n",
    "    #     }\n",
    "    # }\n",
    "}"
   ]
  },
  {
   "cell_type": "markdown",
   "metadata": {},
   "source": [
    "[Go to Overview](#Overview)"
   ]
  },
  {
   "cell_type": "markdown",
   "metadata": {},
   "source": [
    "<a id='1.3.8'></a>\n",
    "### 1.3.8 detection_build_drift_model_kolmogorov_smirnov"
   ]
  },
  {
   "cell_type": "code",
   "execution_count": 30,
   "metadata": {},
   "outputs": [],
   "source": [
    "detection_build_drift_model_kolmogorov_smirnov_configuration = {\n",
    "    # \"name\": \"Job name\",\n",
    "    # \"useCase\": {\"id\": \"47c21df1-f5e5-4310-924c-5ea4c9adcbb2\"},\n",
    "    # \"experiment\": {\"id\": \"f2d3d8ee-3c05-4df7-abcf-b13f44073f42\"},\n",
    "    # \"configuration\": {\n",
    "    #     \"pValue\": 0.05\n",
    "    # },\n",
    "    # \"data\": {\n",
    "    #     \"version\": {\"id\": \"a74ae716-a86e-47f0-8a50-d8b21d6d7dd6\"},\n",
    "    #     \"referenceRows\":{\"type\":\"Last\",\"baseUnit\": \"Sample\",\"value\": 1}, #{\"type\":\"Last\",\"baseUnit\": \"Sample\",\"value\": 1} or [{\"from\": \"yyyy-mm-dd HH:MM:SS\",\"to\": \"yyyy-mm-dd HH:MM:SS\"}],\n",
    "    #     \"testRows\":{\"type\":\"Last\",\"baseUnit\": \"Sample\",\"value\": 1}, #{\"type\":\"Last\",\"baseUnit\": \"Sample\",\"value\": 1} or [{\"from\": \"yyyy-mm-dd HH:MM:SS\",\"to\": \"yyyy-mm-dd HH:MM:SS\"}],\n",
    "    #     \"columns\": [\n",
    "    #         1,\n",
    "    #         3,\n",
    "    #         \"wind\"\n",
    "    #     ],\n",
    "    #     \"timeScale\": {\n",
    "    #         \"baseUnit\": \"Hour\",\n",
    "    #         \"value\": 1\n",
    "    #     }\n",
    "    # }\n",
    "}"
   ]
  },
  {
   "cell_type": "markdown",
   "metadata": {},
   "source": [
    "[Go to Overview](#Overview)"
   ]
  },
  {
   "cell_type": "markdown",
   "metadata": {},
   "source": [
    "<a id='1.3.9'></a>\n",
    "### 1.3.9 detection_build_drift_model_jensen_shannon"
   ]
  },
  {
   "cell_type": "code",
   "execution_count": 31,
   "metadata": {},
   "outputs": [],
   "source": [
    "detection_build_drift_model_jensen_shannon_configuration = {\n",
    "    # \"name\": \"Job name\",\n",
    "    # \"useCase\": {\"id\": \"47c21df1-f5e5-4310-924c-5ea4c9adcbb2\"},\n",
    "    # \"experiment\": {\"id\": \"f2d3d8ee-3c05-4df7-abcf-b13f44073f42\"},\n",
    "    # \"configuration\": {\n",
    "    #     \"threshold\": 0.01\n",
    "    # },\n",
    "    # \"data\": {\n",
    "    #     \"version\": {\"id\": \"a74ae716-a86e-47f0-8a50-d8b21d6d7dd6\"},\n",
    "    #     \"referenceRows\":{\"type\":\"Last\",\"baseUnit\": \"Sample\",\"value\": 1}, #{\"type\":\"Last\",\"baseUnit\": \"Sample\",\"value\": 1} or [{\"from\": \"yyyy-mm-dd HH:MM:SS\",\"to\": \"yyyy-mm-dd HH:MM:SS\"}],\n",
    "    #     \"testRows\":{\"type\":\"Last\",\"baseUnit\": \"Sample\",\"value\": 1}, #{\"type\":\"Last\",\"baseUnit\": \"Sample\",\"value\": 1} or [{\"from\": \"yyyy-mm-dd HH:MM:SS\",\"to\": \"yyyy-mm-dd HH:MM:SS\"}],\n",
    "    #     \"columns\": [\n",
    "    #         1,\n",
    "    #         3,\n",
    "    #         \"wind\"\n",
    "    #     ],\n",
    "    #     \"timeScale\": {\n",
    "    #         \"baseUnit\": \"Hour\",\n",
    "    #         \"value\": 1\n",
    "    #     }\n",
    "    # }\n",
    "}"
   ]
  },
  {
   "cell_type": "markdown",
   "metadata": {},
   "source": [
    "[Go to Overview](#Overview)"
   ]
  },
  {
   "cell_type": "markdown",
   "metadata": {},
   "source": [
    "<a id='2.0.0'></a>\n",
    "# 2. Functions"
   ]
  },
  {
   "cell_type": "code",
   "execution_count": 32,
   "metadata": {},
   "outputs": [],
   "source": [
    "# # ----------------------------------------------------------\n",
    "# client.extended_datasets.upload_dataset\n",
    "# client.extended_datasets.update_dataset\n",
    "# client.extended_datasets.poll_dataset_version_status\n",
    "# # ----------------------------------------------------------\n",
    "# client.extended_forecasting.build_model\n",
    "# client.extended_forecasting.execute\n",
    "# client.extended_forecasting.poll_forecast_status\n",
    "# client.extended_forecasting.predict\n",
    "# client.extended_forecasting.quick_forecast\n",
    "# client.extended_forecasting.rebuild_model\n",
    "# client.extended_forecasting.results\n",
    "# client.extended_forecasting.results_rca\n",
    "# client.extended_forecasting.retrain_model\n",
    "# client.extended_forecasting.root_cause_analysis\n",
    "# client.extended_forecasting.what_if_analysis\n",
    "# # ----------------------------------------------------------\n",
    "# client.extended_detection.build_kpi_model\n",
    "# client.extended_detection.build_system_model\n",
    "# client.extended_detection.build_outlier_model\n",
    "# client.extended_detection.rebuild_kpi_model\n",
    "# client.extended_detection.execute\n",
    "# client.extended_detection.detect\n",
    "# client.extended_detection.results\n",
    "# client.extended_detection.poll_detect_status\n",
    "# client.extended_detection.results_rca\n",
    "# client.extended_detection.root_cause_analysis\n",
    "# client.extended_detection.what_if_analysis\n",
    "# client.extended_detection.build_drift_model_jensen_shannon\n",
    "# client.extended_detection.build_drift_model_kolmogorov_smirnov"
   ]
  },
  {
   "cell_type": "markdown",
   "metadata": {},
   "source": [
    "<a id='2.1.0'></a>\n",
    "## 2.1 Datasets"
   ]
  },
  {
   "cell_type": "markdown",
   "metadata": {},
   "source": [
    "<a id='2.1.1'></a>\n",
    "### 2.1.1 upload_dataset"
   ]
  },
  {
   "cell_type": "code",
   "execution_count": 32,
   "metadata": {},
   "outputs": [
    {
     "name": "stdout",
     "output_type": "stream",
     "text": [
      "{'status': 'Running', 'progress': 85.62, 'createdAt': '2023-05-02T15:43:51.839Z'}\n",
      "{'status': 'Finished', 'progress': 100.0, 'createdAt': '2023-05-02T15:43:51.839Z'}\n"
     ]
    }
   ],
   "source": [
    "upload_dataset = client.extended_datasets.upload_dataset(\n",
    "    dataset = dataset,\n",
    "    configuration = upload_dataset_configuration,\n",
    "    wait_to_finish = True,\n",
    "    outputs = [\n",
    "        'response',\n",
    "        'logs',\n",
    "        'details'\n",
    "    ],\n",
    "    status_poll = print,\n",
    "    tries_left = 300,\n",
    ")"
   ]
  },
  {
   "cell_type": "code",
   "execution_count": 33,
   "metadata": {},
   "outputs": [],
   "source": [
    "upload_dataset_details = upload_dataset.details\n",
    "upload_dataset_logs = upload_dataset.logs\n",
    "upload_dataset_response = upload_dataset.response"
   ]
  },
  {
   "cell_type": "code",
   "execution_count": 34,
   "metadata": {},
   "outputs": [],
   "source": [
    "dataset_id = upload_dataset_response['id']"
   ]
  },
  {
   "cell_type": "markdown",
   "metadata": {},
   "source": [
    "[Go to Overview](#Overview)"
   ]
  },
  {
   "cell_type": "markdown",
   "metadata": {},
   "source": [
    "<a id='2.1.2'></a>\n",
    "### 2.1.2 update_dataset"
   ]
  },
  {
   "cell_type": "code",
   "execution_count": 35,
   "metadata": {},
   "outputs": [
    {
     "name": "stdout",
     "output_type": "stream",
     "text": [
      "{'status': 'Running', 'progress': 85.62, 'createdAt': '2023-05-02T15:44:00.993Z'}\n",
      "{'status': 'Finished', 'progress': 100.0, 'createdAt': '2023-05-02T15:44:00.993Z'}\n"
     ]
    }
   ],
   "source": [
    "update_dataset = client.extended_datasets.update_dataset(\n",
    "    dataset_id = dataset_id,\n",
    "    dataset_version = dataset,\n",
    "    configuration = update_dataset_configuration,\n",
    "    wait_to_finish = True,\n",
    "    outputs = [\n",
    "        'response',\n",
    "        'logs',\n",
    "        'details'\n",
    "    ],\n",
    "    status_poll = print,\n",
    "    tries_left = 300,\n",
    ")"
   ]
  },
  {
   "cell_type": "code",
   "execution_count": 36,
   "metadata": {},
   "outputs": [],
   "source": [
    "update_dataset_details = update_dataset.details\n",
    "update_dataset_logs = update_dataset.logs\n",
    "update_dataset_response = update_dataset.response"
   ]
  },
  {
   "cell_type": "code",
   "execution_count": 37,
   "metadata": {},
   "outputs": [],
   "source": [
    "dataset_version_id = update_dataset_response['version']['id']"
   ]
  },
  {
   "cell_type": "markdown",
   "metadata": {},
   "source": [
    "[Go to Overview](#Overview)"
   ]
  },
  {
   "cell_type": "markdown",
   "metadata": {},
   "source": [
    "<a id='2.1.3'></a>\n",
    "### 2.1.3 poll_dataset_version_status"
   ]
  },
  {
   "cell_type": "code",
   "execution_count": 38,
   "metadata": {},
   "outputs": [
    {
     "name": "stdout",
     "output_type": "stream",
     "text": [
      "{'status': 'Finished', 'progress': 100.0, 'createdAt': '2023-05-02T15:44:00.993Z'}\n"
     ]
    }
   ],
   "source": [
    "poll_dataset_version_status = client.extended_datasets.poll_dataset_version_status(\n",
    "    id = dataset_id,\n",
    "    version_id = dataset_version_id,\n",
    "    status_poll = print,\n",
    "    tries_left = 300,\n",
    ")"
   ]
  },
  {
   "cell_type": "markdown",
   "metadata": {},
   "source": [
    "[Go to Overview](#Overview)"
   ]
  },
  {
   "cell_type": "markdown",
   "metadata": {},
   "source": [
    "<a id='2.2.0'></a>\n",
    "## 2.2 Forecasting"
   ]
  },
  {
   "cell_type": "markdown",
   "metadata": {},
   "source": [
    "<a id='2.2.1'></a>\n",
    "### 2.2.1 build_model"
   ]
  },
  {
   "cell_type": "code",
   "execution_count": 39,
   "metadata": {},
   "outputs": [
    {
     "name": "stdout",
     "output_type": "stream",
     "text": [
      "{'status': 'Running', 'createdAt': '2023-05-02T15:44:14.560Z'}\n",
      "{'status': 'Running', 'progress': 100.0, 'CPU': 0.05, 'memory': 4775.0, 'createdAt': '2023-05-02T15:44:17.525Z'}\n",
      "{'status': 'Finished', 'progress': 100.0, 'CPU': 0.05, 'memory': 4775.0, 'createdAt': '2023-05-02T15:44:17.525Z'}\n"
     ]
    }
   ],
   "source": [
    "forecasting_build_model = client.extended_forecasting.build_model(\n",
    "    configuration = forecast_build_model_configuration,\n",
    "    dataset_id = dataset_id,\n",
    "    execute = True,\n",
    "    wait_to_finish = True,\n",
    "    outputs = [\n",
    "        'id',\n",
    "        'details',\n",
    "        'logs',\n",
    "        'status',\n",
    "        'table',\n",
    "        'production_forecast',\n",
    "        'model',\n",
    "        'accuracies',\n",
    "        'production_table',\n",
    "        'production_accuracies'\n",
    "    ],\n",
    "    status_poll = print,\n",
    "    tries_left = 300\n",
    " )"
   ]
  },
  {
   "cell_type": "code",
   "execution_count": 40,
   "metadata": {},
   "outputs": [],
   "source": [
    "forecasting_build_model_id = forecasting_build_model.id\n",
    "forecasting_build_model_details = forecasting_build_model.details\n",
    "forecasting_build_model_logs = forecasting_build_model.logs\n",
    "forecasting_build_model_status = forecasting_build_model.status\n",
    "forecasting_build_model_table = forecasting_build_model.table\n",
    "forecasting_build_model_production_forecast = forecasting_build_model.production_forecast\n",
    "forecasting_build_model_model = forecasting_build_model.model\n",
    "forecasting_build_model_accuracies = forecasting_build_model.accuracies\n",
    "forecasting_build_model_production_table = forecasting_build_model.production_table\n",
    "forecasting_build_model_production_accuracies = forecasting_build_model.production_accuracies"
   ]
  },
  {
   "cell_type": "markdown",
   "metadata": {},
   "source": [
    "[Go to Overview](#Overview)"
   ]
  },
  {
   "cell_type": "markdown",
   "metadata": {},
   "source": [
    "<a id='2.2.2'></a>\n",
    "### 2.2.2 predict"
   ]
  },
  {
   "cell_type": "code",
   "execution_count": 41,
   "metadata": {},
   "outputs": [],
   "source": [
    "parent_job_id = forecasting_build_model.id"
   ]
  },
  {
   "cell_type": "code",
   "execution_count": 42,
   "metadata": {},
   "outputs": [],
   "source": [
    "forecasting_predict = client.extended_forecasting.predict(\n",
    "    parent_job_id = parent_job_id,\n",
    "    configuration = forecast_predict_configuration,\n",
    "    execute = False,\n",
    "    wait_to_finish = False,\n",
    "#     outputs = [\n",
    "#       'id',\n",
    "#       'logs',\n",
    "#       'status',\n",
    "#       'table',\n",
    "#       ],\n",
    "#     status_poll = print,\n",
    "#     tries_left = 300\n",
    " )"
   ]
  },
  {
   "cell_type": "code",
   "execution_count": 43,
   "metadata": {},
   "outputs": [],
   "source": [
    "forecasting_predict_id = forecasting_predict['id']"
   ]
  },
  {
   "cell_type": "markdown",
   "metadata": {},
   "source": [
    "[Go to Overview](#Overview)"
   ]
  },
  {
   "cell_type": "markdown",
   "metadata": {},
   "source": [
    "<a id='2.2.3'></a>\n",
    "### 2.2.3 execute"
   ]
  },
  {
   "cell_type": "code",
   "execution_count": 44,
   "metadata": {},
   "outputs": [],
   "source": [
    "execute_forecast_job = client.extended_forecasting.execute(\n",
    "    id = forecasting_predict_id,\n",
    "    wait_to_finish = False,\n",
    "    outputs = None,\n",
    "#     status_poll = print,\n",
    "#     tries_left = 300\n",
    ")"
   ]
  },
  {
   "cell_type": "markdown",
   "metadata": {},
   "source": [
    "[Go to Overview](#Overview)"
   ]
  },
  {
   "cell_type": "markdown",
   "metadata": {},
   "source": [
    "<a id='2.2.4'></a>\n",
    "### 2.2.4 poll_forecast_status"
   ]
  },
  {
   "cell_type": "code",
   "execution_count": 45,
   "metadata": {},
   "outputs": [],
   "source": [
    "job_id = execute_forecast_job['id']"
   ]
  },
  {
   "cell_type": "code",
   "execution_count": 46,
   "metadata": {},
   "outputs": [
    {
     "name": "stdout",
     "output_type": "stream",
     "text": [
      "{'status': 'Finished', 'progress': 100.0, 'CPU': 0.1, 'memory': 4774.0, 'createdAt': '2023-05-02T15:44:36.306Z'}\n"
     ]
    }
   ],
   "source": [
    "poll_forecast_status = client.extended_forecasting.poll_forecast_status(\n",
    "    id = job_id,\n",
    "    status_poll = print,\n",
    "    tries_left = 300\n",
    ")"
   ]
  },
  {
   "cell_type": "markdown",
   "metadata": {},
   "source": [
    "[Go to Overview](#Overview)"
   ]
  },
  {
   "cell_type": "markdown",
   "metadata": {},
   "source": [
    "<a id='2.2.5'></a>\n",
    "### 2.2.5 forecasting_job_results"
   ]
  },
  {
   "cell_type": "code",
   "execution_count": 47,
   "metadata": {},
   "outputs": [],
   "source": [
    "forecasting_job_results = client.extended_forecasting.results(\n",
    "    id = job_id,\n",
    "    outputs = [\n",
    "      'id',\n",
    "      'details',\n",
    "      'logs',\n",
    "      'status',\n",
    "      'table',\n",
    "      'production_forecast',\n",
    "      'model',\n",
    "      'accuracies',\n",
    "      'production_table',\n",
    "      'production_accuracies'\n",
    "      ]\n",
    ")"
   ]
  },
  {
   "cell_type": "code",
   "execution_count": 48,
   "metadata": {},
   "outputs": [],
   "source": [
    "forecasting_job_results_id = forecasting_job_results.id\n",
    "forecasting_job_results_details = forecasting_job_results.details\n",
    "forecasting_job_results_logs = forecasting_job_results.logs\n",
    "forecasting_job_results_status = forecasting_job_results.status\n",
    "forecasting_job_results_table = forecasting_job_results.table\n",
    "forecasting_job_results_production_forecast = forecasting_job_results.production_forecast\n",
    "forecasting_job_results_model = forecasting_job_results.model\n",
    "forecasting_job_results_accuracies = forecasting_job_results.accuracies\n",
    "forecasting_job_results_production_table = forecasting_job_results.production_table\n",
    "forecasting_job_results_production_accuracies = forecasting_job_results.production_accuracies"
   ]
  },
  {
   "cell_type": "markdown",
   "metadata": {},
   "source": [
    "[Go to Overview](#Overview)"
   ]
  },
  {
   "cell_type": "markdown",
   "metadata": {},
   "source": [
    "<a id='2.2.6'></a>\n",
    "### 2.2.6 forecasting_rebuild_model"
   ]
  },
  {
   "cell_type": "code",
   "execution_count": 49,
   "metadata": {},
   "outputs": [
    {
     "name": "stdout",
     "output_type": "stream",
     "text": [
      "{'status': 'Running', 'createdAt': '2023-05-02T15:44:55.404Z'}\n",
      "{'status': 'Running', 'createdAt': '2023-05-02T15:44:55.404Z'}\n",
      "{'status': 'Running', 'progress': 100.0, 'CPU': 0.06, 'memory': 4777.0, 'createdAt': '2023-05-02T15:45:00.568Z'}\n",
      "{'status': 'Finished', 'progress': 100.0, 'CPU': 0.06, 'memory': 4777.0, 'createdAt': '2023-05-02T15:45:00.568Z'}\n"
     ]
    }
   ],
   "source": [
    "forecasting_rebuild_model = client.extended_forecasting.rebuild_model(\n",
    "    parent_job_id = parent_job_id,\n",
    "    configuration = forecast_rebuild_model_configuration,\n",
    "    execute = True,\n",
    "    wait_to_finish = True,\n",
    "    outputs = [\n",
    "      'id',\n",
    "      'details',\n",
    "      'logs',\n",
    "      'status',\n",
    "      'table',\n",
    "      'production_forecast',\n",
    "      'model',\n",
    "      'accuracies',\n",
    "      'production_table',\n",
    "      'production_accuracies'\n",
    "      ],\n",
    "    status_poll = print,\n",
    "    tries_left = 300\n",
    " )"
   ]
  },
  {
   "cell_type": "code",
   "execution_count": 50,
   "metadata": {},
   "outputs": [],
   "source": [
    "forecasting_rebuild_model_id = forecasting_rebuild_model.id\n",
    "forecasting_rebuild_model_details = forecasting_rebuild_model.details\n",
    "forecasting_rebuild_model_logs = forecasting_rebuild_model.logs\n",
    "forecasting_rebuild_model_status = forecasting_rebuild_model.status\n",
    "forecasting_rebuild_model_table = forecasting_rebuild_model.table\n",
    "forecasting_rebuild_model_production_forecast = forecasting_rebuild_model.production_forecast\n",
    "forecasting_rebuild_model_model = forecasting_rebuild_model.model\n",
    "forecasting_rebuild_model_accuracies = forecasting_rebuild_model.accuracies\n",
    "forecasting_rebuild_model_production_table = forecasting_rebuild_model.production_table\n",
    "forecasting_rebuild_model_production_accuracies = forecasting_rebuild_model.production_accuracies"
   ]
  },
  {
   "cell_type": "markdown",
   "metadata": {},
   "source": [
    "[Go to Overview](#Overview)"
   ]
  },
  {
   "cell_type": "markdown",
   "metadata": {},
   "source": [
    "<a id='2.2.7'></a>\n",
    "### 2.2.7 forecasting_retrain_model"
   ]
  },
  {
   "cell_type": "code",
   "execution_count": 51,
   "metadata": {},
   "outputs": [
    {
     "name": "stdout",
     "output_type": "stream",
     "text": [
      "{'status': 'Running', 'createdAt': '2023-05-02T15:45:36.433Z'}\n",
      "{'status': 'Running', 'progress': 20.0, 'CPU': 0.03, 'memory': 4768.0, 'createdAt': '2023-05-02T15:45:40.894Z'}\n",
      "{'status': 'Running', 'progress': 100.0, 'CPU': 0.03, 'memory': 4776.0, 'createdAt': '2023-05-02T15:45:41.269Z'}\n",
      "{'status': 'Finished', 'progress': 100.0, 'CPU': 0.03, 'memory': 4776.0, 'createdAt': '2023-05-02T15:45:41.269Z'}\n"
     ]
    }
   ],
   "source": [
    "forecasting_retrain_model = client.extended_forecasting.retrain_model(\n",
    "    parent_job_id = parent_job_id,\n",
    "    configuration = forecast_retrain_model_configuration,\n",
    "    execute = True,\n",
    "    wait_to_finish = True,\n",
    "    outputs = [\n",
    "      'id',\n",
    "      'details',\n",
    "      'logs',\n",
    "      'status',\n",
    "      'table',\n",
    "      'production_forecast',\n",
    "      'model',\n",
    "      'accuracies',\n",
    "      'production_table',\n",
    "      'production_accuracies'\n",
    "      ],\n",
    "    status_poll = print,\n",
    "    tries_left = 300\n",
    " )"
   ]
  },
  {
   "cell_type": "code",
   "execution_count": 52,
   "metadata": {},
   "outputs": [],
   "source": [
    "forecasting_retrain_model_id = forecasting_retrain_model.id\n",
    "forecasting_retrain_model_details = forecasting_retrain_model.details\n",
    "forecasting_retrain_model_logs = forecasting_retrain_model.logs\n",
    "forecasting_retrain_model_status = forecasting_retrain_model.status\n",
    "forecasting_retrain_model_table = forecasting_retrain_model.table\n",
    "forecasting_retrain_model_production_forecast = forecasting_retrain_model.production_forecast\n",
    "forecasting_retrain_model_model = forecasting_retrain_model.model\n",
    "forecasting_retrain_model_accuracies = forecasting_retrain_model.accuracies\n",
    "forecasting_retrain_model_production_table = forecasting_retrain_model.production_table\n",
    "forecasting_retrain_model_production_accuracies = forecasting_retrain_model.production_accuracies"
   ]
  },
  {
   "cell_type": "markdown",
   "metadata": {},
   "source": [
    "[Go to Overview](#Overview)"
   ]
  },
  {
   "cell_type": "markdown",
   "metadata": {},
   "source": [
    "<a id='2.2.8'></a>\n",
    "### 2.2.8 forecasting_root_cause_analysis"
   ]
  },
  {
   "cell_type": "code",
   "execution_count": 53,
   "metadata": {},
   "outputs": [
    {
     "name": "stdout",
     "output_type": "stream",
     "text": [
      "{'status': 'Running', 'createdAt': '2023-05-02T15:45:54.573Z'}\n",
      "{'status': 'Running', 'progress': 100.0, 'CPU': 0.61, 'memory': 2475.0, 'createdAt': '2023-05-02T15:45:58.310Z'}\n",
      "{'status': 'Finished', 'progress': 100.0, 'CPU': 0.61, 'memory': 2475.0, 'createdAt': '2023-05-02T15:45:58.310Z'}\n"
     ]
    }
   ],
   "source": [
    "forecasting_root_cause_analysis = client.extended_forecasting.root_cause_analysis(\n",
    "    parent_job_id = parent_job_id,\n",
    "    execute = True,\n",
    "    wait_to_finish = True,\n",
    "    outputs = [\n",
    "        'id',\n",
    "        'details',\n",
    "        'logs',\n",
    "        'status',\n",
    "        'results'\n",
    "    ],\n",
    "    indices_of_model = None,\n",
    "    timestamp = None,\n",
    "    radius = None,\n",
    "    status_poll = print,\n",
    "    tries_left = 300\n",
    ")"
   ]
  },
  {
   "cell_type": "code",
   "execution_count": 54,
   "metadata": {},
   "outputs": [],
   "source": [
    "forecasting_root_cause_analysis_id = forecasting_root_cause_analysis.id\n",
    "forecasting_root_cause_analysis_details = forecasting_root_cause_analysis.details\n",
    "forecasting_root_cause_analysis_logs = forecasting_root_cause_analysis.logs\n",
    "forecasting_root_cause_analysis_status = forecasting_root_cause_analysis.status\n",
    "forecasting_root_cause_analysis_results = forecasting_root_cause_analysis.results"
   ]
  },
  {
   "cell_type": "markdown",
   "metadata": {},
   "source": [
    "[Go to Overview](#Overview)"
   ]
  },
  {
   "cell_type": "markdown",
   "metadata": {},
   "source": [
    "<a id='2.2.9'></a>\n",
    "### 2.2.9 forecasting_results_rca"
   ]
  },
  {
   "cell_type": "code",
   "execution_count": 55,
   "metadata": {},
   "outputs": [],
   "source": [
    "forecasting_results_rca = client.extended_forecasting.results_rca(\n",
    "    id = forecasting_root_cause_analysis_id,\n",
    "    indices_of_model = None,\n",
    "    parent_job_id = parent_job_id,\n",
    "    timestamp = None,\n",
    "    radius = None,\n",
    "    outputs = [\n",
    "        'id',\n",
    "        'details',\n",
    "        'logs',\n",
    "        'status',\n",
    "        'results'\n",
    "    ],\n",
    ")"
   ]
  },
  {
   "cell_type": "code",
   "execution_count": 56,
   "metadata": {},
   "outputs": [],
   "source": [
    "forecasting_results_rca_id = forecasting_results_rca.id\n",
    "forecasting_results_rca_details = forecasting_results_rca.details\n",
    "forecasting_results_rca_logs = forecasting_results_rca.logs\n",
    "forecasting_results_rca_status = forecasting_results_rca.status\n",
    "forecasting_results_rca_results = forecasting_results_rca.results"
   ]
  },
  {
   "cell_type": "markdown",
   "metadata": {},
   "source": [
    "[Go to Overview](#Overview)"
   ]
  },
  {
   "cell_type": "markdown",
   "metadata": {},
   "source": [
    "<a id='2.2.10'></a>\n",
    "### 2.2.10 forecasting_what_if_analysis"
   ]
  },
  {
   "cell_type": "code",
   "execution_count": 57,
   "metadata": {},
   "outputs": [
    {
     "name": "stdout",
     "output_type": "stream",
     "text": [
      "{'status': 'Queued', 'createdAt': '2023-05-02T15:46:19.613Z'}\n",
      "{'status': 'Queued', 'createdAt': '2023-05-02T15:46:19.613Z'}\n",
      "{'status': 'Queued', 'createdAt': '2023-05-02T15:46:19.613Z'}\n",
      "{'status': 'Queued', 'createdAt': '2023-05-02T15:46:19.613Z'}\n",
      "{'status': 'Queued', 'createdAt': '2023-05-02T15:46:19.613Z'}\n",
      "{'status': 'Running', 'progress': 100.0, 'CPU': 0.09, 'memory': 4796.0, 'createdAt': '2023-05-02T15:46:42.670Z'}\n",
      "{'status': 'Finished', 'progress': 100.0, 'CPU': 0.09, 'memory': 4796.0, 'createdAt': '2023-05-02T15:46:42.670Z'}\n"
     ]
    }
   ],
   "source": [
    "forecasting_what_if = client.extended_forecasting.what_if_analysis(\n",
    "    parent_job_id = parent_job_id,\n",
    "    configuration = forecasting_what_if_configuration,\n",
    "    execute = True,\n",
    "    wait_to_finish = True,\n",
    "    outputs = [\n",
    "        'id',\n",
    "        'details',\n",
    "        'logs',\n",
    "        'status',\n",
    "        'table',\n",
    "        'production_forecast',\n",
    "        'model',\n",
    "        'accuracies'\n",
    "    ],\n",
    "    status_poll = print,\n",
    "    tries_left = 300\n",
    " )"
   ]
  },
  {
   "cell_type": "code",
   "execution_count": 58,
   "metadata": {},
   "outputs": [],
   "source": [
    "forecasting_what_if_id = forecasting_what_if.id\n",
    "forecasting_what_if_details = forecasting_what_if.details\n",
    "forecasting_what_if_logs = forecasting_what_if.logs\n",
    "forecasting_what_if_status = forecasting_what_if.status\n",
    "forecasting_what_if_table = forecasting_what_if.table\n",
    "forecasting_what_if_production_forecast = forecasting_what_if.production_forecast\n",
    "forecasting_what_if_model = forecasting_what_if.model\n",
    "forecasting_what_if_accuracies = forecasting_what_if.accuracies"
   ]
  },
  {
   "cell_type": "markdown",
   "metadata": {},
   "source": [
    "[Go to Overview](#Overview)"
   ]
  },
  {
   "cell_type": "markdown",
   "metadata": {},
   "source": [
    "<a id='2.2.11'></a>\n",
    "### 2.2.11 quick_forecast"
   ]
  },
  {
   "cell_type": "code",
   "execution_count": 59,
   "metadata": {},
   "outputs": [
    {
     "name": "stdout",
     "output_type": "stream",
     "text": [
      "{'status': 'Queued', 'progress': 0.0, 'createdAt': '2023-05-02T15:46:57.085Z'}\n",
      "{'status': 'Queued', 'progress': 0.0, 'createdAt': '2023-05-02T15:46:57.085Z'}\n",
      "{'status': 'Queued', 'progress': 0.0, 'createdAt': '2023-05-02T15:46:57.085Z'}\n",
      "{'status': 'Queued', 'progress': 0.0, 'createdAt': '2023-05-02T15:46:57.085Z'}\n",
      "{'status': 'Running', 'progress': 88.44, 'createdAt': '2023-05-02T15:46:57.085Z'}\n",
      "{'status': 'Finished', 'progress': 100.0, 'createdAt': '2023-05-02T15:46:57.085Z'}\n",
      "{'status': 'Running', 'createdAt': '2023-05-02T15:47:27.994Z'}\n",
      "{'status': 'Finished', 'progress': 100.0, 'CPU': 0.16, 'memory': 4772.0, 'createdAt': '2023-05-02T15:47:32.013Z'}\n"
     ]
    }
   ],
   "source": [
    "quick_forecast = client.extended_forecasting.quick_forecast(\n",
    "    dataset = dataset,\n",
    "    job_configuration = forecast_build_model_configuration,\n",
    "    workspace_id = None,\n",
    "    dataset_configuration = {},\n",
    "    execute = True,\n",
    "    wait_to_finish = True,\n",
    "    outputs = [\n",
    "      'id',\n",
    "      'details',\n",
    "      'logs',\n",
    "      'status',\n",
    "      'table',\n",
    "      'production_forecast',\n",
    "      'model',\n",
    "      'accuracies',\n",
    "      'production_table',\n",
    "      'production_accuracies'\n",
    "      ],\n",
    "    status_poll = print,\n",
    "    tries_left = 300,\n",
    "    delete_items = True\n",
    " )"
   ]
  },
  {
   "cell_type": "code",
   "execution_count": 61,
   "metadata": {},
   "outputs": [],
   "source": [
    "quick_forecast_upload = quick_forecast.upload_response\n",
    "quick_forecast_response = quick_forecast.forecast_response\n",
    "quick_forecast_delete = quick_forecast.delete_response\n",
    "\n",
    "quick_forecast_id = quick_forecast_response.id\n",
    "quick_forecast_details = quick_forecast_response.details\n",
    "quick_forecast_logs = quick_forecast_response.logs\n",
    "quick_forecast_status = quick_forecast_response.status\n",
    "quick_forecast_table = quick_forecast_response.table\n",
    "quick_forecast_production_forecast = quick_forecast_response.production_forecast\n",
    "quick_forecast_model = quick_forecast_response.model\n",
    "quick_forecast_accuracies = quick_forecast_response.accuracies\n",
    "quick_forecast_production_table = quick_forecast_response.production_table\n",
    "quick_forecast_production_accuracies = quick_forecast_response.production_accuracies"
   ]
  },
  {
   "cell_type": "markdown",
   "metadata": {},
   "source": [
    "[Go to Overview](#Overview)"
   ]
  },
  {
   "cell_type": "markdown",
   "metadata": {},
   "source": [
    "<a id='2.3.0'></a>\n",
    "## 2.3 Detection"
   ]
  },
  {
   "cell_type": "markdown",
   "metadata": {},
   "source": [
    "<a id='2.3.1'></a>\n",
    "### 2.3.1 detection_build_kpi_model"
   ]
  },
  {
   "cell_type": "code",
   "execution_count": 62,
   "metadata": {},
   "outputs": [
    {
     "name": "stdout",
     "output_type": "stream",
     "text": [
      "{'status': 'Running', 'createdAt': '2023-05-02T15:47:48.136Z'}\n",
      "{'status': 'Running', 'progress': 100.0, 'CPU': 0.12, 'memory': 4785.0, 'createdAt': '2023-05-02T15:47:51.461Z'}\n",
      "{'status': 'Finished', 'progress': 100.0, 'CPU': 0.12, 'memory': 4785.0, 'createdAt': '2023-05-02T15:47:51.461Z'}\n"
     ]
    }
   ],
   "source": [
    "detection_build_kpi_model = client.extended_detection.build_kpi_model(\n",
    "    configuration = detection_build_kpi_model_configuration,\n",
    "    dataset_id = dataset_id,\n",
    "    execute = True,\n",
    "    wait_to_finish = True,\n",
    "    outputs = [\n",
    "        'id',\n",
    "        'details',\n",
    "        'logs',\n",
    "        'status',\n",
    "        'table',\n",
    "        'model',\n",
    "        'accuracies'\n",
    "    ],\n",
    "    status_poll = print,\n",
    "    tries_left = 300\n",
    " )"
   ]
  },
  {
   "cell_type": "code",
   "execution_count": 63,
   "metadata": {},
   "outputs": [],
   "source": [
    "detection_build_kpi_model_id = detection_build_kpi_model.id\n",
    "detection_build_kpi_model_details = detection_build_kpi_model.details\n",
    "detection_build_kpi_model_logs = detection_build_kpi_model.logs\n",
    "detection_build_kpi_model_status = detection_build_kpi_model.status\n",
    "detection_build_kpi_model_table = detection_build_kpi_model.table\n",
    "detection_build_kpi_model_model = detection_build_kpi_model.model\n",
    "detection_build_kpi_model_accuracies = detection_build_kpi_model.accuracies"
   ]
  },
  {
   "cell_type": "markdown",
   "metadata": {},
   "source": [
    "[Go to Overview](#Overview)"
   ]
  },
  {
   "cell_type": "markdown",
   "metadata": {},
   "source": [
    "<a id='2.3.2'></a>\n",
    "### 2.3.2 detection_build_system_model"
   ]
  },
  {
   "cell_type": "code",
   "execution_count": 64,
   "metadata": {},
   "outputs": [
    {
     "name": "stdout",
     "output_type": "stream",
     "text": [
      "{'status': 'Running', 'createdAt': '2023-05-02T15:48:01.361Z'}\n",
      "{'status': 'Finished', 'progress': 100.0, 'CPU': 0.1, 'memory': 4783.0, 'createdAt': '2023-05-02T15:48:03.065Z'}\n"
     ]
    }
   ],
   "source": [
    "detection_build_system_model = client.extended_detection.build_system_model(\n",
    "    configuration = detection_build_system_model_configuration,\n",
    "    dataset_id = dataset_id,\n",
    "    execute = True,\n",
    "    wait_to_finish = True,\n",
    "    outputs = [\n",
    "      'id',\n",
    "      'logs',\n",
    "      'status',\n",
    "      'table',\n",
    "      'model',\n",
    "      'accuracies',\n",
    "      ],\n",
    "    status_poll = print,\n",
    "    tries_left = 300\n",
    " )"
   ]
  },
  {
   "cell_type": "code",
   "execution_count": 65,
   "metadata": {
    "tags": []
   },
   "outputs": [],
   "source": [
    "detection_build_system_model_id = detection_build_system_model.id\n",
    "detection_build_system_model_details = detection_build_system_model.details\n",
    "detection_build_system_model_logs = detection_build_system_model.logs\n",
    "detection_build_system_model_status = detection_build_system_model.status\n",
    "detection_build_system_model_table = detection_build_system_model.table\n",
    "detection_build_system_model_model = detection_build_system_model.model\n",
    "detection_build_system_model_accuracies = detection_build_system_model.accuracies"
   ]
  },
  {
   "cell_type": "markdown",
   "metadata": {},
   "source": [
    "[Go to Overview](#Overview)"
   ]
  },
  {
   "cell_type": "markdown",
   "metadata": {},
   "source": [
    "<a id='2.3.3'></a>\n",
    "### 2.3.3 execute_detection_job"
   ]
  },
  {
   "cell_type": "code",
   "execution_count": 66,
   "metadata": {},
   "outputs": [
    {
     "name": "stdout",
     "output_type": "stream",
     "text": [
      "{'status': 'Finished', 'progress': 100.0, 'CPU': 0.1, 'memory': 4783.0, 'createdAt': '2023-05-02T15:48:03.065Z'}\n"
     ]
    }
   ],
   "source": [
    "execute_detection_job = client.extended_detection.execute(\n",
    "    id = detection_build_system_model_id,\n",
    "    wait_to_finish = True,\n",
    "    outputs = None,\n",
    "    status_poll = print,\n",
    "    tries_left = 300\n",
    ")"
   ]
  },
  {
   "cell_type": "markdown",
   "metadata": {},
   "source": [
    "[Go to Overview](#Overview)"
   ]
  },
  {
   "cell_type": "markdown",
   "metadata": {},
   "source": [
    "<a id='2.3.4'></a>\n",
    "### 2.3.4 poll_detect_status"
   ]
  },
  {
   "cell_type": "code",
   "execution_count": 67,
   "metadata": {},
   "outputs": [
    {
     "name": "stdout",
     "output_type": "stream",
     "text": [
      "{'status': 'Finished', 'progress': 100.0, 'CPU': 0.1, 'memory': 4783.0, 'createdAt': '2023-05-02T15:48:03.065Z'}\n"
     ]
    }
   ],
   "source": [
    "poll_detect_status = client.extended_detection.poll_detect_status(\n",
    "    id = detection_build_system_model_id,\n",
    "    status_poll = print,\n",
    "    tries_left = 300\n",
    ")"
   ]
  },
  {
   "cell_type": "markdown",
   "metadata": {},
   "source": [
    "[Go to Overview](#Overview)"
   ]
  },
  {
   "cell_type": "markdown",
   "metadata": {},
   "source": [
    "<a id='2.3.5'></a>\n",
    "### 2.3.5 detection_job_results"
   ]
  },
  {
   "cell_type": "code",
   "execution_count": 68,
   "metadata": {},
   "outputs": [],
   "source": [
    "detection_job_results = client.extended_detection.results(\n",
    "    id = detection_build_system_model_id,\n",
    "    outputs = [\n",
    "        'id',\n",
    "        'details',\n",
    "        'logs',\n",
    "        'status',\n",
    "        'table',\n",
    "        'model',\n",
    "        'accuracies',\n",
    "    ]\n",
    ")"
   ]
  },
  {
   "cell_type": "code",
   "execution_count": 69,
   "metadata": {},
   "outputs": [],
   "source": [
    "detection_job_results_id = detection_job_results.id\n",
    "detection_job_results_details = detection_job_results.details\n",
    "detection_job_results_logs = detection_job_results.logs\n",
    "detection_job_results_status = detection_job_results.status\n",
    "detection_job_results_table = detection_job_results.table\n",
    "detection_job_results_model = detection_job_results.model\n",
    "detection_job_results_accuracies = detection_job_results.accuracies"
   ]
  },
  {
   "cell_type": "markdown",
   "metadata": {},
   "source": [
    "[Go to Overview](#Overview)"
   ]
  },
  {
   "cell_type": "markdown",
   "metadata": {},
   "source": [
    "<a id='2.3.6'></a>\n",
    "### 2.3.6 detection_rebuild_kpi_model"
   ]
  },
  {
   "cell_type": "code",
   "execution_count": 70,
   "metadata": {},
   "outputs": [
    {
     "name": "stdout",
     "output_type": "stream",
     "text": [
      "{'status': 'Running', 'createdAt': '2023-05-02T15:49:01.889Z'}\n",
      "{'status': 'Running', 'progress': 60.0, 'CPU': 0.17, 'memory': 4842.0, 'createdAt': '2023-05-02T15:49:04.865Z'}\n",
      "{'status': 'FinishedWithWarning', 'progress': 100.0, 'CPU': 0.17, 'memory': 4902.0, 'createdAt': '2023-05-02T15:49:05.564Z'}\n"
     ]
    }
   ],
   "source": [
    "detection_rebuild_kpi_model = client.extended_detection.rebuild_kpi_model(\n",
    "    parent_job_id = detection_build_kpi_model_id,\n",
    "    configuration = detection_rebuild_kpi_model_configuration,\n",
    "    execute = True,\n",
    "    wait_to_finish = True,\n",
    "    outputs = [\n",
    "      'id',\n",
    "      'logs',\n",
    "      'status',\n",
    "      'table',\n",
    "      'model',\n",
    "      'accuracies',\n",
    "      ],\n",
    "    status_poll = print,\n",
    "    tries_left = 300\n",
    " )"
   ]
  },
  {
   "cell_type": "markdown",
   "metadata": {},
   "source": [
    "[Go to Overview](#Overview)"
   ]
  },
  {
   "cell_type": "markdown",
   "metadata": {},
   "source": [
    "<a id='2.3.7'></a>\n",
    "### 2.3.7 detection_detect"
   ]
  },
  {
   "cell_type": "code",
   "execution_count": 71,
   "metadata": {},
   "outputs": [
    {
     "name": "stdout",
     "output_type": "stream",
     "text": [
      "{'status': 'Running', 'createdAt': '2023-05-02T15:49:11.724Z'}\n",
      "{'status': 'Running', 'createdAt': '2023-05-02T15:49:11.724Z'}\n",
      "{'status': 'Finished', 'progress': 100.0, 'CPU': 0.14, 'memory': 4771.0, 'createdAt': '2023-05-02T15:49:16.988Z'}\n"
     ]
    }
   ],
   "source": [
    "detection_detect = client.extended_detection.detect(\n",
    "    parent_job_id = detection_build_kpi_model_id,\n",
    "    configuration = detection_detect_configuration,\n",
    "    execute = True,\n",
    "    wait_to_finish = True,\n",
    "    outputs = [\n",
    "        'id',\n",
    "        'details',\n",
    "        'logs',\n",
    "        'status',\n",
    "        'table',\n",
    "        'model',\n",
    "        'accuracies',\n",
    "        'production_table',  \n",
    "    ],\n",
    "    status_poll = print,\n",
    "    tries_left = 300\n",
    " )"
   ]
  },
  {
   "cell_type": "code",
   "execution_count": 72,
   "metadata": {},
   "outputs": [],
   "source": [
    "detection_detect_id = detection_detect.id\n",
    "detection_detect_details = detection_detect.details\n",
    "detection_detect_logs = detection_detect.logs\n",
    "detection_detect_status = detection_detect.status\n",
    "detection_detect_table = detection_detect.table\n",
    "detection_detect_model = detection_detect.model\n",
    "detection_detect_accuracies = detection_detect.accuracies\n",
    "detection_detect_production_table = detection_detect.production_table"
   ]
  },
  {
   "cell_type": "markdown",
   "metadata": {},
   "source": [
    "[Go to Overview](#Overview)"
   ]
  },
  {
   "cell_type": "markdown",
   "metadata": {},
   "source": [
    "<a id='2.3.8'></a>\n",
    "### 2.3.8 detection_root_cause_analysis"
   ]
  },
  {
   "cell_type": "code",
   "execution_count": 74,
   "metadata": {},
   "outputs": [
    {
     "name": "stdout",
     "output_type": "stream",
     "text": [
      "{'status': 'Finished', 'progress': 100.0, 'CPU': 0.0, 'memory': 2622.0, 'createdAt': '2023-05-02T15:49:32.148Z'}\n"
     ]
    }
   ],
   "source": [
    "detection_root_cause_analysis = client.extended_detection.root_cause_analysis(\n",
    "    parent_job_id = detection_build_kpi_model_id,\n",
    "    execute = True,\n",
    "    wait_to_finish = True,\n",
    "    outputs = [\n",
    "        'id',\n",
    "        'details',\n",
    "        'logs',\n",
    "        'status',\n",
    "        'results'\n",
    "    ],\n",
    "    index_of_model = [1],\n",
    "    timestamp = None,\n",
    "    radius = None,\n",
    "    status_poll = print,\n",
    "    tries_left = 300\n",
    ")"
   ]
  },
  {
   "cell_type": "code",
   "execution_count": 75,
   "metadata": {},
   "outputs": [],
   "source": [
    "detection_root_cause_analysis_id = detection_root_cause_analysis.id\n",
    "detection_root_cause_analysis_details = detection_root_cause_analysis.details\n",
    "detection_root_cause_analysis_logs = detection_root_cause_analysis.logs\n",
    "detection_root_cause_analysis_status = detection_root_cause_analysis.status\n",
    "detection_root_cause_analysis_results = detection_root_cause_analysis.results"
   ]
  },
  {
   "cell_type": "markdown",
   "metadata": {},
   "source": [
    "[Go to Overview](#Overview)"
   ]
  },
  {
   "cell_type": "markdown",
   "metadata": {},
   "source": [
    "<a id='2.3.9'></a>\n",
    "### 2.3.9 detection_results_rca"
   ]
  },
  {
   "cell_type": "code",
   "execution_count": 77,
   "metadata": {},
   "outputs": [],
   "source": [
    "detection_results_rca = client.extended_detection.results_rca(\n",
    "    id = detection_root_cause_analysis_id,\n",
    "    index_of_model = [1],\n",
    "    timestamp = None,\n",
    "    radius = None,\n",
    "    outputs = [\n",
    "      'id',\n",
    "      'details',\n",
    "      'logs',\n",
    "      'status'\n",
    "      'results',\n",
    "      ]\n",
    ")"
   ]
  },
  {
   "cell_type": "code",
   "execution_count": 78,
   "metadata": {},
   "outputs": [],
   "source": [
    "detection_results_rca_id = detection_results_rca.id\n",
    "detection_results_rca_details = detection_results_rca.details\n",
    "detection_results_rca_logs = detection_results_rca.logs\n",
    "detection_results_rca_status = detection_results_rca.status\n",
    "detection_results_rca_results = detection_results_rca.results"
   ]
  },
  {
   "cell_type": "markdown",
   "metadata": {},
   "source": [
    "[Go to Overview](#Overview)"
   ]
  },
  {
   "cell_type": "markdown",
   "metadata": {},
   "source": [
    "<a id='2.3.10'></a>\n",
    "### 2.3.10 detection_what_if_analysis"
   ]
  },
  {
   "cell_type": "code",
   "execution_count": 79,
   "metadata": {},
   "outputs": [
    {
     "name": "stdout",
     "output_type": "stream",
     "text": [
      "{'status': 'Running', 'createdAt': '2023-05-02T15:52:01.272Z'}\n",
      "{'status': 'Finished', 'progress': 100.0, 'CPU': 0.04, 'memory': 4783.0, 'createdAt': '2023-05-02T15:52:04.366Z'}\n"
     ]
    }
   ],
   "source": [
    "detection_what_if = client.extended_detection.what_if_analysis(\n",
    "    parent_job_id = detection_detect_id,\n",
    "    configuration = detection_what_if_configuration,\n",
    "    execute = True,\n",
    "    wait_to_finish = True,\n",
    "    outputs = [\n",
    "        'id',\n",
    "        'details',\n",
    "        'logs',\n",
    "        'status',\n",
    "        'table',\n",
    "        'model',\n",
    "        'accuracies'\n",
    "    ],\n",
    "    status_poll = print,\n",
    "    tries_left = 300\n",
    ")"
   ]
  },
  {
   "cell_type": "code",
   "execution_count": 80,
   "metadata": {},
   "outputs": [],
   "source": [
    "detection_what_if_id = detection_what_if.id\n",
    "detection_what_if_details = detection_what_if.details\n",
    "detection_what_if_logs = detection_what_if.logs\n",
    "detection_what_if_status = detection_what_if.status\n",
    "detection_what_if_table = detection_what_if.table\n",
    "detection_what_if_model = detection_what_if.model\n",
    "detection_what_if_accuracies = detection_what_if.accuracies"
   ]
  },
  {
   "cell_type": "markdown",
   "metadata": {},
   "source": [
    "[Go to Overview](#Overview)"
   ]
  },
  {
   "cell_type": "markdown",
   "metadata": {},
   "source": [
    "<a id='2.3.11'></a>\n",
    "### 2.3.11 build_outlier_model"
   ]
  },
  {
   "cell_type": "code",
   "execution_count": 84,
   "metadata": {},
   "outputs": [
    {
     "name": "stdout",
     "output_type": "stream",
     "text": [
      "{'status': 'Running', 'progress': 10.43, 'CPU': 0.02, 'memory': 4774.0, 'createdAt': '2023-05-02T15:52:48.642Z'}\n",
      "{'status': 'Finished', 'progress': 100.0, 'CPU': 0.1, 'memory': 4838.0, 'createdAt': '2023-05-02T15:52:50.074Z'}\n"
     ]
    }
   ],
   "source": [
    "detection_build_outlier_model = client.extended_detection.build_outlier_model(\n",
    "    configuration = detection_build_outlier_model_configuration,\n",
    "    dataset_id = dataset_id,\n",
    "    execute = True,\n",
    "    wait_to_finish = True,\n",
    "    outputs = [\n",
    "        'id',\n",
    "        'details',\n",
    "        'logs',\n",
    "        'status',\n",
    "        'table',\n",
    "        'model',\n",
    "        'accuracies'\n",
    "    ],\n",
    "    status_poll = print,\n",
    "    tries_left = 300\n",
    ")"
   ]
  },
  {
   "cell_type": "code",
   "execution_count": 87,
   "metadata": {},
   "outputs": [],
   "source": [
    "detection_build_outlier_model_id = detection_build_outlier_model.id\n",
    "detection_build_outlier_model_details = detection_build_outlier_model.details\n",
    "detection_build_outlier_model_logs = detection_build_outlier_model.logs\n",
    "detection_build_outlier_model_status = detection_build_outlier_model.status\n",
    "detection_build_outlier_model_table = detection_build_outlier_model.table\n",
    "detection_build_outlier_model_model = detection_build_outlier_model.model\n",
    "detection_build_outlier_model_accuracies = detection_build_outlier_model.accuracies\n",
    "detection_build_outlier_model_production_table = detection_build_outlier_model.production_table\n",
    "detection_build_outlier_model_production_accuracies = detection_build_outlier_model.production_accuracies"
   ]
  },
  {
   "cell_type": "markdown",
   "metadata": {},
   "source": [
    "[Go to Overview](#Overview)"
   ]
  },
  {
   "cell_type": "markdown",
   "metadata": {},
   "source": [
    "<a id='2.3.12'></a>\n",
    "### 2.3.12 build_drift_model_kolmogorov_smirnov"
   ]
  },
  {
   "cell_type": "code",
   "execution_count": 90,
   "metadata": {},
   "outputs": [],
   "source": [
    "detection_build_drift_model_kolmogorov_smirnov_configuration = {\n",
    "    # \"name\": \"Job name\",\n",
    "    # \"useCase\": {\"id\": \"47c21df1-f5e5-4310-924c-5ea4c9adcbb2\"},\n",
    "    # \"experiment\": {\"id\": \"f2d3d8ee-3c05-4df7-abcf-b13f44073f42\"},\n",
    "    # \"configuration\": {\n",
    "    #     \"pValue\": 0.05\n",
    "    # },\n",
    "    \"data\": {\n",
    "    #     \"version\": {\"id\": \"a74ae716-a86e-47f0-8a50-d8b21d6d7dd6\"},\n",
    "        # \"referenceRows\":{\"type\":\"Last\",\"baseUnit\": \"Sample\",\"value\": 1}, #{\"type\":\"Last\",\"baseUnit\": \"Sample\",\"value\": 1} or [{\"from\": \"yyyy-mm-dd HH:MM:SS\",\"to\": \"yyyy-mm-dd HH:MM:SS\"}],\n",
    "        \"testRows\":{\"type\":\"Last\",\"baseUnit\": \"Sample\",\"value\": 1}, #{\"type\":\"Last\",\"baseUnit\": \"Sample\",\"value\": 1} or [{\"from\": \"yyyy-mm-dd HH:MM:SS\",\"to\": \"yyyy-mm-dd HH:MM:SS\"}],\n",
    "    #     \"columns\": [\n",
    "    #         1,\n",
    "    #         3,\n",
    "    #         \"wind\"\n",
    "    #     ],\n",
    "    #     \"timeScale\": {\n",
    "    #         \"baseUnit\": \"Hour\",\n",
    "    #         \"value\": 1\n",
    "    #     }\n",
    "    }\n",
    "}"
   ]
  },
  {
   "cell_type": "code",
   "execution_count": 91,
   "metadata": {},
   "outputs": [
    {
     "name": "stdout",
     "output_type": "stream",
     "text": [
      "{'status': 'Running', 'createdAt': '2023-05-02T15:59:24.780Z'}\n",
      "{'status': 'Finished', 'progress': 100.0, 'CPU': 0.02, 'memory': 4778.0, 'createdAt': '2023-05-02T15:59:26.184Z'}\n"
     ]
    }
   ],
   "source": [
    "detection_build_drift_model_kolmogorov_smirnov = client.extended_detection.build_drift_model_kolmogorov_smirnov(\n",
    "    configuration = detection_build_drift_model_kolmogorov_smirnov_configuration,\n",
    "    dataset_id = dataset_id,\n",
    "    execute = True,\n",
    "    wait_to_finish = True,\n",
    "    outputs = [\n",
    "        'id',\n",
    "        'details',\n",
    "        'logs',\n",
    "        'status',\n",
    "        'table',\n",
    "        'model',\n",
    "        'accuracies'\n",
    "    ],\n",
    "    status_poll = print,\n",
    "    tries_left = 300\n",
    ")"
   ]
  },
  {
   "cell_type": "code",
   "execution_count": 92,
   "metadata": {},
   "outputs": [],
   "source": [
    "detection_build_drift_model_kolmogorov_smirnov_id = detection_build_drift_model_kolmogorov_smirnov.id\n",
    "detection_build_drift_model_kolmogorov_smirnov_details = detection_build_drift_model_kolmogorov_smirnov.details\n",
    "detection_build_drift_model_kolmogorov_smirnov_logs = detection_build_drift_model_kolmogorov_smirnov.logs\n",
    "detection_build_drift_model_kolmogorov_smirnov_status = detection_build_drift_model_kolmogorov_smirnov.status\n",
    "detection_build_drift_model_kolmogorov_smirnov_table = detection_build_drift_model_kolmogorov_smirnov.table\n",
    "detection_build_drift_model_kolmogorov_smirnov_model = detection_build_drift_model_kolmogorov_smirnov.model\n",
    "detection_build_drift_model_kolmogorov_smirnov_accuracies = detection_build_drift_model_kolmogorov_smirnov.accuracies"
   ]
  },
  {
   "cell_type": "markdown",
   "metadata": {},
   "source": [
    "[Go to Overview](#Overview)"
   ]
  },
  {
   "cell_type": "markdown",
   "metadata": {},
   "source": [
    "<a id='2.3.13'></a>\n",
    "### 2.3.13 build_drift_model_jensen_shannon"
   ]
  },
  {
   "cell_type": "code",
   "execution_count": 93,
   "metadata": {},
   "outputs": [],
   "source": [
    "detection_build_drift_model_jensen_shannon_configuration = {\n",
    "    # \"name\": \"Job name\",\n",
    "    # \"useCase\": {\"id\": \"47c21df1-f5e5-4310-924c-5ea4c9adcbb2\"},\n",
    "    # \"experiment\": {\"id\": \"f2d3d8ee-3c05-4df7-abcf-b13f44073f42\"},\n",
    "    # \"configuration\": {\n",
    "    #     \"threshold\": 0.01\n",
    "    # },\n",
    "    \"data\": {\n",
    "    #     \"version\": {\"id\": \"a74ae716-a86e-47f0-8a50-d8b21d6d7dd6\"},\n",
    "    #     \"referenceRows\":{\"type\":\"Last\",\"baseUnit\": \"Sample\",\"value\": 1}, #{\"type\":\"Last\",\"baseUnit\": \"Sample\",\"value\": 1} or [{\"from\": \"yyyy-mm-dd HH:MM:SS\",\"to\": \"yyyy-mm-dd HH:MM:SS\"}],\n",
    "        \"testRows\":{\"type\":\"Last\",\"baseUnit\": \"Sample\",\"value\": 1}, #{\"type\":\"Last\",\"baseUnit\": \"Sample\",\"value\": 1} or [{\"from\": \"yyyy-mm-dd HH:MM:SS\",\"to\": \"yyyy-mm-dd HH:MM:SS\"}],\n",
    "    #     \"columns\": [\n",
    "    #         1,\n",
    "    #         3,\n",
    "    #         \"wind\"\n",
    "    #     ],\n",
    "    #     \"timeScale\": {\n",
    "    #         \"baseUnit\": \"Hour\",\n",
    "    #         \"value\": 1\n",
    "    #     }\n",
    "    }\n",
    "}"
   ]
  },
  {
   "cell_type": "code",
   "execution_count": 95,
   "metadata": {},
   "outputs": [
    {
     "name": "stdout",
     "output_type": "stream",
     "text": [
      "{'status': 'Running', 'createdAt': '2023-05-02T16:00:26.487Z'}\n",
      "{'status': 'Running', 'createdAt': '2023-05-02T16:00:26.487Z'}\n",
      "{'status': 'Running', 'progress': 100.0, 'CPU': 1.24, 'memory': 5334.0, 'createdAt': '2023-05-02T16:00:31.848Z'}\n",
      "{'status': 'Finished', 'progress': 100.0, 'CPU': 1.24, 'memory': 5334.0, 'createdAt': '2023-05-02T16:00:31.848Z'}\n"
     ]
    }
   ],
   "source": [
    "detection_build_drift_model_jensen_shannon = client.extended_detection.build_drift_model_jensen_shannon(\n",
    "    configuration = detection_build_drift_model_jensen_shannon_configuration,\n",
    "    dataset_id = dataset_id,\n",
    "    execute = True,\n",
    "    wait_to_finish = True,\n",
    "    outputs = [\n",
    "        'id',\n",
    "        'details',\n",
    "        'logs',\n",
    "        'status',\n",
    "        'table',\n",
    "        'model',\n",
    "        'accuracies'\n",
    "    ],\n",
    "    status_poll = print,\n",
    "    tries_left = 300\n",
    ")"
   ]
  },
  {
   "cell_type": "code",
   "execution_count": 96,
   "metadata": {},
   "outputs": [],
   "source": [
    "detection_build_drift_model_jensen_shannon_id = detection_build_drift_model_jensen_shannon.id\n",
    "detection_build_drift_model_jensen_shannon_details = detection_build_drift_model_jensen_shannon.details\n",
    "detection_build_drift_model_jensen_shannon_logs = detection_build_drift_model_jensen_shannon.logs\n",
    "detection_build_drift_model_jensen_shannon_status = detection_build_drift_model_jensen_shannon.status\n",
    "detection_build_drift_model_jensen_shannon_table = detection_build_drift_model_jensen_shannon.table\n",
    "detection_build_drift_model_jensen_shannon_model = detection_build_drift_model_jensen_shannon.model\n",
    "detection_build_drift_model_jensen_shannon_accuracies = detection_build_drift_model_jensen_shannon.accuracies"
   ]
  },
  {
   "cell_type": "markdown",
   "metadata": {},
   "source": [
    "[Go to Overview](#Overview)"
   ]
  },
  {
   "cell_type": "markdown",
   "metadata": {},
   "source": [
    "<a id='3.0.0'></a>\n",
    "# 3. Endpoints"
   ]
  },
  {
   "cell_type": "code",
   "execution_count": 97,
   "metadata": {},
   "outputs": [],
   "source": [
    "# # ---------------------------------------------------------\n",
    "# client.user_groups.list_user_group\n",
    "# client.user_groups.create_user_group\n",
    "# client.user_groups.details_user_group\n",
    "# client.user_groups.update_user_group\n",
    "# client.user_groups.delete_user_group\n",
    "# # ---------------------------------------------------------\n",
    "# client.workspaces.list_workspace\n",
    "# client.workspaces.create_workspace\n",
    "# client.workspaces.details_workspace\n",
    "# client.workspaces.edit_workspace\n",
    "# client.workspaces.delete_workspace\n",
    "# # ---------------------------------------------------------\n",
    "# client.datasets.upload_dataset\n",
    "# client.datasets.update_dataset\n",
    "# client.datasets.list_dataset\n",
    "# client.datasets.delete_dataset_list\n",
    "# client.datasets.details_dataset\n",
    "# client.datasets.edit_dataset_details\n",
    "# client.datasets.delete_dataset\n",
    "# client.datasets.dataset_logs\n",
    "# client.datasets.logs_dataset_version\n",
    "# client.datasets.list_dataset_versions\n",
    "# client.datasets.details_dataset_version\n",
    "# client.datasets.delete_dataset_version\n",
    "# client.datasets.status_dataset_version\n",
    "# client.datasets.slice_dataset_version\n",
    "# # ---------------------------------------------------------\n",
    "# client.use_cases.list_use_case\n",
    "# client.use_cases.create_use_case\n",
    "# client.use_cases.details_use_case\n",
    "# client.use_cases.edit_use_case\n",
    "# client.use_cases.delete_use_case\n",
    "# # ---------------------------------------------------------\n",
    "# client.experiments.list_experiment\n",
    "# client.experiments.create_experiment\n",
    "# client.experiments.details_experiment\n",
    "# client.experiments.edit_experiment\n",
    "# client.experiments.delete_experiment\n",
    "# # ---------------------------------------------------------\n",
    "# client.forecasting.build_model\n",
    "# client.forecasting.upload_model\n",
    "# client.forecasting.rebuild_model\n",
    "# client.forecasting.retrain_model\n",
    "# client.forecasting.predict\n",
    "# client.forecasting.rca\n",
    "# client.forecasting.what_if\n",
    "# client.forecasting.job_list\n",
    "# client.forecasting.delete_job_list\n",
    "# client.forecasting.job_details\n",
    "# client.forecasting.delete_job\n",
    "# client.forecasting.copy_job\n",
    "# client.forecasting.execute\n",
    "# client.forecasting.job_logs\n",
    "# client.forecasting.status\n",
    "# client.forecasting.status_collect\n",
    "# client.forecasting.results_table\n",
    "# client.forecasting.results_production_forecast\n",
    "# client.forecasting.results_model\n",
    "# client.forecasting.results_accuracies\n",
    "# client.forecasting.results_rca\n",
    "# client.forecasting.results_production_table\n",
    "# client.forecasting.results_production_accuracies\n",
    "# # ---------------------------------------------------------\n",
    "# client.detection.build_kpi_model\n",
    "# client.detection.build_system_model\n",
    "# client.detection.build_outlier_model\n",
    "# client.detection.build_drift_model_kolmogorov_smirnov\n",
    "# client.detection.build_drift_model_jensen_shannon\n",
    "# client.detection.upload_model\n",
    "# client.detection.rebuild_kpi_model\n",
    "# client.detection.detect\n",
    "# client.detection.rca\n",
    "# client.detection.what_if\n",
    "# client.detection.jobs_list\n",
    "# client.detection.delete_job_list\n",
    "# client.detection.job_details\n",
    "# client.detection.delete_job\n",
    "# client.detection.copy_job\n",
    "# client.detection.execute\n",
    "# client.detection.job_logs\n",
    "# client.detection.status\n",
    "# client.detection.status_collect\n",
    "# client.detection.results_table\n",
    "# client.detection.results_model\n",
    "# client.detection.results_accuracies\n",
    "# client.detection.results_rca\n",
    "# client.detection.results_production_table\n",
    "# client.detection.results_production_accuracies\n",
    "# # ---------------------------------------------------------\n",
    "# client.users.details_user\n",
    "# # ---------------------------------------------------------\n",
    "# client.licenses.details_license\n",
    "# client.licenses.storage_license\n",
    "# # ---------------------------------------------------------\n",
    "# client.telemetry.dataset_calls\n",
    "# client.telemetry.job_calls"
   ]
  },
  {
   "cell_type": "markdown",
   "metadata": {},
   "source": [
    "[Go to Overview](#Overview)"
   ]
  },
  {
   "cell_type": "markdown",
   "metadata": {},
   "source": [
    "<a id='3.1.0'></a>\n",
    "## 3.1 User Groups"
   ]
  },
  {
   "cell_type": "markdown",
   "metadata": {},
   "source": [
    "<a id='3.1.1'></a>\n",
    "### 3.1.1 list_user_group"
   ]
  },
  {
   "cell_type": "code",
   "execution_count": 98,
   "metadata": {},
   "outputs": [],
   "source": [
    "user_groups_list_user_group = client.user_groups.list_user_group(\n",
    "#     offset = None,\n",
    "#     limit = None,\n",
    "#     sort = None,\n",
    ")"
   ]
  },
  {
   "cell_type": "markdown",
   "metadata": {},
   "source": [
    "[Go to Overview](#Overview)"
   ]
  },
  {
   "cell_type": "markdown",
   "metadata": {},
   "source": [
    "<a id='3.1.2'></a>\n",
    "### 3.1.2 create_user_group"
   ]
  },
  {
   "cell_type": "code",
   "execution_count": 99,
   "metadata": {},
   "outputs": [
    {
     "ename": "IndexError",
     "evalue": "list index out of range",
     "output_type": "error",
     "traceback": [
      "\u001b[1;31m---------------------------------------------------------------------------\u001b[0m",
      "\u001b[1;31mIndexError\u001b[0m                                Traceback (most recent call last)",
      "Cell \u001b[1;32mIn[99], line 2\u001b[0m\n\u001b[0;32m      1\u001b[0m create_user_group_configuration[\u001b[38;5;124m'\u001b[39m\u001b[38;5;124mname\u001b[39m\u001b[38;5;124m'\u001b[39m] \u001b[38;5;241m=\u001b[39m \u001b[38;5;124m'\u001b[39m\u001b[38;5;124mTutorial\u001b[39m\u001b[38;5;124m'\u001b[39m\n\u001b[1;32m----> 2\u001b[0m create_user_group_configuration[\u001b[38;5;124m'\u001b[39m\u001b[38;5;124musers\u001b[39m\u001b[38;5;124m'\u001b[39m] \u001b[38;5;241m=\u001b[39m [{\u001b[38;5;124m'\u001b[39m\u001b[38;5;124mid\u001b[39m\u001b[38;5;124m'\u001b[39m:\u001b[43m[\u001b[49m\u001b[43mf\u001b[49m\u001b[43m[\u001b[49m\u001b[38;5;124;43m'\u001b[39;49m\u001b[38;5;124;43mcreatedBy\u001b[39;49m\u001b[38;5;124;43m'\u001b[39;49m\u001b[43m]\u001b[49m\u001b[43m \u001b[49m\u001b[38;5;28;43;01mfor\u001b[39;49;00m\u001b[43m \u001b[49m\u001b[43mf\u001b[49m\u001b[43m \u001b[49m\u001b[38;5;129;43;01min\u001b[39;49;00m\u001b[43m \u001b[49m\u001b[43muser_groups_list_user_group\u001b[49m\u001b[43m \u001b[49m\u001b[38;5;28;43;01mif\u001b[39;49;00m\u001b[43m \u001b[49m\u001b[38;5;124;43m'\u001b[39;49m\u001b[38;5;124;43mpersonal user group\u001b[39;49m\u001b[38;5;124;43m'\u001b[39;49m\u001b[43m \u001b[49m\u001b[38;5;129;43;01min\u001b[39;49;00m\u001b[43m \u001b[49m\u001b[43mf\u001b[49m\u001b[43m[\u001b[49m\u001b[38;5;124;43m'\u001b[39;49m\u001b[38;5;124;43mname\u001b[39;49m\u001b[38;5;124;43m'\u001b[39;49m\u001b[43m]\u001b[49m\u001b[43m]\u001b[49m\u001b[43m[\u001b[49m\u001b[38;5;241;43m0\u001b[39;49m\u001b[43m]\u001b[49m,\u001b[38;5;124m\"\u001b[39m\u001b[38;5;124misOwner\u001b[39m\u001b[38;5;124m\"\u001b[39m: \u001b[38;5;28;01mTrue\u001b[39;00m}]\n",
      "\u001b[1;31mIndexError\u001b[0m: list index out of range"
     ]
    }
   ],
   "source": [
    "create_user_group_configuration['name'] = 'Tutorial'\n",
    "create_user_group_configuration['users'] = [{'id':[f['createdBy'] for f in user_groups_list_user_group if 'personal user group' in f['name']][0],\"isOwner\": True}]"
   ]
  },
  {
   "cell_type": "code",
   "execution_count": 80,
   "metadata": {},
   "outputs": [],
   "source": [
    "user_groups_create_user_group = client.user_groups.create_user_group(\n",
    "    configuration = create_user_group_configuration\n",
    ")"
   ]
  },
  {
   "cell_type": "code",
   "execution_count": 81,
   "metadata": {},
   "outputs": [],
   "source": [
    "user_group_id = user_groups_create_user_group['id']"
   ]
  },
  {
   "cell_type": "markdown",
   "metadata": {},
   "source": [
    "[Go to Overview](#Overview)"
   ]
  },
  {
   "cell_type": "markdown",
   "metadata": {},
   "source": [
    "<a id='3.1.3'></a>\n",
    "### 3.1.3 details_user_group"
   ]
  },
  {
   "cell_type": "code",
   "execution_count": 82,
   "metadata": {},
   "outputs": [],
   "source": [
    "user_groups_details_user_group = client.user_groups.details_user_group(\n",
    "    id = user_group_id\n",
    ")"
   ]
  },
  {
   "cell_type": "markdown",
   "metadata": {},
   "source": [
    "[Go to Overview](#Overview)"
   ]
  },
  {
   "cell_type": "markdown",
   "metadata": {},
   "source": [
    "<a id='3.1.4'></a>\n",
    "### 3.1.4 update_user_group"
   ]
  },
  {
   "cell_type": "code",
   "execution_count": 83,
   "metadata": {},
   "outputs": [],
   "source": [
    "user_groups_update_user_group = client.user_groups.update_user_group(\n",
    "    id = user_group_id,\n",
    "    configuration = create_user_group_configuration\n",
    ")"
   ]
  },
  {
   "cell_type": "markdown",
   "metadata": {},
   "source": [
    "[Go to Overview](#Overview)"
   ]
  },
  {
   "cell_type": "markdown",
   "metadata": {},
   "source": [
    "<a id='3.1.5'></a>\n",
    "### 3.1.5 delete_user_group"
   ]
  },
  {
   "cell_type": "code",
   "execution_count": 84,
   "metadata": {},
   "outputs": [],
   "source": [
    "# user_groups_delete_user_group = client.user_groups.delete_user_group(\n",
    "#     id = user_group_id\n",
    "# )"
   ]
  },
  {
   "cell_type": "markdown",
   "metadata": {},
   "source": [
    "[Go to Overview](#Overview)"
   ]
  },
  {
   "cell_type": "markdown",
   "metadata": {},
   "source": [
    "<a id='3.2.0'></a>\n",
    "## 3.2 Workspaces"
   ]
  },
  {
   "cell_type": "markdown",
   "metadata": {},
   "source": [
    "<a id='3.2.1'></a>\n",
    "### 3.2.1 list_workspace"
   ]
  },
  {
   "cell_type": "code",
   "execution_count": 85,
   "metadata": {},
   "outputs": [],
   "source": [
    "workspaces_list_workspace = client.workspaces.list_workspace(\n",
    "#     offset = None,\n",
    "#     limit = None,\n",
    "#     user_group_id = None,\n",
    "#     sort = None\n",
    ")"
   ]
  },
  {
   "cell_type": "markdown",
   "metadata": {},
   "source": [
    "[Go to Overview](#Overview)"
   ]
  },
  {
   "cell_type": "markdown",
   "metadata": {},
   "source": [
    "<a id='3.2.2'></a>\n",
    "### 3.2.2 create_workspace"
   ]
  },
  {
   "cell_type": "code",
   "execution_count": 86,
   "metadata": {},
   "outputs": [],
   "source": [
    "create_workspace_configuration['name'] = 'Tutorial_ws'\n",
    "create_workspace_configuration['userGroup'] = {\"id\": user_group_id}"
   ]
  },
  {
   "cell_type": "code",
   "execution_count": 87,
   "metadata": {},
   "outputs": [],
   "source": [
    "workspaces_create_workspace = client.workspaces.create_workspace(\n",
    "    configuration = create_workspace_configuration\n",
    ")"
   ]
  },
  {
   "cell_type": "code",
   "execution_count": 88,
   "metadata": {},
   "outputs": [],
   "source": [
    "workspace_id = workspaces_create_workspace['id']"
   ]
  },
  {
   "cell_type": "markdown",
   "metadata": {},
   "source": [
    "[Go to Overview](#Overview)"
   ]
  },
  {
   "cell_type": "markdown",
   "metadata": {},
   "source": [
    "<a id='3.2.3'></a>\n",
    "### 3.2.3 details_workspace"
   ]
  },
  {
   "cell_type": "code",
   "execution_count": 89,
   "metadata": {},
   "outputs": [],
   "source": [
    "workspaces_details_workspace = client.workspaces.details_workspace(\n",
    "    id = workspace_id\n",
    ")"
   ]
  },
  {
   "cell_type": "markdown",
   "metadata": {},
   "source": [
    "[Go to Overview](#Overview)"
   ]
  },
  {
   "cell_type": "markdown",
   "metadata": {},
   "source": [
    "<a id='3.2.4'></a>\n",
    "### 3.2.4 edit_workspace"
   ]
  },
  {
   "cell_type": "code",
   "execution_count": 90,
   "metadata": {},
   "outputs": [],
   "source": [
    "workspaces_update_workspace = client.workspaces.edit_workspace(\n",
    "    id = workspace_id,\n",
    "    configuration = edit_workspace_configuration\n",
    ")"
   ]
  },
  {
   "cell_type": "markdown",
   "metadata": {},
   "source": [
    "[Go to Overview](#Overview)"
   ]
  },
  {
   "cell_type": "markdown",
   "metadata": {},
   "source": [
    "<a id='3.2.5'></a>\n",
    "### 3.2.5 delete_workspace"
   ]
  },
  {
   "cell_type": "code",
   "execution_count": 91,
   "metadata": {},
   "outputs": [],
   "source": [
    "# workspaces_delete_workspace = client.workspaces.delete_workspace(\n",
    "#     id = workspace_id\n",
    "# )"
   ]
  },
  {
   "cell_type": "markdown",
   "metadata": {},
   "source": [
    "[Go to Overview](#Overview)"
   ]
  },
  {
   "cell_type": "markdown",
   "metadata": {},
   "source": [
    "<a id='3.3.0'></a>\n",
    "## 3.3 Datasets"
   ]
  },
  {
   "cell_type": "markdown",
   "metadata": {},
   "source": [
    "<a id='3.3.1'></a>\n",
    "### 3.3.1 upload_dataset"
   ]
  },
  {
   "cell_type": "code",
   "execution_count": 92,
   "metadata": {},
   "outputs": [],
   "source": [
    "upload_dataset_configuration['name'] = 'Tutorial_ds'\n",
    "upload_dataset_configuration['workspace'] = {'id':workspace_id}"
   ]
  },
  {
   "cell_type": "code",
   "execution_count": 93,
   "metadata": {},
   "outputs": [],
   "source": [
    "datasets_upload_dataset = client.datasets.upload_dataset(\n",
    "    dataset = dataset,\n",
    "    configuration = upload_dataset_configuration\n",
    ")"
   ]
  },
  {
   "cell_type": "code",
   "execution_count": 94,
   "metadata": {},
   "outputs": [],
   "source": [
    "dataset_id = datasets_upload_dataset['id']\n",
    "dataset_version_id = datasets_upload_dataset['version']['id']"
   ]
  },
  {
   "cell_type": "markdown",
   "metadata": {},
   "source": [
    "[Go to Overview](#Overview)"
   ]
  },
  {
   "cell_type": "markdown",
   "metadata": {},
   "source": [
    "<a id='3.3.2'></a>\n",
    "### 3.3.2 update_dataset"
   ]
  },
  {
   "cell_type": "code",
   "execution_count": 95,
   "metadata": {},
   "outputs": [],
   "source": [
    "datasets_update_dataset = client.datasets.update_dataset(\n",
    "    id = dataset_id,\n",
    "    dataset = dataset,\n",
    "    configuration = update_dataset_configuration\n",
    ")"
   ]
  },
  {
   "cell_type": "markdown",
   "metadata": {},
   "source": [
    "[Go to Overview](#Overview)"
   ]
  },
  {
   "cell_type": "markdown",
   "metadata": {},
   "source": [
    "<a id='3.3.3'></a>\n",
    "### 3.3.3 list_dataset"
   ]
  },
  {
   "cell_type": "code",
   "execution_count": 96,
   "metadata": {},
   "outputs": [],
   "source": [
    "datasets_list_dataset = client.datasets.list_dataset(\n",
    "#     offset = None,\n",
    "#     limit = None,\n",
    "#     workspace_id = None,\n",
    "#     sort = None\n",
    ")"
   ]
  },
  {
   "cell_type": "markdown",
   "metadata": {},
   "source": [
    "[Go to Overview](#Overview)"
   ]
  },
  {
   "cell_type": "markdown",
   "metadata": {},
   "source": [
    "<a id='3.3.4'></a>\n",
    "### 3.3.4 details_dataset"
   ]
  },
  {
   "cell_type": "code",
   "execution_count": 97,
   "metadata": {},
   "outputs": [],
   "source": [
    "datasets_details_dataset = client.datasets.details_dataset(\n",
    "    id = dataset_id\n",
    ")"
   ]
  },
  {
   "cell_type": "markdown",
   "metadata": {},
   "source": [
    "[Go to Overview](#Overview)"
   ]
  },
  {
   "cell_type": "markdown",
   "metadata": {},
   "source": [
    "<a id='3.3.5'></a>\n",
    "### 3.3.5 edit_dataset_details"
   ]
  },
  {
   "cell_type": "code",
   "execution_count": 98,
   "metadata": {},
   "outputs": [],
   "source": [
    "datasets_edit_dataset_details = client.datasets.edit_dataset_details(\n",
    "    id = dataset_id,\n",
    "    configuration = edit_dataset_details_configuration\n",
    ")"
   ]
  },
  {
   "cell_type": "markdown",
   "metadata": {},
   "source": [
    "[Go to Overview](#Overview)"
   ]
  },
  {
   "cell_type": "markdown",
   "metadata": {},
   "source": [
    "<a id='3.3.6'></a>\n",
    "### 3.3.6 dataset_logs"
   ]
  },
  {
   "cell_type": "code",
   "execution_count": 99,
   "metadata": {},
   "outputs": [],
   "source": [
    "datasets_dataset_logs = client.datasets.dataset_logs(\n",
    "    id = dataset_id\n",
    ")"
   ]
  },
  {
   "cell_type": "markdown",
   "metadata": {},
   "source": [
    "[Go to Overview](#Overview)"
   ]
  },
  {
   "cell_type": "markdown",
   "metadata": {},
   "source": [
    "<a id='3.3.7'></a>\n",
    "### 3.3.7 logs_dataset_version"
   ]
  },
  {
   "cell_type": "code",
   "execution_count": 100,
   "metadata": {},
   "outputs": [],
   "source": [
    "datasets_logs_dataset_version = client.datasets.logs_dataset_version(\n",
    "    id = dataset_id,\n",
    "    version = dataset_version_id\n",
    ")"
   ]
  },
  {
   "cell_type": "markdown",
   "metadata": {},
   "source": [
    "[Go to Overview](#Overview)"
   ]
  },
  {
   "cell_type": "markdown",
   "metadata": {},
   "source": [
    "<a id='3.3.8'></a>\n",
    "### 3.3.8 list_dataset_versions"
   ]
  },
  {
   "cell_type": "code",
   "execution_count": 101,
   "metadata": {},
   "outputs": [],
   "source": [
    "datasets_list_dataset_versions = client.datasets.list_dataset_versions(\n",
    "    id = dataset_id\n",
    ")"
   ]
  },
  {
   "cell_type": "markdown",
   "metadata": {},
   "source": [
    "[Go to Overview](#Overview)"
   ]
  },
  {
   "cell_type": "markdown",
   "metadata": {},
   "source": [
    "<a id='3.3.9'></a>\n",
    "### 3.3.9 details_dataset_version"
   ]
  },
  {
   "cell_type": "code",
   "execution_count": 102,
   "metadata": {},
   "outputs": [],
   "source": [
    "datasets_details_dataset_version = client.datasets.details_dataset_version(\n",
    "    id = dataset_id,\n",
    "    version = dataset_version_id\n",
    ")"
   ]
  },
  {
   "cell_type": "markdown",
   "metadata": {},
   "source": [
    "[Go to Overview](#Overview)"
   ]
  },
  {
   "cell_type": "markdown",
   "metadata": {},
   "source": [
    "<a id='3.3.10'></a>\n",
    "### 3.3.10 status_dataset_version"
   ]
  },
  {
   "cell_type": "code",
   "execution_count": 103,
   "metadata": {},
   "outputs": [],
   "source": [
    "datasets_dataset_version_status = client.datasets.status_dataset_version(\n",
    "    id = dataset_id,\n",
    "    version_id = dataset_version_id\n",
    ")"
   ]
  },
  {
   "cell_type": "markdown",
   "metadata": {},
   "source": [
    "[Go to Overview](#Overview)"
   ]
  },
  {
   "cell_type": "markdown",
   "metadata": {},
   "source": [
    "<a id='3.3.11'></a>\n",
    "### 3.3.11 delete_dataset_version"
   ]
  },
  {
   "cell_type": "code",
   "execution_count": 104,
   "metadata": {},
   "outputs": [],
   "source": [
    "# datasets_delete_dataset_version = client.datasets.delete_dataset_version(\n",
    "#     id = dataset_id,\n",
    "#     version = version_id\n",
    "# )"
   ]
  },
  {
   "cell_type": "markdown",
   "metadata": {},
   "source": [
    "[Go to Overview](#Overview)"
   ]
  },
  {
   "cell_type": "markdown",
   "metadata": {},
   "source": [
    "<a id='3.3.12'></a>\n",
    "### 3.3.12 delete_dataset"
   ]
  },
  {
   "cell_type": "code",
   "execution_count": 105,
   "metadata": {},
   "outputs": [],
   "source": [
    "# datasets_delete_dataset = client.datasets.delete_dataset(\n",
    "#     id = dataset_id\n",
    "# )"
   ]
  },
  {
   "cell_type": "markdown",
   "metadata": {},
   "source": [
    "[Go to Overview](#Overview)"
   ]
  },
  {
   "cell_type": "markdown",
   "metadata": {},
   "source": [
    "<a id='3.3.13'></a>\n",
    "### 3.3.13 delete_dataset_list"
   ]
  },
  {
   "cell_type": "code",
   "execution_count": 106,
   "metadata": {},
   "outputs": [],
   "source": [
    "# datasets_delete_dataset_list = client.datasets.delete_dataset_list(workspaceId='2cbfa51d-21b3-4f39-b422-61875ae9ac46')"
   ]
  },
  {
   "cell_type": "markdown",
   "metadata": {},
   "source": [
    "[Go to Overview](#Overview)"
   ]
  },
  {
   "cell_type": "markdown",
   "metadata": {},
   "source": [
    "<a id='3.3.14'></a>\n",
    "### 3.3.14 slice_dataset_version"
   ]
  },
  {
   "cell_type": "code",
   "execution_count": null,
   "metadata": {},
   "outputs": [],
   "source": [
    "datasets_slice_dataset_version = client.datasets.slice_dataset_version(\n",
    "    id = dataset_id,\n",
    "    version_id = dataset_version_id,\n",
    "    configuration = slice_dataset_version_configuration\n",
    ")"
   ]
  },
  {
   "cell_type": "markdown",
   "metadata": {},
   "source": [
    "[Go to Overview](#Overview)"
   ]
  },
  {
   "cell_type": "markdown",
   "metadata": {},
   "source": [
    "<a id='3.4.0'></a>\n",
    "## 3.4 Use Cases"
   ]
  },
  {
   "cell_type": "markdown",
   "metadata": {},
   "source": [
    "<a id='3.4.1'></a>\n",
    "### 3.4.1 list_use_case"
   ]
  },
  {
   "cell_type": "code",
   "execution_count": 107,
   "metadata": {},
   "outputs": [],
   "source": [
    "use_cases_list_use_case = client.use_cases.list_use_case(\n",
    "#     offset = None,\n",
    "#     limit = None,\n",
    "#     user_group_id = None,\n",
    "#     workspace_id = None,\n",
    "#     dataset_id = None,\n",
    "#     sort = None,\n",
    "#     is_panel_data = None,\n",
    ")"
   ]
  },
  {
   "cell_type": "markdown",
   "metadata": {},
   "source": [
    "[Go to Overview](#Overview)"
   ]
  },
  {
   "cell_type": "markdown",
   "metadata": {},
   "source": [
    "<a id='3.4.2'></a>\n",
    "### 3.4.2 create_use_case"
   ]
  },
  {
   "cell_type": "code",
   "execution_count": 108,
   "metadata": {},
   "outputs": [],
   "source": [
    "create_use_case_configuration['name'] = 'Tutorial_uc'\n",
    "create_use_case_configuration['workspace'] = {'id':workspace_id}\n",
    "create_use_case_configuration['dataset'] =  {'id':dataset_id}"
   ]
  },
  {
   "cell_type": "code",
   "execution_count": 109,
   "metadata": {},
   "outputs": [],
   "source": [
    "use_cases_create_use_case = client.use_cases.create_use_case(\n",
    "    configuration = create_use_case_configuration\n",
    ")"
   ]
  },
  {
   "cell_type": "code",
   "execution_count": 110,
   "metadata": {},
   "outputs": [],
   "source": [
    "use_case_id = use_cases_create_use_case['id']"
   ]
  },
  {
   "cell_type": "markdown",
   "metadata": {},
   "source": [
    "[Go to Overview](#Overview)"
   ]
  },
  {
   "cell_type": "markdown",
   "metadata": {},
   "source": [
    "<a id='3.4.3'></a>\n",
    "### 3.4.3 details_use_case"
   ]
  },
  {
   "cell_type": "code",
   "execution_count": 111,
   "metadata": {},
   "outputs": [],
   "source": [
    "use_cases_details_use_case = client.use_cases.details_use_case(\n",
    "    id = use_case_id\n",
    ")"
   ]
  },
  {
   "cell_type": "markdown",
   "metadata": {},
   "source": [
    "[Go to Overview](#Overview)"
   ]
  },
  {
   "cell_type": "markdown",
   "metadata": {},
   "source": [
    "<a id='3.4.4'></a>\n",
    "### 3.4.4 edit_use_case"
   ]
  },
  {
   "cell_type": "code",
   "execution_count": 112,
   "metadata": {},
   "outputs": [],
   "source": [
    "use_cases_update_use_case = client.use_cases.edit_use_case(\n",
    "    id = use_case_id,\n",
    "    configuration = edit_use_case_configuration\n",
    ")"
   ]
  },
  {
   "cell_type": "markdown",
   "metadata": {},
   "source": [
    "[Go to Overview](#Overview)"
   ]
  },
  {
   "cell_type": "markdown",
   "metadata": {},
   "source": [
    "<a id='3.4.5'></a>\n",
    "### 3.4.5 delete_use_case"
   ]
  },
  {
   "cell_type": "code",
   "execution_count": 113,
   "metadata": {},
   "outputs": [],
   "source": [
    "# use_cases_delete_use_case = client.use_cases.delete_use_case(\n",
    "#     id = use_case_id\n",
    "# )"
   ]
  },
  {
   "cell_type": "markdown",
   "metadata": {},
   "source": [
    "[Go to Overview](#Overview)"
   ]
  },
  {
   "cell_type": "markdown",
   "metadata": {},
   "source": [
    "<a id='3.5.0'></a>\n",
    "## 3.5 Experiments"
   ]
  },
  {
   "cell_type": "markdown",
   "metadata": {},
   "source": [
    "<a id='3.5.1'></a>\n",
    "### 3.5.1 list_experiment"
   ]
  },
  {
   "cell_type": "code",
   "execution_count": 114,
   "metadata": {},
   "outputs": [],
   "source": [
    "experiments_list_experiment = client.experiments.list_experiment(\n",
    "#     offset = None,\n",
    "#     limit = None,\n",
    "#     workspace_id = None,\n",
    "#     use_case_id = None,\n",
    "#     dataset_id = None,\n",
    "#     sort = None,\n",
    "#     type = None,\n",
    ")"
   ]
  },
  {
   "cell_type": "markdown",
   "metadata": {},
   "source": [
    "[Go to Overview](#Overview)"
   ]
  },
  {
   "cell_type": "markdown",
   "metadata": {},
   "source": [
    "<a id='3.5.2'></a>\n",
    "### 3.5.2 create_experiment"
   ]
  },
  {
   "cell_type": "code",
   "execution_count": 115,
   "metadata": {},
   "outputs": [],
   "source": [
    "create_experiment_configuration['name'] = 'Tutorial_ex'\n",
    "create_experiment_configuration['useCase'] = {'id':use_case_id}\n",
    "create_experiment_configuration['type'] = 'Forecasting'"
   ]
  },
  {
   "cell_type": "code",
   "execution_count": 116,
   "metadata": {},
   "outputs": [],
   "source": [
    "experiments_create_experiment = client.experiments.create_experiment(\n",
    "    configuration = create_experiment_configuration\n",
    ")"
   ]
  },
  {
   "cell_type": "code",
   "execution_count": 117,
   "metadata": {},
   "outputs": [],
   "source": [
    "experiment_id = experiments_create_experiment['id']"
   ]
  },
  {
   "cell_type": "markdown",
   "metadata": {},
   "source": [
    "[Go to Overview](#Overview)"
   ]
  },
  {
   "cell_type": "markdown",
   "metadata": {},
   "source": [
    "<a id='3.5.3'></a>\n",
    "### 3.5.3 details_experiment"
   ]
  },
  {
   "cell_type": "code",
   "execution_count": 118,
   "metadata": {},
   "outputs": [],
   "source": [
    "experiments_details_experiment = client.experiments.details_experiment(\n",
    "    id = experiment_id\n",
    ")"
   ]
  },
  {
   "cell_type": "markdown",
   "metadata": {},
   "source": [
    "[Go to Overview](#Overview)"
   ]
  },
  {
   "cell_type": "markdown",
   "metadata": {},
   "source": [
    "<a id='3.5.4'></a>\n",
    "### 3.5.4 edit_experiment"
   ]
  },
  {
   "cell_type": "code",
   "execution_count": 119,
   "metadata": {},
   "outputs": [],
   "source": [
    "experiments_update_experiment = client.experiments.edit_experiment(\n",
    "    id = experiment_id,\n",
    "    configuration = edit_experiment_configuration\n",
    ")"
   ]
  },
  {
   "cell_type": "markdown",
   "metadata": {},
   "source": [
    "[Go to Overview](#Overview)"
   ]
  },
  {
   "cell_type": "markdown",
   "metadata": {},
   "source": [
    "<a id='3.5.5'></a>\n",
    "### 3.5.5 delete_experiment"
   ]
  },
  {
   "cell_type": "code",
   "execution_count": 120,
   "metadata": {},
   "outputs": [],
   "source": [
    "# experiments_delete_experiment = client.experiments.delete_experiment(\n",
    "#     id = experiment_id\n",
    "# )"
   ]
  },
  {
   "cell_type": "markdown",
   "metadata": {},
   "source": [
    "[Go to Overview](#Overview)"
   ]
  },
  {
   "cell_type": "markdown",
   "metadata": {},
   "source": [
    "<a id='3.6.0'></a>\n",
    "## 3.6 Forecasting"
   ]
  },
  {
   "cell_type": "markdown",
   "metadata": {},
   "source": [
    "<a id='3.6.1'></a>\n",
    "### 3.6.1 build_model"
   ]
  },
  {
   "cell_type": "code",
   "execution_count": 121,
   "metadata": {},
   "outputs": [],
   "source": [
    "forecast_build_model_configuration['useCase'] = {'id':use_case_id}"
   ]
  },
  {
   "cell_type": "code",
   "execution_count": 122,
   "metadata": {},
   "outputs": [],
   "source": [
    "forecasting_build_model = client.forecasting.build_model(\n",
    "    configuration = forecast_build_model_configuration\n",
    ")"
   ]
  },
  {
   "cell_type": "code",
   "execution_count": 123,
   "metadata": {},
   "outputs": [],
   "source": [
    "forecasting_build_model_id = forecasting_build_model['id']"
   ]
  },
  {
   "cell_type": "markdown",
   "metadata": {},
   "source": [
    "[Go to Overview](#Overview)"
   ]
  },
  {
   "cell_type": "markdown",
   "metadata": {},
   "source": [
    "<a id='3.6.2'></a>\n",
    "### 3.6.2 execute"
   ]
  },
  {
   "cell_type": "code",
   "execution_count": 124,
   "metadata": {},
   "outputs": [],
   "source": [
    "forecasting_execute = client.forecasting.execute(\n",
    "    id = forecasting_build_model_id\n",
    ")"
   ]
  },
  {
   "cell_type": "markdown",
   "metadata": {},
   "source": [
    "[Go to Overview](#Overview)"
   ]
  },
  {
   "cell_type": "markdown",
   "metadata": {},
   "source": [
    "<a id='3.6.3'></a>\n",
    "### 3.6.3 status"
   ]
  },
  {
   "cell_type": "code",
   "execution_count": 130,
   "metadata": {},
   "outputs": [
    {
     "data": {
      "text/plain": [
       "{'status': 'Finished',\n",
       " 'progress': 100.0,\n",
       " 'CPU': 1.2,\n",
       " 'memory': 20.18,\n",
       " 'createdAt': '2023-01-17T12:25:15.013Z'}"
      ]
     },
     "execution_count": 130,
     "metadata": {},
     "output_type": "execute_result"
    }
   ],
   "source": [
    "forecasting_status = client.forecasting.status(\n",
    "    id = forecasting_build_model_id\n",
    ")\n",
    "forecasting_status"
   ]
  },
  {
   "cell_type": "markdown",
   "metadata": {},
   "source": [
    "[Go to Overview](#Overview)"
   ]
  },
  {
   "cell_type": "markdown",
   "metadata": {},
   "source": [
    "<a id='3.6.4'></a>\n",
    "### 3.6.4 rebuild_model"
   ]
  },
  {
   "cell_type": "code",
   "execution_count": 131,
   "metadata": {},
   "outputs": [],
   "source": [
    "forecasting_rebuild_model = client.forecasting.rebuild_model(\n",
    "    parent_job_id = forecasting_build_model_id,\n",
    "    configuration = forecast_rebuild_model_configuration\n",
    ")"
   ]
  },
  {
   "cell_type": "code",
   "execution_count": 132,
   "metadata": {},
   "outputs": [],
   "source": [
    "forecasting_rebuild_model_id = forecasting_rebuild_model['id']"
   ]
  },
  {
   "cell_type": "markdown",
   "metadata": {},
   "source": [
    "[Go to Overview](#Overview)"
   ]
  },
  {
   "cell_type": "markdown",
   "metadata": {},
   "source": [
    "<a id='3.6.5'></a>\n",
    "### 3.6.5 retrain_model"
   ]
  },
  {
   "cell_type": "code",
   "execution_count": 133,
   "metadata": {},
   "outputs": [],
   "source": [
    "forecasting_retrain_model = client.forecasting.retrain_model(\n",
    "    parent_job_id = forecasting_build_model_id,\n",
    "    configuration = forecast_retrain_model_configuration\n",
    ")"
   ]
  },
  {
   "cell_type": "code",
   "execution_count": 134,
   "metadata": {},
   "outputs": [],
   "source": [
    "forecasting_retrain_model_id = forecasting_retrain_model['id']"
   ]
  },
  {
   "cell_type": "markdown",
   "metadata": {},
   "source": [
    "[Go to Overview](#Overview)"
   ]
  },
  {
   "cell_type": "markdown",
   "metadata": {},
   "source": [
    "<a id='3.6.6'></a>\n",
    "### 3.6.6 predict"
   ]
  },
  {
   "cell_type": "code",
   "execution_count": 135,
   "metadata": {},
   "outputs": [],
   "source": [
    "forecasting_predict = client.forecasting.predict(\n",
    "    parent_job_id = forecasting_build_model_id,\n",
    "    configuration = forecast_predict_configuration\n",
    ")"
   ]
  },
  {
   "cell_type": "markdown",
   "metadata": {},
   "source": [
    "[Go to Overview](#Overview)"
   ]
  },
  {
   "cell_type": "markdown",
   "metadata": {},
   "source": [
    "<a id='3.6.7'></a>\n",
    "### 3.6.7 rca"
   ]
  },
  {
   "cell_type": "code",
   "execution_count": 136,
   "metadata": {},
   "outputs": [],
   "source": [
    "forecasting_rca = client.forecasting.rca(\n",
    "    parent_job_id = forecasting_build_model_id\n",
    ")"
   ]
  },
  {
   "cell_type": "code",
   "execution_count": 137,
   "metadata": {},
   "outputs": [],
   "source": [
    "forecasting_rca_id = forecasting_rca['id']\n",
    "forecasting_execute = client.forecasting.execute(id = forecasting_rca_id)"
   ]
  },
  {
   "cell_type": "markdown",
   "metadata": {},
   "source": [
    "[Go to Overview](#Overview)"
   ]
  },
  {
   "cell_type": "markdown",
   "metadata": {},
   "source": [
    "<a id='3.6.8'></a>\n",
    "### 3.6.8 what_if"
   ]
  },
  {
   "cell_type": "code",
   "execution_count": 138,
   "metadata": {},
   "outputs": [],
   "source": [
    "forecasting_what_if = client.forecasting.what_if(\n",
    "    parent_job_id = forecasting_build_model_id,\n",
    "    configuration = forecasting_what_if_configuration\n",
    ")"
   ]
  },
  {
   "cell_type": "markdown",
   "metadata": {},
   "source": [
    "[Go to Overview](#Overview)"
   ]
  },
  {
   "cell_type": "markdown",
   "metadata": {},
   "source": [
    "<a id='3.6.9'></a>\n",
    "### 3.6.9 job_list"
   ]
  },
  {
   "cell_type": "code",
   "execution_count": 139,
   "metadata": {},
   "outputs": [],
   "source": [
    "forecasting_job_list = client.forecasting.job_list(\n",
    "#     offset = None,\n",
    "#     limit = None,\n",
    "#     experiment_id = None,\n",
    "#     use_case_id = None,\n",
    "#     type = None,\n",
    "#     status = None,\n",
    "#     parent_id = None,\n",
    "#     from_datetime = None,\n",
    "#     to_datetime = None,\n",
    "#     sort = None,\n",
    "#     sequence_job_id = None,\n",
    ")"
   ]
  },
  {
   "cell_type": "markdown",
   "metadata": {},
   "source": [
    "[Go to Overview](#Overview)"
   ]
  },
  {
   "cell_type": "markdown",
   "metadata": {},
   "source": [
    "<a id='3.6.10'></a>\n",
    "### 3.6.10 job_details"
   ]
  },
  {
   "cell_type": "code",
   "execution_count": 140,
   "metadata": {},
   "outputs": [],
   "source": [
    "forecasting_job_details= client.forecasting.job_details(\n",
    "    id = forecasting_build_model_id\n",
    ")"
   ]
  },
  {
   "cell_type": "markdown",
   "metadata": {},
   "source": [
    "[Go to Overview](#Overview)"
   ]
  },
  {
   "cell_type": "markdown",
   "metadata": {},
   "source": [
    "<a id='3.6.11'></a>\n",
    "### 3.6.11 delete_job"
   ]
  },
  {
   "cell_type": "code",
   "execution_count": 141,
   "metadata": {},
   "outputs": [],
   "source": [
    "# forecasting_delete_job = client.forecasting.delete_job(\n",
    "#     id = retrain_model_id\n",
    "# )"
   ]
  },
  {
   "cell_type": "markdown",
   "metadata": {},
   "source": [
    "[Go to Overview](#Overview)"
   ]
  },
  {
   "cell_type": "markdown",
   "metadata": {},
   "source": [
    "<a id='3.6.12'></a>\n",
    "### 3.6.12 copy_job"
   ]
  },
  {
   "cell_type": "code",
   "execution_count": 142,
   "metadata": {},
   "outputs": [],
   "source": [
    "forecasting_copy_job = client.forecasting.copy_job(\n",
    "    id = forecasting_build_model_id\n",
    ")"
   ]
  },
  {
   "cell_type": "markdown",
   "metadata": {},
   "source": [
    "[Go to Overview](#Overview)"
   ]
  },
  {
   "cell_type": "markdown",
   "metadata": {},
   "source": [
    "<a id='3.6.13'></a>\n",
    "### 3.6.13 job_logs"
   ]
  },
  {
   "cell_type": "code",
   "execution_count": 143,
   "metadata": {},
   "outputs": [],
   "source": [
    "forecasting_job_logs = client.forecasting.job_logs(\n",
    "    id = forecasting_build_model_id\n",
    ")"
   ]
  },
  {
   "cell_type": "markdown",
   "metadata": {},
   "source": [
    "[Go to Overview](#Overview)"
   ]
  },
  {
   "cell_type": "markdown",
   "metadata": {},
   "source": [
    "<a id='3.6.14'></a>\n",
    "### 3.6.14 status_collect"
   ]
  },
  {
   "cell_type": "code",
   "execution_count": 144,
   "metadata": {},
   "outputs": [],
   "source": [
    "forecasting_status_collect = client.forecasting.status_collect(\n",
    "    id = forecasting_build_model_id\n",
    ")"
   ]
  },
  {
   "cell_type": "markdown",
   "metadata": {},
   "source": [
    "[Go to Overview](#Overview)"
   ]
  },
  {
   "cell_type": "markdown",
   "metadata": {},
   "source": [
    "<a id='3.6.15'></a>\n",
    "### 3.6.15 results_table"
   ]
  },
  {
   "cell_type": "code",
   "execution_count": 145,
   "metadata": {},
   "outputs": [],
   "source": [
    "forecasting_results_table = client.forecasting.results_table(\n",
    "    id = forecasting_build_model_id,\n",
    "#     forecast_type = None,\n",
    "#     model_index = None\n",
    ")"
   ]
  },
  {
   "cell_type": "markdown",
   "metadata": {},
   "source": [
    "[Go to Overview](#Overview)"
   ]
  },
  {
   "cell_type": "markdown",
   "metadata": {},
   "source": [
    "<a id='3.6.16'></a>\n",
    "### 3.6.16 results_production_forecast"
   ]
  },
  {
   "cell_type": "code",
   "execution_count": 146,
   "metadata": {},
   "outputs": [],
   "source": [
    "forecasting_results_production_forecast = client.forecasting.results_production_forecast(\n",
    "    id = forecasting_build_model_id\n",
    ")"
   ]
  },
  {
   "cell_type": "markdown",
   "metadata": {},
   "source": [
    "[Go to Overview](#Overview)"
   ]
  },
  {
   "cell_type": "markdown",
   "metadata": {},
   "source": [
    "<a id='3.6.17'></a>\n",
    "### 3.6.17 results_model"
   ]
  },
  {
   "cell_type": "code",
   "execution_count": 147,
   "metadata": {},
   "outputs": [],
   "source": [
    "forecasting_results_model = client.forecasting.results_model(\n",
    "    id = forecasting_build_model_id\n",
    ")"
   ]
  },
  {
   "cell_type": "markdown",
   "metadata": {},
   "source": [
    "[Go to Overview](#Overview)"
   ]
  },
  {
   "cell_type": "markdown",
   "metadata": {},
   "source": [
    "<a id='3.6.18'></a>\n",
    "### 3.6.18 results_accuracies"
   ]
  },
  {
   "cell_type": "code",
   "execution_count": 148,
   "metadata": {},
   "outputs": [],
   "source": [
    "forecasting_results_accuracies = client.forecasting.results_accuracies(\n",
    "    id = forecasting_build_model_id\n",
    ")"
   ]
  },
  {
   "cell_type": "markdown",
   "metadata": {},
   "source": [
    "[Go to Overview](#Overview)"
   ]
  },
  {
   "cell_type": "markdown",
   "metadata": {},
   "source": [
    "<a id='3.6.19'></a>\n",
    "### 3.6.19 results_rca"
   ]
  },
  {
   "cell_type": "code",
   "execution_count": 149,
   "metadata": {},
   "outputs": [],
   "source": [
    "forecasting_results_rca = client.forecasting.results_rca(\n",
    "    id = forecasting_rca_id,\n",
    "    index_of_model = 1,\n",
    "#     timestamp = None,\n",
    "#     radius = None\n",
    ")"
   ]
  },
  {
   "cell_type": "markdown",
   "metadata": {},
   "source": [
    "[Go to Overview](#Overview)"
   ]
  },
  {
   "cell_type": "markdown",
   "metadata": {},
   "source": [
    "<a id='3.6.20'></a>\n",
    "### 3.6.20 results_production_table"
   ]
  },
  {
   "cell_type": "code",
   "execution_count": 150,
   "metadata": {},
   "outputs": [],
   "source": [
    "forecasting_results_production_table = client.forecasting.results_production_table(\n",
    "    sequence_job_id = forecasting_build_model_id,\n",
    "#     dataset_version_id = None,\n",
    "#     type = None,\n",
    "#     from_datetime = None,\n",
    "#     to_datetime = None,\n",
    "#     allow_overlapping = None,\n",
    "#     colocated_jobs = None,\n",
    ")"
   ]
  },
  {
   "cell_type": "markdown",
   "metadata": {},
   "source": [
    "[Go to Overview](#Overview)"
   ]
  },
  {
   "cell_type": "markdown",
   "metadata": {},
   "source": [
    "<a id='3.6.21'></a>\n",
    "### 3.6.21 results_production_accuracies"
   ]
  },
  {
   "cell_type": "code",
   "execution_count": 151,
   "metadata": {},
   "outputs": [],
   "source": [
    "forecasting_results_production_accuracies = client.forecasting.results_production_accuracies(\n",
    "    sequence_job_id = forecasting_build_model_id,\n",
    "#     dataset_version_id = None,\n",
    "#     type = None,\n",
    "#     from_datetime = None,\n",
    "#     to_datetime = None,\n",
    "#     allow_overlapping = None,\n",
    "#     colocated_jobs = None,\n",
    ")"
   ]
  },
  {
   "cell_type": "markdown",
   "metadata": {},
   "source": [
    "[Go to Overview](#Overview)"
   ]
  },
  {
   "cell_type": "markdown",
   "metadata": {},
   "source": [
    "<a id='3.6.22'></a>\n",
    "### 3.6.22 upload_model"
   ]
  },
  {
   "cell_type": "code",
   "execution_count": 152,
   "metadata": {},
   "outputs": [],
   "source": [
    "forecasting_upload_model_configuration['useCase'] = {'id':use_case_id}\n",
    "forecasting_upload_model_configuration[\"model\"] = forecasting_results_model"
   ]
  },
  {
   "cell_type": "code",
   "execution_count": 153,
   "metadata": {},
   "outputs": [],
   "source": [
    "forecasting_upload_model = client.forecasting.upload_model(\n",
    "    configuration = forecasting_upload_model_configuration\n",
    ")"
   ]
  },
  {
   "cell_type": "markdown",
   "metadata": {},
   "source": [
    "[Go to Overview](#Overview)"
   ]
  },
  {
   "cell_type": "markdown",
   "metadata": {},
   "source": [
    "<a id='3.6.23'></a>\n",
    "### 3.6.23 delete_job_list"
   ]
  },
  {
   "cell_type": "code",
   "execution_count": 154,
   "metadata": {},
   "outputs": [],
   "source": [
    "# forecasting_delete_job_list = client.forecasting.delete_job_list(\n",
    "#     experiment_id = None,\n",
    "#     use_case_id = None,\n",
    "#     type = None,\n",
    "#     status = None,\n",
    "#     parent_id = None,\n",
    "#     from_datetime = None,\n",
    "#     to_datetime = None,\n",
    "# )"
   ]
  },
  {
   "cell_type": "markdown",
   "metadata": {},
   "source": [
    "[Go to Overview](#Overview)"
   ]
  },
  {
   "cell_type": "markdown",
   "metadata": {},
   "source": [
    "<a id='3.7.0'></a>\n",
    "## 3.7 Anomaly Detection"
   ]
  },
  {
   "cell_type": "markdown",
   "metadata": {},
   "source": [
    "<a id='3.7.1'></a>\n",
    "### 3.7.1 build_kpi_model"
   ]
  },
  {
   "cell_type": "code",
   "execution_count": 155,
   "metadata": {},
   "outputs": [],
   "source": [
    "detection_build_kpi_model_configuration['useCase'] = {'id':use_case_id}\n",
    "detection_build_kpi_model_configuration['data'] = {'labelColumn':\"Promo\"}"
   ]
  },
  {
   "cell_type": "code",
   "execution_count": 156,
   "metadata": {},
   "outputs": [],
   "source": [
    "detection_build_kpi_model = client.detection.build_kpi_model(\n",
    "    configuration = detection_build_kpi_model_configuration\n",
    ")"
   ]
  },
  {
   "cell_type": "code",
   "execution_count": 157,
   "metadata": {},
   "outputs": [],
   "source": [
    "build_kpi_model_id = detection_build_kpi_model['id']"
   ]
  },
  {
   "cell_type": "markdown",
   "metadata": {},
   "source": [
    "[Go to Overview](#Overview)"
   ]
  },
  {
   "cell_type": "markdown",
   "metadata": {},
   "source": [
    "<a id='3.7.2'></a>\n",
    "### 3.7.2 build_system_model"
   ]
  },
  {
   "cell_type": "code",
   "execution_count": 158,
   "metadata": {},
   "outputs": [],
   "source": [
    "detection_build_system_model_configuration['useCase'] = {'id':use_case_id}"
   ]
  },
  {
   "cell_type": "code",
   "execution_count": 159,
   "metadata": {},
   "outputs": [],
   "source": [
    "detection_build_system_model = client.detection.build_system_model(\n",
    "    configuration = detection_build_system_model_configuration\n",
    ")"
   ]
  },
  {
   "cell_type": "markdown",
   "metadata": {},
   "source": [
    "[Go to Overview](#Overview)"
   ]
  },
  {
   "cell_type": "markdown",
   "metadata": {},
   "source": [
    "<a id='3.7.3'></a>\n",
    "### 3.7.3 execute"
   ]
  },
  {
   "cell_type": "code",
   "execution_count": 160,
   "metadata": {},
   "outputs": [],
   "source": [
    "detection_execute = client.detection.execute(\n",
    "    id = build_kpi_model_id\n",
    ")"
   ]
  },
  {
   "cell_type": "markdown",
   "metadata": {},
   "source": [
    "[Go to Overview](#Overview)"
   ]
  },
  {
   "cell_type": "markdown",
   "metadata": {},
   "source": [
    "<a id='3.7.4'></a>\n",
    "### 3.7.4 status"
   ]
  },
  {
   "cell_type": "code",
   "execution_count": 164,
   "metadata": {},
   "outputs": [
    {
     "data": {
      "text/plain": [
       "{'status': 'Finished',\n",
       " 'progress': 100.0,\n",
       " 'CPU': 0.67,\n",
       " 'memory': 20.15,\n",
       " 'createdAt': '2023-01-17T12:25:49.568Z'}"
      ]
     },
     "execution_count": 164,
     "metadata": {},
     "output_type": "execute_result"
    }
   ],
   "source": [
    "detection_status = client.detection.status(\n",
    "    id = build_kpi_model_id\n",
    ")\n",
    "detection_status"
   ]
  },
  {
   "cell_type": "markdown",
   "metadata": {},
   "source": [
    "[Go to Overview](#Overview)"
   ]
  },
  {
   "cell_type": "markdown",
   "metadata": {},
   "source": [
    "<a id='3.7.5'></a>\n",
    "### 3.7.5 rebuild_kpi_model"
   ]
  },
  {
   "cell_type": "code",
   "execution_count": 165,
   "metadata": {},
   "outputs": [],
   "source": [
    "detection_rebuild_kpi_model = client.detection.rebuild_kpi_model(\n",
    "    parent_job_id = build_kpi_model_id,\n",
    "    configuration = detection_rebuild_kpi_model_configuration\n",
    ")"
   ]
  },
  {
   "cell_type": "markdown",
   "metadata": {},
   "source": [
    "[Go to Overview](#Overview)"
   ]
  },
  {
   "cell_type": "markdown",
   "metadata": {},
   "source": [
    "<a id='3.7.6'></a>\n",
    "### 3.7.6 detect"
   ]
  },
  {
   "cell_type": "code",
   "execution_count": 166,
   "metadata": {},
   "outputs": [],
   "source": [
    "detection_detect = client.detection.detect(\n",
    "    parent_job_id = build_kpi_model_id,\n",
    "    configuration = detection_detect_configuration\n",
    ")"
   ]
  },
  {
   "cell_type": "code",
   "execution_count": 167,
   "metadata": {},
   "outputs": [],
   "source": [
    "detect_id = detection_detect['id']\n",
    "anomaly_detection_execute = client.detection.execute(id=detect_id)"
   ]
  },
  {
   "cell_type": "markdown",
   "metadata": {},
   "source": [
    "[Go to Overview](#Overview)"
   ]
  },
  {
   "cell_type": "markdown",
   "metadata": {},
   "source": [
    "<a id='3.7.7'></a>\n",
    "### 3.7.7 rca"
   ]
  },
  {
   "cell_type": "code",
   "execution_count": 168,
   "metadata": {},
   "outputs": [],
   "source": [
    "detection_rca = client.detection.rca(\n",
    "    parent_job_id = build_kpi_model_id\n",
    ")"
   ]
  },
  {
   "cell_type": "code",
   "execution_count": 169,
   "metadata": {},
   "outputs": [],
   "source": [
    "ad_rca_id = detection_rca['id']\n",
    "detection_execute = client.detection.execute(id=ad_rca_id)"
   ]
  },
  {
   "cell_type": "markdown",
   "metadata": {},
   "source": [
    "[Go to Overview](#Overview)"
   ]
  },
  {
   "cell_type": "markdown",
   "metadata": {},
   "source": [
    "<a id='3.7.8'></a>\n",
    "### 3.7.8 what_if"
   ]
  },
  {
   "cell_type": "code",
   "execution_count": 170,
   "metadata": {},
   "outputs": [],
   "source": [
    "detection_what_if = client.detection.what_if(\n",
    "    parent_job_id = detect_id,\n",
    "    configuration = detection_what_if_configuration\n",
    ")"
   ]
  },
  {
   "cell_type": "markdown",
   "metadata": {},
   "source": [
    "[Go to Overview](#Overview)"
   ]
  },
  {
   "cell_type": "markdown",
   "metadata": {},
   "source": [
    "<a id='3.7.9'></a>\n",
    "### 3.7.9 job_list"
   ]
  },
  {
   "cell_type": "code",
   "execution_count": 171,
   "metadata": {},
   "outputs": [],
   "source": [
    "detection_job_list = client.detection.job_list(\n",
    "    offset = None,\n",
    "    limit = None,\n",
    "    sort = None,\n",
    "    experiment_id = None,\n",
    "    use_case_id = None,\n",
    "    type = None,\n",
    "    status = None,\n",
    "    parent_id = None,\n",
    "    from_datetime = None,\n",
    "    to_datetime = None,\n",
    ")"
   ]
  },
  {
   "cell_type": "markdown",
   "metadata": {},
   "source": [
    "[Go to Overview](#Overview)"
   ]
  },
  {
   "cell_type": "markdown",
   "metadata": {},
   "source": [
    "<a id='3.7.10'></a>\n",
    "### 3.7.10 delete_job_list"
   ]
  },
  {
   "cell_type": "code",
   "execution_count": 172,
   "metadata": {},
   "outputs": [],
   "source": [
    "# detection_delete_job_list = client.detection.delete_job_list(\n",
    "#     experiment_id = None,\n",
    "#     use_case_id = None,\n",
    "#     type = None,\n",
    "#     approach = None,\n",
    "#     status = None,\n",
    "#     parent_id = None,\n",
    "#     from_datetime = None,\n",
    "#     to_datetime = None,\n",
    "# )"
   ]
  },
  {
   "cell_type": "markdown",
   "metadata": {},
   "source": [
    "[Go to Overview](#Overview)"
   ]
  },
  {
   "cell_type": "markdown",
   "metadata": {},
   "source": [
    "<a id='3.7.11'></a>\n",
    "### 3.7.11 job_details"
   ]
  },
  {
   "cell_type": "code",
   "execution_count": 173,
   "metadata": {},
   "outputs": [],
   "source": [
    "detection_job_details = client.detection.job_details(\n",
    "    id = build_kpi_model_id\n",
    ")"
   ]
  },
  {
   "cell_type": "markdown",
   "metadata": {},
   "source": [
    "[Go to Overview](#Overview)"
   ]
  },
  {
   "cell_type": "markdown",
   "metadata": {},
   "source": [
    "<a id='3.7.12'></a>\n",
    "### 3.7.12 delete_job"
   ]
  },
  {
   "cell_type": "code",
   "execution_count": 174,
   "metadata": {},
   "outputs": [],
   "source": [
    "# detection_delete_job = client.detection.delete_job(id=rebuild_kpi_model_id)"
   ]
  },
  {
   "cell_type": "markdown",
   "metadata": {},
   "source": [
    "[Go to Overview](#Overview)"
   ]
  },
  {
   "cell_type": "markdown",
   "metadata": {},
   "source": [
    "<a id='3.7.13'></a>\n",
    "### 3.7.13 copy_job"
   ]
  },
  {
   "cell_type": "code",
   "execution_count": 175,
   "metadata": {},
   "outputs": [],
   "source": [
    "detection_copy_job = client.detection.copy_job(\n",
    "    id = build_kpi_model_id\n",
    ")"
   ]
  },
  {
   "cell_type": "markdown",
   "metadata": {},
   "source": [
    "[Go to Overview](#Overview)"
   ]
  },
  {
   "cell_type": "markdown",
   "metadata": {},
   "source": [
    "<a id='3.7.14'></a>\n",
    "### 3.7.14 job_logs"
   ]
  },
  {
   "cell_type": "code",
   "execution_count": 176,
   "metadata": {},
   "outputs": [],
   "source": [
    "detection_job_logs = client.detection.job_logs(\n",
    "    id = build_kpi_model_id\n",
    ")"
   ]
  },
  {
   "cell_type": "markdown",
   "metadata": {},
   "source": [
    "[Go to Overview](#Overview)"
   ]
  },
  {
   "cell_type": "markdown",
   "metadata": {},
   "source": [
    "<a id='3.7.15'></a>\n",
    "### 3.7.15 status_collect"
   ]
  },
  {
   "cell_type": "code",
   "execution_count": 177,
   "metadata": {},
   "outputs": [],
   "source": [
    "detection_status_collect = client.detection.status_collect(\n",
    "    id = build_kpi_model_id\n",
    ")"
   ]
  },
  {
   "cell_type": "markdown",
   "metadata": {},
   "source": [
    "[Go to Overview](#Overview)"
   ]
  },
  {
   "cell_type": "markdown",
   "metadata": {},
   "source": [
    "<a id='3.7.16'></a>\n",
    "### 3.7.16 results_table"
   ]
  },
  {
   "cell_type": "code",
   "execution_count": 178,
   "metadata": {},
   "outputs": [],
   "source": [
    "detection_results_table = client.detection.results_table(\n",
    "    id = build_kpi_model_id\n",
    ")"
   ]
  },
  {
   "cell_type": "markdown",
   "metadata": {},
   "source": [
    "[Go to Overview](#Overview)"
   ]
  },
  {
   "cell_type": "markdown",
   "metadata": {},
   "source": [
    "<a id='3.7.17'></a>\n",
    "### 3.7.17 results_model"
   ]
  },
  {
   "cell_type": "code",
   "execution_count": 179,
   "metadata": {},
   "outputs": [],
   "source": [
    "detection_results_model = client.detection.results_model(\n",
    "    id = build_kpi_model_id\n",
    ")"
   ]
  },
  {
   "cell_type": "markdown",
   "metadata": {},
   "source": [
    "[Go to Overview](#Overview)"
   ]
  },
  {
   "cell_type": "markdown",
   "metadata": {},
   "source": [
    "<a id='3.7.18'></a>\n",
    "### 3.7.18 results_accuracies"
   ]
  },
  {
   "cell_type": "code",
   "execution_count": 180,
   "metadata": {},
   "outputs": [],
   "source": [
    "detection_results_accuracies = client.detection.results_accuracies(\n",
    "    id = build_kpi_model_id\n",
    ")"
   ]
  },
  {
   "cell_type": "markdown",
   "metadata": {},
   "source": [
    "[Go to Overview](#Overview)"
   ]
  },
  {
   "cell_type": "markdown",
   "metadata": {},
   "source": [
    "<a id='3.7.19'></a>\n",
    "### 3.7.19 results_rca"
   ]
  },
  {
   "cell_type": "code",
   "execution_count": 181,
   "metadata": {},
   "outputs": [],
   "source": [
    "detection_results_rca = client.detection.results_rca(\n",
    "    id = ad_rca_id,\n",
    "#     index_of_model = 1,\n",
    "#     timestamp = None,\n",
    "#     radius = None\n",
    ")"
   ]
  },
  {
   "cell_type": "markdown",
   "metadata": {},
   "source": [
    "[Go to Overview](#Overview)"
   ]
  },
  {
   "cell_type": "markdown",
   "metadata": {},
   "source": [
    "<a id='3.7.20'></a>\n",
    "### 3.7.20 results_production_table"
   ]
  },
  {
   "cell_type": "code",
   "execution_count": 182,
   "metadata": {},
   "outputs": [],
   "source": [
    "detection_results_production_table = client.detection.results_production_table(\n",
    "    sequence_job_id = detect_id,\n",
    "    dataset_version_id = None,\n",
    "    from_datetime = None,\n",
    "    to_datetime = None,\n",
    "    allow_overlapping = None,\n",
    "    colocated_jobs = None,\n",
    ")"
   ]
  },
  {
   "cell_type": "markdown",
   "metadata": {},
   "source": [
    "[Go to Overview](#Overview)"
   ]
  },
  {
   "cell_type": "markdown",
   "metadata": {},
   "source": [
    "<a id='3.7.21'></a>\n",
    "### 3.7.21 results_production_accuracies"
   ]
  },
  {
   "cell_type": "code",
   "execution_count": 183,
   "metadata": {},
   "outputs": [],
   "source": [
    "detection_results_production_accuracies = client.detection.results_production_accuracies(\n",
    "    sequence_job_id = detect_id,\n",
    "    dataset_version_id = None,\n",
    "    from_datetime = None,\n",
    "    to_datetime = None,\n",
    "    allow_overlapping = None,\n",
    "    colocated_jobs = None,\n",
    "    individual_accuracies = None,\n",
    ")"
   ]
  },
  {
   "cell_type": "markdown",
   "metadata": {},
   "source": [
    "[Go to Overview](#Overview)"
   ]
  },
  {
   "cell_type": "markdown",
   "metadata": {},
   "source": [
    "<a id='3.7.22'></a>\n",
    "### 3.7.22 upload_model"
   ]
  },
  {
   "cell_type": "code",
   "execution_count": 184,
   "metadata": {},
   "outputs": [],
   "source": [
    "detection_upload_model_configuration[\"useCase\"] = {'id':use_case_id}\n",
    "detection_upload_model_configuration[\"model\"] = detection_results_model"
   ]
  },
  {
   "cell_type": "code",
   "execution_count": 185,
   "metadata": {},
   "outputs": [],
   "source": [
    "detection_upload_model = client.detection.upload_model(\n",
    "    configuration = detection_upload_model_configuration\n",
    ")"
   ]
  },
  {
   "cell_type": "markdown",
   "metadata": {},
   "source": [
    "[Go to Overview](#Overview)"
   ]
  },
  {
   "cell_type": "markdown",
   "metadata": {},
   "source": [
    "<a id='3.7.23'></a>\n",
    "### 3.7.23 build_outlier_model"
   ]
  },
  {
   "cell_type": "code",
   "execution_count": null,
   "metadata": {},
   "outputs": [],
   "source": [
    "detection_build_outlier_model = client.detection.build_outlier_model(\n",
    "    configuration = detection_build_outlier_model_configuration\n",
    ")"
   ]
  },
  {
   "cell_type": "markdown",
   "metadata": {},
   "source": [
    "[Go to Overview](#Overview)"
   ]
  },
  {
   "cell_type": "markdown",
   "metadata": {},
   "source": [
    "<a id='3.7.24'></a>\n",
    "### 3.7.24 build_drift_model_kolmogorov_smirnov"
   ]
  },
  {
   "cell_type": "code",
   "execution_count": null,
   "metadata": {},
   "outputs": [],
   "source": [
    "detection_build_outlier_model = client.detection.build_drift_model_kolmogorov_smirnov(\n",
    "    configuration = detection_build_drift_model_kolmogorov_smirnov_configuration\n",
    ")"
   ]
  },
  {
   "cell_type": "markdown",
   "metadata": {},
   "source": [
    "[Go to Overview](#Overview)"
   ]
  },
  {
   "cell_type": "markdown",
   "metadata": {},
   "source": [
    "<a id='3.7.25'></a>\n",
    "### 3.7.25 build_drift_model_jensen_shannon"
   ]
  },
  {
   "cell_type": "code",
   "execution_count": null,
   "metadata": {},
   "outputs": [],
   "source": [
    "detection_build_outlier_model = client.detection.build_drift_model_jensen_shannon(\n",
    "    configuration = detection_build_drift_model_jensen_shannon_configuration\n",
    ")"
   ]
  },
  {
   "cell_type": "markdown",
   "metadata": {},
   "source": [
    "[Go to Overview](#Overview)"
   ]
  },
  {
   "cell_type": "markdown",
   "metadata": {},
   "source": [
    "<a id='3.8.0'></a>\n",
    "## 3.8 Licenses"
   ]
  },
  {
   "cell_type": "markdown",
   "metadata": {},
   "source": [
    "<a id='3.8.1'></a>\n",
    "### 3.8.1 details_license"
   ]
  },
  {
   "cell_type": "code",
   "execution_count": 186,
   "metadata": {},
   "outputs": [],
   "source": [
    "licenses_details_license = client.licenses.details_license()"
   ]
  },
  {
   "cell_type": "markdown",
   "metadata": {},
   "source": [
    "[Go to Overview](#Overview)"
   ]
  },
  {
   "cell_type": "markdown",
   "metadata": {},
   "source": [
    "<a id='3.8.2'></a>\n",
    "### 3.8.2 storage_license"
   ]
  },
  {
   "cell_type": "code",
   "execution_count": 187,
   "metadata": {},
   "outputs": [],
   "source": [
    "licenses_storage_license = client.licenses.storage_license()"
   ]
  },
  {
   "cell_type": "markdown",
   "metadata": {},
   "source": [
    "[Go to Overview](#Overview)"
   ]
  },
  {
   "cell_type": "markdown",
   "metadata": {},
   "source": [
    "<a id='3.9.0'></a>\n",
    "## 3.9 Telemetry"
   ]
  },
  {
   "cell_type": "markdown",
   "metadata": {},
   "source": [
    "<a id='3.9.1'></a>\n",
    "### 3.9.1 dataset_calls"
   ]
  },
  {
   "cell_type": "code",
   "execution_count": 188,
   "metadata": {},
   "outputs": [],
   "source": [
    "telemetry_dataset_calls = client.telemetry.dataset_calls(\n",
    "#     offset = None,\n",
    "#     limit = None,\n",
    "#     dataset_id = None,\n",
    "#     experiment_id = None,\n",
    "#     user_id = None,\n",
    "#     dataset_state = None,\n",
    "#     dataset_version_state = None,\n",
    "#     endpoint_id = None,\n",
    "#     from_datetime = None,\n",
    "#     to_datetime = None,\n",
    "#     sort = None,\n",
    ")"
   ]
  },
  {
   "cell_type": "markdown",
   "metadata": {},
   "source": [
    "[Go to Overview](#Overview)"
   ]
  },
  {
   "cell_type": "markdown",
   "metadata": {},
   "source": [
    "<a id='3.9.2'></a>\n",
    "### 3.9.2 job_calls"
   ]
  },
  {
   "cell_type": "code",
   "execution_count": 189,
   "metadata": {},
   "outputs": [],
   "source": [
    "telemetry_job_calls = client.telemetry.job_calls(\n",
    "#     offset = None,\n",
    "#     limit = None,\n",
    "#     dataset_id = None,\n",
    "#     dataset_version_id = None,\n",
    "#     experiment_id = None,\n",
    "#     job_id = None,\n",
    "#     parent_job_id = None,\n",
    "#     user_id = None,\n",
    "#     type = None,\n",
    "#     job_state = None,\n",
    "#     endpoint_id = None,\n",
    "#     from_datetime = None,\n",
    "#     to_datetime = None,\n",
    "#     from_calculation_time = None,\n",
    "#     to_calculation_time = None,\n",
    "#     sort = None,\n",
    ")"
   ]
  },
  {
   "cell_type": "markdown",
   "metadata": {},
   "source": [
    "[Go to Overview](#Overview)"
   ]
  },
  {
   "cell_type": "markdown",
   "metadata": {},
   "source": [
    "<a id='3.10.0'></a>\n",
    "## 3.10 Users"
   ]
  },
  {
   "cell_type": "markdown",
   "metadata": {},
   "source": [
    "<a id='3.10.1'></a>\n",
    "### 3.10.1 details_user"
   ]
  },
  {
   "cell_type": "code",
   "execution_count": 5,
   "metadata": {},
   "outputs": [],
   "source": [
    "users_details_user = client.users.details_user()"
   ]
  },
  {
   "cell_type": "markdown",
   "metadata": {},
   "source": [
    "[Go to Overview](#Overview)"
   ]
  },
  {
   "cell_type": "markdown",
   "metadata": {},
   "source": [
    "<a id='4.0.0'></a>\n",
    "# 4. Helper functions"
   ]
  },
  {
   "cell_type": "markdown",
   "metadata": {},
   "source": [
    "<a id='4.1.0'></a>\n",
    "## 4.1 Post Process"
   ]
  },
  {
   "cell_type": "markdown",
   "metadata": {},
   "source": [
    "<a id='4.1.1'></a>\n",
    "### 4.1.1 properties"
   ]
  },
  {
   "cell_type": "code",
   "execution_count": 190,
   "metadata": {},
   "outputs": [],
   "source": [
    "properties_df = client.post_process.properties(forecasting_results_model)"
   ]
  },
  {
   "cell_type": "markdown",
   "metadata": {},
   "source": [
    "[Go to Overview](#Overview)"
   ]
  },
  {
   "cell_type": "markdown",
   "metadata": {},
   "source": [
    "<a id='4.1.2'></a>\n",
    "### 4.1.2 features"
   ]
  },
  {
   "cell_type": "code",
   "execution_count": 191,
   "metadata": {},
   "outputs": [],
   "source": [
    "features_df =  client.post_process.features(forecasting_results_model)"
   ]
  },
  {
   "cell_type": "markdown",
   "metadata": {},
   "source": [
    "[Go to Overview](#Overview)"
   ]
  },
  {
   "cell_type": "markdown",
   "metadata": {},
   "source": [
    "<a id='4.1.3'></a>\n",
    "### 4.1.3 forecast_accuracy_table"
   ]
  },
  {
   "cell_type": "code",
   "execution_count": 192,
   "metadata": {},
   "outputs": [],
   "source": [
    "forecast_accuracy_table_df = client.post_process.forecast_accuracy_table(forecasting_results_accuracies)"
   ]
  },
  {
   "cell_type": "markdown",
   "metadata": {},
   "source": [
    "[Go to Overview](#Overview)"
   ]
  },
  {
   "cell_type": "markdown",
   "metadata": {},
   "source": [
    "<a id='5.0.0'></a>\n",
    "# 5. Tutorial Cleanup"
   ]
  },
  {
   "cell_type": "code",
   "execution_count": null,
   "metadata": {},
   "outputs": [],
   "source": [
    "user_groups_delete_user_group = client.user_groups.delete_user_group(id = user_group_id)\n",
    "datasets_delete_dataset = client.datasets.delete_dataset(id = upload_dataset_details['id'])"
   ]
  }
 ],
 "metadata": {
  "kernelspec": {
   "display_name": "Python 3 (ipykernel)",
   "language": "python",
   "name": "python3"
  },
  "language_info": {
   "codemirror_mode": {
    "name": "ipython",
    "version": 3
   },
   "file_extension": ".py",
   "mimetype": "text/x-python",
   "name": "python",
   "nbconvert_exporter": "python",
   "pygments_lexer": "ipython3",
   "version": "3.11.1"
  }
 },
 "nbformat": 4,
 "nbformat_minor": 4
}
